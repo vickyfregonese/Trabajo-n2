{
  "cells": [
    {
      "cell_type": "code",
      "execution_count": null,
      "id": "fb076418",
      "metadata": {
        "id": "fb076418"
      },
      "outputs": [],
      "source": [
        "import numpy as np \n",
        "import pandas as pd \n",
        "import matplotlib.pyplot as plt\n",
        "import geopandas as gpd\n",
        "#import contextily as ctx"
      ]
    },
    {
      "cell_type": "code",
      "execution_count": null,
      "id": "c4978662",
      "metadata": {
        "colab": {
          "base_uri": "https://localhost:8080/",
          "height": 803
        },
        "id": "c4978662",
        "outputId": "0b693a97-9ff7-438a-f52e-73168ee729d1",
        "scrolled": true
      },
      "outputs": [
        {
          "data": {
            "text/html": [
              "<div>\n",
              "<style scoped>\n",
              "    .dataframe tbody tr th:only-of-type {\n",
              "        vertical-align: middle;\n",
              "    }\n",
              "\n",
              "    .dataframe tbody tr th {\n",
              "        vertical-align: top;\n",
              "    }\n",
              "\n",
              "    .dataframe thead th {\n",
              "        text-align: right;\n",
              "    }\n",
              "</style>\n",
              "<table border=\"1\" class=\"dataframe\">\n",
              "  <thead>\n",
              "    <tr style=\"text-align: right;\">\n",
              "      <th></th>\n",
              "      <th>CODIGO_DISTRITO</th>\n",
              "      <th>CODIGO_SECCION</th>\n",
              "      <th>CODIGO_CIRCUITO</th>\n",
              "      <th>CODIGO_MESA</th>\n",
              "      <th>CODIGO_CATEGORIA</th>\n",
              "      <th>CODIGO_AGRUPACION</th>\n",
              "      <th>VOTOS_AGRUPACION</th>\n",
              "      <th>NOMBRE_CATEGORIA</th>\n",
              "      <th>NOMBRE_REGION</th>\n",
              "      <th>NOMBRE_AGRUPACION</th>\n",
              "    </tr>\n",
              "  </thead>\n",
              "  <tbody>\n",
              "    <tr>\n",
              "      <th>0</th>\n",
              "      <td>1</td>\n",
              "      <td>1001</td>\n",
              "      <td>1001000001</td>\n",
              "      <td>0100100001X</td>\n",
              "      <td>100000000000</td>\n",
              "      <td>13</td>\n",
              "      <td>1</td>\n",
              "      <td>Presidente y Vicepresidente de la República</td>\n",
              "      <td>COMUNA 01</td>\n",
              "      <td>MOVIMIENTO AL SOCIALISMO</td>\n",
              "    </tr>\n",
              "    <tr>\n",
              "      <th>1</th>\n",
              "      <td>1</td>\n",
              "      <td>1001</td>\n",
              "      <td>1001000001</td>\n",
              "      <td>0100100001X</td>\n",
              "      <td>100000000000</td>\n",
              "      <td>131</td>\n",
              "      <td>5</td>\n",
              "      <td>Presidente y Vicepresidente de la República</td>\n",
              "      <td>COMUNA 01</td>\n",
              "      <td>FRENTE NOS</td>\n",
              "    </tr>\n",
              "    <tr>\n",
              "      <th>2</th>\n",
              "      <td>1</td>\n",
              "      <td>1001</td>\n",
              "      <td>1001000001</td>\n",
              "      <td>0100100001X</td>\n",
              "      <td>100000000000</td>\n",
              "      <td>132</td>\n",
              "      <td>2</td>\n",
              "      <td>Presidente y Vicepresidente de la República</td>\n",
              "      <td>COMUNA 01</td>\n",
              "      <td>FRENTE PATRIOTA</td>\n",
              "    </tr>\n",
              "    <tr>\n",
              "      <th>3</th>\n",
              "      <td>1</td>\n",
              "      <td>1001</td>\n",
              "      <td>1001000001</td>\n",
              "      <td>0100100001X</td>\n",
              "      <td>100000000000</td>\n",
              "      <td>133</td>\n",
              "      <td>15</td>\n",
              "      <td>Presidente y Vicepresidente de la República</td>\n",
              "      <td>COMUNA 01</td>\n",
              "      <td>FRENTE DE IZQUIERDA Y DE TRABAJADORES - UNIDAD</td>\n",
              "    </tr>\n",
              "    <tr>\n",
              "      <th>4</th>\n",
              "      <td>1</td>\n",
              "      <td>1001</td>\n",
              "      <td>1001000001</td>\n",
              "      <td>0100100001X</td>\n",
              "      <td>100000000000</td>\n",
              "      <td>135</td>\n",
              "      <td>85</td>\n",
              "      <td>Presidente y Vicepresidente de la República</td>\n",
              "      <td>COMUNA 01</td>\n",
              "      <td>JUNTOS POR EL CAMBIO</td>\n",
              "    </tr>\n",
              "    <tr>\n",
              "      <th>...</th>\n",
              "      <td>...</td>\n",
              "      <td>...</td>\n",
              "      <td>...</td>\n",
              "      <td>...</td>\n",
              "      <td>...</td>\n",
              "      <td>...</td>\n",
              "      <td>...</td>\n",
              "      <td>...</td>\n",
              "      <td>...</td>\n",
              "      <td>...</td>\n",
              "    </tr>\n",
              "    <tr>\n",
              "      <th>616673</th>\n",
              "      <td>1</td>\n",
              "      <td>1015</td>\n",
              "      <td>1015000167</td>\n",
              "      <td>0101507413X</td>\n",
              "      <td>901015000000</td>\n",
              "      <td>87</td>\n",
              "      <td>7</td>\n",
              "      <td>Junta Comunal Ciudad Autónoma de Buenos Aires ...</td>\n",
              "      <td>COMUNA 15</td>\n",
              "      <td>UNITE POR LA LIBERTAD Y LA DIGNIDAD</td>\n",
              "    </tr>\n",
              "    <tr>\n",
              "      <th>616674</th>\n",
              "      <td>1</td>\n",
              "      <td>1015</td>\n",
              "      <td>1015000167</td>\n",
              "      <td>0101507413X</td>\n",
              "      <td>901015000000</td>\n",
              "      <td>VB</td>\n",
              "      <td>25</td>\n",
              "      <td>Junta Comunal Ciudad Autónoma de Buenos Aires ...</td>\n",
              "      <td>COMUNA 15</td>\n",
              "      <td>BLANCO</td>\n",
              "    </tr>\n",
              "    <tr>\n",
              "      <th>616675</th>\n",
              "      <td>1</td>\n",
              "      <td>1015</td>\n",
              "      <td>1015000167</td>\n",
              "      <td>0101507413X</td>\n",
              "      <td>901015000000</td>\n",
              "      <td>VII</td>\n",
              "      <td>0</td>\n",
              "      <td>Junta Comunal Ciudad Autónoma de Buenos Aires ...</td>\n",
              "      <td>COMUNA 15</td>\n",
              "      <td>IMPUGNADO</td>\n",
              "    </tr>\n",
              "    <tr>\n",
              "      <th>616676</th>\n",
              "      <td>1</td>\n",
              "      <td>1015</td>\n",
              "      <td>1015000167</td>\n",
              "      <td>0101507413X</td>\n",
              "      <td>901015000000</td>\n",
              "      <td>VN</td>\n",
              "      <td>0</td>\n",
              "      <td>Junta Comunal Ciudad Autónoma de Buenos Aires ...</td>\n",
              "      <td>COMUNA 15</td>\n",
              "      <td>NULO</td>\n",
              "    </tr>\n",
              "    <tr>\n",
              "      <th>616677</th>\n",
              "      <td>1</td>\n",
              "      <td>1015</td>\n",
              "      <td>1015000167</td>\n",
              "      <td>0101507413X</td>\n",
              "      <td>901015000000</td>\n",
              "      <td>VR</td>\n",
              "      <td>0</td>\n",
              "      <td>Junta Comunal Ciudad Autónoma de Buenos Aires ...</td>\n",
              "      <td>COMUNA 15</td>\n",
              "      <td>RECURRIDO</td>\n",
              "    </tr>\n",
              "  </tbody>\n",
              "</table>\n",
              "<p>616678 rows × 10 columns</p>\n",
              "</div>"
            ],
            "text/plain": [
              "        CODIGO_DISTRITO  ...                               NOMBRE_AGRUPACION\n",
              "0                     1  ...                        MOVIMIENTO AL SOCIALISMO\n",
              "1                     1  ...                                      FRENTE NOS\n",
              "2                     1  ...                                 FRENTE PATRIOTA\n",
              "3                     1  ...  FRENTE DE IZQUIERDA Y DE TRABAJADORES - UNIDAD\n",
              "4                     1  ...                            JUNTOS POR EL CAMBIO\n",
              "...                 ...  ...                                             ...\n",
              "616673                1  ...             UNITE POR LA LIBERTAD Y LA DIGNIDAD\n",
              "616674                1  ...                                          BLANCO\n",
              "616675                1  ...                                       IMPUGNADO\n",
              "616676                1  ...                                            NULO\n",
              "616677                1  ...                                       RECURRIDO\n",
              "\n",
              "[616678 rows x 10 columns]"
            ]
          },
          "execution_count": 6,
          "metadata": {},
          "output_type": "execute_result"
        }
      ],
      "source": [
        "\n",
        "base_total = pd.read_csv(\"https://raw.githubusercontent.com/MET4OP-UBA/MET4OP/master/dataset/elecciones_2019/resultados/120819-054029/datos_agrup.csv\")   \n",
        "base_total\n"
      ]
    },
    {
      "cell_type": "code",
      "execution_count": null,
      "id": "heYO-jVue8Jw",
      "metadata": {
        "id": "heYO-jVue8Jw"
      },
      "outputs": [],
      "source": [
        "base_limpia = base_total[['VOTOS_AGRUPACION','NOMBRE_CATEGORIA','NOMBRE_REGION','NOMBRE_AGRUPACION']]"
      ]
    },
    {
      "cell_type": "code",
      "execution_count": null,
      "id": "2480f451",
      "metadata": {
        "colab": {
          "base_uri": "https://localhost:8080/"
        },
        "id": "2480f451",
        "outputId": "29b42c0f-b98b-4d3c-9162-599cb923b110"
      },
      "outputs": [
        {
          "name": "stdout",
          "output_type": "stream",
          "text": [
            "        VOTOS_AGRUPACION  ...                               NOMBRE_AGRUPACION\n",
            "0                      1  ...                        MOVIMIENTO AL SOCIALISMO\n",
            "1                      5  ...                                      FRENTE NOS\n",
            "2                      2  ...                                 FRENTE PATRIOTA\n",
            "3                     15  ...  FRENTE DE IZQUIERDA Y DE TRABAJADORES - UNIDAD\n",
            "4                     85  ...                            JUNTOS POR EL CAMBIO\n",
            "...                  ...  ...                                             ...\n",
            "103721                10  ...             UNITE POR LA LIBERTAD Y LA DIGNIDAD\n",
            "103722                13  ...                                          BLANCO\n",
            "103723                 0  ...                                       IMPUGNADO\n",
            "103724                 0  ...                                            NULO\n",
            "103725                 0  ...                                       RECURRIDO\n",
            "\n",
            "[103726 rows x 4 columns]\n"
          ]
        }
      ],
      "source": [
        "#Filtramos las variables de Presidente y Vicepresidente\n",
        "presi_vice = base_limpia[base_limpia[\"NOMBRE_CATEGORIA\"]== 'Presidente y Vicepresidente de la República']\n",
        "print(presi_vice)"
      ]
    },
    {
      "cell_type": "code",
      "execution_count": null,
      "id": "e6cb57eb",
      "metadata": {
        "id": "e6cb57eb"
      },
      "outputs": [],
      "source": [
        "import os\n",
        "import seaborn as sns\n",
        "import matplotlib.pyplot as plt"
      ]
    },
    {
      "cell_type": "code",
      "execution_count": null,
      "id": "d861400c",
      "metadata": {
        "id": "d861400c",
        "outputId": "3b86ba12-0464-4317-d58e-2f2a109efe4b"
      },
      "outputs": [
        {
          "data": {
            "text/plain": [
              "NOMBRE_AGRUPACION\n",
              "BLANCO                                             62397\n",
              "CONSENSO FEDERAL                                  168607\n",
              "FRENTE DE IZQUIERDA Y DE TRABAJADORES - UNIDAD     75746\n",
              "FRENTE DE TODOS                                   637891\n",
              "FRENTE NOS                                         22592\n",
              "FRENTE PATRIOTA                                     5172\n",
              "IMPUGNADO                                            383\n",
              "JUNTOS POR EL CAMBIO                              863169\n",
              "MOVIMIENTO AL SOCIALISMO                           21470\n",
              "MOVIMIENTO DE ACCION VECINAL                        2406\n",
              "NULO                                               19116\n",
              "PARTIDO AUTONOMISTA                                 2126\n",
              "RECURRIDO                                            644\n",
              "UNITE POR LA LIBERTAD Y LA DIGNIDAD                68828\n",
              "Name: VOTOS_AGRUPACION, dtype: int64"
            ]
          },
          "execution_count": 25,
          "metadata": {},
          "output_type": "execute_result"
        }
      ],
      "source": [
        "total_agrupados=presi_vice.groupby(\"NOMBRE_AGRUPACION\")[\"VOTOS_AGRUPACION\"].sum()\n",
        "total_agrupados\n"
      ]
    },
    {
      "cell_type": "code",
      "execution_count": null,
      "id": "ef4c41f4",
      "metadata": {
        "id": "ef4c41f4",
        "outputId": "7ca200b5-e9a9-4414-ee9e-e417f636cbf4"
      },
      "outputs": [
        {
          "data": {
            "image/png": "[encoded data removed]",
            "text/plain": [
              "<Figure size 1080x720 with 1 Axes>"
            ]
          },
          "metadata": {
            "needs_background": "light"
          },
          "output_type": "display_data"
        }
      ],
      "source": [
        "plt.figure(figsize=(15,10))\n",
        "color = [\"#ADD8E6\"if partido==\"UNITE POR LA LIBERTAD Y LA DIGNIDAD\" else \"#008080\" for partido in total_agrupados.index]\n",
        "plt.bar(x=total_agrupados.index,height=total_agrupados,color=color)        \n",
        "plt.xticks(rotation=90)\n",
        "plt.title(\"1. Votos por Partido en CABA\",fontsize=20)\n",
        "plt.show()"
      ]
    },
    {
      "cell_type": "code",
      "execution_count": null,
      "id": "3041e94a",
      "metadata": {
        "id": "3041e94a"
      },
      "outputs": [],
      "source": [
        "partido_unite=presi_vice.loc[presi_vice[\"NOMBRE_AGRUPACION\"]==\"UNITE POR LA LIBERTAD Y LA DIGNIDAD\"]\n",
        "votos_comuna= partido_unite.groupby(\"NOMBRE_REGION\")[\"VOTOS_AGRUPACION\"].sum()"
      ]
    },
    {
      "cell_type": "code",
      "execution_count": null,
      "id": "8ed88ea8",
      "metadata": {
        "id": "8ed88ea8",
        "outputId": "915db41a-d134-42c4-a243-e1ea0fe9ff28"
      },
      "outputs": [
        {
          "data": {
            "image/png": "[encoded data removed]",
            "text/plain": [
              "<Figure size 1080x720 with 1 Axes>"
            ]
          },
          "metadata": {
            "needs_background": "light"
          },
          "output_type": "display_data"
        }
      ],
      "source": [
        "plt.figure(figsize=(15,10))\n",
        "plt.bar(x=votos_comuna.index,height=votos_comuna,color=[\"#ADD8E6\"])        \n",
        "plt.xticks(rotation=45)\n",
        "plt.title(\"2. Votos Partído Unite por la Libertad y la Dignidad por comuna\",fontsize=20)\n",
        "plt.show()"
      ]
    },
    {
      "cell_type": "code",
      "execution_count": null,
      "id": "7f434492",
      "metadata": {
        "id": "7f434492"
      },
      "outputs": [],
      "source": [
        "analisis_final= pd.pivot_table(presi_vice,values=\"VOTOS_AGRUPACION\",index=\"NOMBRE_REGION\",columns=\"NOMBRE_AGRUPACION\",aggfunc=\"sum\")"
      ]
    },
    {
      "cell_type": "code",
      "execution_count": null,
      "id": "9fd8b060",
      "metadata": {
        "id": "9fd8b060",
        "outputId": "ba8ba229-7360-40b0-a743-d7b795849707"
      },
      "outputs": [
        {
          "data": {
            "image/png": "[encoded data removed]",
            "text/plain": [
              "<Figure size 1080x1080 with 1 Axes>"
            ]
          },
          "metadata": {
            "needs_background": "light"
          },
          "output_type": "display_data"
        }
      ],
      "source": [
        "colors = [\"gray\",\"C12\",\"red\",\"b\",\"C2\",\"C3\",\"orangered\",\"yellow\",\"C10\",\"indigo\",\"k\",\"silver\",\"C7\",\"lightskyblue\"]\n",
        "analisis_final.plot(kind=\"bar\",stacked=True,figsize=(15,15),ylim=(0,220000),xlabel=\"\",color=colors)\n",
        "plt.title(\"3. Resultados finales: Votos por partido en cada comuna\",fontsize=20)\n",
        "plt.show()  "
      ]
    },
    {
      "cell_type": "markdown",
      "id": "1b04d1e9",
      "metadata": {
        "id": "1b04d1e9"
      },
      "source": [
        "# ANALISIS # \n",
        "\n",
        "El *gráfico N1* expone los resultados generales de las elecciones Primarias Abiertas Simultaneas Obligatorias del 2019\n",
        "para el cargo Ejecutivo Nacional. El partido Unite por la Libertad y la Dignidad se posicionó como la quinta fuerza más votada \n",
        "en la Ciudad Autónoma de Buenos Aires. Si profundizamos en los resultados, como muestra el *gráfico N2*, el partido representado por \n",
        "Jose Luis Espert concentró la mayoría de sus votos en la Comuna 13, que está conformada por los barrios del Noreste de la Ciudad, tales como Nuñez, Colegiales y \n",
        "Belgrano. Contrariamente, bien podría considerarse que en la Comuna 8 (ubicada en la zona Suroeste, entre los barrios Villa \n",
        "Lugano, Villa Soldati y Villa Riachuelo) era evidente que la agrupación no iba a hacer una gran elección. De hecho, así como lo \n",
        "expresa el *gráfico N2*, fue en la comuna que logró menos votos. Y si continuamos con los puntos débiles del partido, en la \n",
        "comuna 4 (Nueva Pompeya, Parque Patricios, Barracas y la Boca) y en la 5 (Almagro y Boedo) se repiten los resultados electorales bajos.\n",
        "\n",
        "Sin embargo, llama la atención que el segundo distrito donde menos votos recibió la nueva fuerza fue en la comuna 2, delimitada por el barrio de\n",
        "Recoleta. Esto puede verse en el *gráfico N3*, allí donde Juntos por el Cambio hizo su mejor performance.\n",
        "\n",
        "Siguiendo éste analisis creemos que la mejor estrategia a llevar adelante por Unite es la siguiente: por un lado, desistir de sus esfuerzos en la campaña electoral allí donde menos\n",
        "desempeño positivo obtuvo, es decir, en el cordón sur de CABA. Inversamente, se recomienda destinar dichos recursos materiales y humanos en aquellos sectores de la capital\n",
        "donde más votos cosechó. Esto, con el objetivo de obtener mas votos de cara a los proximos comicios, pues donde en las PASO le fue bien podría incluso aumentar su caudal. Como ya mencionamos, la comuna 13, más las secciones comprendidas en la comuna 14 (Palermo) y la 12 (Coghlan, Villa Urquiza, Villa Pueyredon y Saavedra), donde tambien tuvo un desempeño considerable.\n",
        "\n",
        "Cabe destacar tambien, como exhibe el *grafico N3* que la tasa de victoria de JxC coincide con el buen desempeño de Unite; esto significa que en las comunas donde JxC ganó, hay una alza en los votos del segundo. Y al posicionarse ambos partidos dentro del mismo espectro ideológico, Espert podría erosionar parte del voto cambiemista a su favor. Y teniendo en cuenta el partido representado por Macri ganó en la comuna 2, se sugiere hacer más hincapie en la campaña electoral y amentar las presencia en esa zona, puesto que es una región con alto potencial de votos en favor de Espert."
      ]
    },
    {
      "cell_type": "markdown",
      "id": "c6ea0253",
      "metadata": {
        "id": "c6ea0253"
      },
      "source": [
        "\n",
        "  ## __PARTE 2__"
      ]
    },
    {
      "cell_type": "code",
      "execution_count": 14,
      "id": "_DzZ8TCAwKrh",
      "metadata": {
        "id": "_DzZ8TCAwKrh"
      },
      "outputs": [],
      "source": [
        "import pandas as pd\n",
        "import geopandas as gpd"
      ]
    },
    {
      "cell_type": "markdown",
      "id": "VdRbg3p3fgmv",
      "metadata": {
        "id": "VdRbg3p3fgmv"
      },
      "source": [
        "### vuelvo a leer la base"
      ]
    },
    {
      "cell_type": "code",
      "execution_count": 29,
      "id": "y5gQtyjbfUO9",
      "metadata": {
        "colab": {
          "base_uri": "https://localhost:8080/",
          "height": 205
        },
        "id": "y5gQtyjbfUO9",
        "outputId": "edf22606-453b-46dc-9d25-e48f4f57e643"
      },
      "outputs": [
        {
          "data": {
            "text/html": [
              "<div>\n",
              "<style scoped>\n",
              "    .dataframe tbody tr th:only-of-type {\n",
              "        vertical-align: middle;\n",
              "    }\n",
              "\n",
              "    .dataframe tbody tr th {\n",
              "        vertical-align: top;\n",
              "    }\n",
              "\n",
              "    .dataframe thead th {\n",
              "        text-align: right;\n",
              "    }\n",
              "</style>\n",
              "<table border=\"1\" class=\"dataframe\">\n",
              "  <thead>\n",
              "    <tr style=\"text-align: right;\">\n",
              "      <th></th>\n",
              "      <th>NOMBRE_REGION</th>\n",
              "      <th>NOMBRE_AGRUPACION</th>\n",
              "      <th>VOTOS_AGRUPACION</th>\n",
              "    </tr>\n",
              "  </thead>\n",
              "  <tbody>\n",
              "    <tr>\n",
              "      <th>0</th>\n",
              "      <td>COMUNA 01</td>\n",
              "      <td>BLANCO</td>\n",
              "      <td>3674</td>\n",
              "    </tr>\n",
              "    <tr>\n",
              "      <th>1</th>\n",
              "      <td>COMUNA 01</td>\n",
              "      <td>CONSENSO FEDERAL</td>\n",
              "      <td>8305</td>\n",
              "    </tr>\n",
              "    <tr>\n",
              "      <th>2</th>\n",
              "      <td>COMUNA 01</td>\n",
              "      <td>FRENTE DE IZQUIERDA Y DE TRABAJADORES - UNIDAD</td>\n",
              "      <td>4368</td>\n",
              "    </tr>\n",
              "    <tr>\n",
              "      <th>3</th>\n",
              "      <td>COMUNA 01</td>\n",
              "      <td>FRENTE DE TODOS</td>\n",
              "      <td>42299</td>\n",
              "    </tr>\n",
              "    <tr>\n",
              "      <th>4</th>\n",
              "      <td>COMUNA 01</td>\n",
              "      <td>FRENTE NOS</td>\n",
              "      <td>1763</td>\n",
              "    </tr>\n",
              "  </tbody>\n",
              "</table>\n",
              "</div>"
            ],
            "text/plain": [
              "  NOMBRE_REGION  ... VOTOS_AGRUPACION\n",
              "0     COMUNA 01  ...             3674\n",
              "1     COMUNA 01  ...             8305\n",
              "2     COMUNA 01  ...             4368\n",
              "3     COMUNA 01  ...            42299\n",
              "4     COMUNA 01  ...             1763\n",
              "\n",
              "[5 rows x 3 columns]"
            ]
          },
          "execution_count": 29,
          "metadata": {},
          "output_type": "execute_result"
        }
      ],
      "source": [
        "base_total = pd.read_csv(\"https://raw.githubusercontent.com/MET4OP-UBA/MET4OP/master/dataset/elecciones_2019/resultados/120819-054029/datos_agrup.csv\")\n",
        "presi_vice = base_total[base_total['NOMBRE_CATEGORIA']=='Presidente y Vicepresidente de la República']\n",
        "presi_vice = presi_vice.groupby(['NOMBRE_REGION','NOMBRE_AGRUPACION'])['VOTOS_AGRUPACION'].sum().reset_index()  \n",
        "presi_vice.head()"
      ]
    },
    {
      "cell_type": "code",
      "execution_count": 42,
      "id": "l-nUTi-M-VUn",
      "metadata": {
        "colab": {
          "base_uri": "https://localhost:8080/",
          "height": 517
        },
        "id": "l-nUTi-M-VUn",
        "outputId": "7f097ce4-abc5-42d4-f701-217f224e8fa9"
      },
      "outputs": [
        {
          "data": {
            "text/html": [
              "<div>\n",
              "<style scoped>\n",
              "    .dataframe tbody tr th:only-of-type {\n",
              "        vertical-align: middle;\n",
              "    }\n",
              "\n",
              "    .dataframe tbody tr th {\n",
              "        vertical-align: top;\n",
              "    }\n",
              "\n",
              "    .dataframe thead th {\n",
              "        text-align: right;\n",
              "    }\n",
              "</style>\n",
              "<table border=\"1\" class=\"dataframe\">\n",
              "  <thead>\n",
              "    <tr style=\"text-align: right;\">\n",
              "      <th></th>\n",
              "      <th>NOMBRE_REGION</th>\n",
              "      <th>RESULTADO_PARTIDO</th>\n",
              "    </tr>\n",
              "  </thead>\n",
              "  <tbody>\n",
              "    <tr>\n",
              "      <th>0</th>\n",
              "      <td>COMUNA 01</td>\n",
              "      <td>3.364636</td>\n",
              "    </tr>\n",
              "    <tr>\n",
              "      <th>1</th>\n",
              "      <td>COMUNA 02</td>\n",
              "      <td>3.477669</td>\n",
              "    </tr>\n",
              "    <tr>\n",
              "      <th>2</th>\n",
              "      <td>COMUNA 03</td>\n",
              "      <td>3.457753</td>\n",
              "    </tr>\n",
              "    <tr>\n",
              "      <th>3</th>\n",
              "      <td>COMUNA 04</td>\n",
              "      <td>3.019744</td>\n",
              "    </tr>\n",
              "    <tr>\n",
              "      <th>4</th>\n",
              "      <td>COMUNA 05</td>\n",
              "      <td>3.506456</td>\n",
              "    </tr>\n",
              "    <tr>\n",
              "      <th>5</th>\n",
              "      <td>COMUNA 06</td>\n",
              "      <td>3.729799</td>\n",
              "    </tr>\n",
              "    <tr>\n",
              "      <th>6</th>\n",
              "      <td>COMUNA 07</td>\n",
              "      <td>3.801791</td>\n",
              "    </tr>\n",
              "    <tr>\n",
              "      <th>7</th>\n",
              "      <td>COMUNA 08</td>\n",
              "      <td>2.766990</td>\n",
              "    </tr>\n",
              "    <tr>\n",
              "      <th>8</th>\n",
              "      <td>COMUNA 09</td>\n",
              "      <td>3.733967</td>\n",
              "    </tr>\n",
              "    <tr>\n",
              "      <th>9</th>\n",
              "      <td>COMUNA 10</td>\n",
              "      <td>3.678000</td>\n",
              "    </tr>\n",
              "    <tr>\n",
              "      <th>10</th>\n",
              "      <td>COMUNA 11</td>\n",
              "      <td>3.868996</td>\n",
              "    </tr>\n",
              "    <tr>\n",
              "      <th>11</th>\n",
              "      <td>COMUNA 12</td>\n",
              "      <td>3.878837</td>\n",
              "    </tr>\n",
              "    <tr>\n",
              "      <th>12</th>\n",
              "      <td>COMUNA 13</td>\n",
              "      <td>3.745511</td>\n",
              "    </tr>\n",
              "    <tr>\n",
              "      <th>13</th>\n",
              "      <td>COMUNA 14</td>\n",
              "      <td>3.402133</td>\n",
              "    </tr>\n",
              "    <tr>\n",
              "      <th>14</th>\n",
              "      <td>COMUNA 15</td>\n",
              "      <td>3.269621</td>\n",
              "    </tr>\n",
              "  </tbody>\n",
              "</table>\n",
              "</div>"
            ],
            "text/plain": [
              "   NOMBRE_REGION  RESULTADO_PARTIDO\n",
              "0      COMUNA 01           3.364636\n",
              "1      COMUNA 02           3.477669\n",
              "2      COMUNA 03           3.457753\n",
              "3      COMUNA 04           3.019744\n",
              "4      COMUNA 05           3.506456\n",
              "5      COMUNA 06           3.729799\n",
              "6      COMUNA 07           3.801791\n",
              "7      COMUNA 08           2.766990\n",
              "8      COMUNA 09           3.733967\n",
              "9      COMUNA 10           3.678000\n",
              "10     COMUNA 11           3.868996\n",
              "11     COMUNA 12           3.878837\n",
              "12     COMUNA 13           3.745511\n",
              "13     COMUNA 14           3.402133\n",
              "14     COMUNA 15           3.269621"
            ]
          },
          "execution_count": 42,
          "metadata": {},
          "output_type": "execute_result"
        }
      ],
      "source": [
        "resultado_partido = (presi_vice[presi_vice['NOMBRE_AGRUPACION']=='UNITE POR LA LIBERTAD Y LA DIGNIDAD'].groupby('NOMBRE_REGION')['VOTOS_AGRUPACION'].sum() / presi_vice.groupby('NOMBRE_REGION')['VOTOS_AGRUPACION'].sum())*100\n",
        "resultado_partido = pd.DataFrame(resultado_partido).reset_index().rename({'VOTOS_AGRUPACION': 'RESULTADO_PARTIDO'}, axis=1)\n",
        "resultado_partido"
      ]
    },
    {
      "cell_type": "markdown",
      "id": "i3tEQaRD_qzh",
      "metadata": {
        "id": "i3tEQaRD_qzh"
      },
      "source": [
        "### leo datos de los censos"
      ]
    },
    {
      "cell_type": "markdown",
      "id": "0d99bd53",
      "metadata": {
        "id": "0d99bd53"
      },
      "source": [
        "Importo los csv de los censos"
      ]
    },
    {
      "cell_type": "code",
      "execution_count": 16,
      "id": "AgnaKqHfwHbL",
      "metadata": {
        "colab": {
          "base_uri": "https://localhost:8080/",
          "height": 111
        },
        "id": "AgnaKqHfwHbL",
        "outputId": "8a36ae9e-be34-4d35-97f9-71a8087e904f"
      },
      "outputs": [
        {
          "data": {
            "text/html": [
              "<div>\n",
              "<style scoped>\n",
              "    .dataframe tbody tr th:only-of-type {\n",
              "        vertical-align: middle;\n",
              "    }\n",
              "\n",
              "    .dataframe tbody tr th {\n",
              "        vertical-align: top;\n",
              "    }\n",
              "\n",
              "    .dataframe thead th {\n",
              "        text-align: right;\n",
              "    }\n",
              "</style>\n",
              "<table border=\"1\" class=\"dataframe\">\n",
              "  <thead>\n",
              "    <tr style=\"text-align: right;\">\n",
              "      <th></th>\n",
              "      <th>PERSONA_REF_ID</th>\n",
              "      <th>HOGAR_REF_ID</th>\n",
              "      <th>P01</th>\n",
              "      <th>P02</th>\n",
              "      <th>P03</th>\n",
              "      <th>P05</th>\n",
              "      <th>P06</th>\n",
              "      <th>P07</th>\n",
              "      <th>P12</th>\n",
              "      <th>EDADAGRU</th>\n",
              "      <th>EDADQUI</th>\n",
              "      <th>P08</th>\n",
              "      <th>P09</th>\n",
              "      <th>P10</th>\n",
              "      <th>CONDACT</th>\n",
              "    </tr>\n",
              "  </thead>\n",
              "  <tbody>\n",
              "    <tr>\n",
              "      <th>0</th>\n",
              "      <td>1</td>\n",
              "      <td>1</td>\n",
              "      <td>1</td>\n",
              "      <td>2</td>\n",
              "      <td>61</td>\n",
              "      <td>1</td>\n",
              "      <td>0</td>\n",
              "      <td>1</td>\n",
              "      <td>2</td>\n",
              "      <td>2</td>\n",
              "      <td>13</td>\n",
              "      <td>2</td>\n",
              "      <td>4</td>\n",
              "      <td>2</td>\n",
              "      <td>1</td>\n",
              "    </tr>\n",
              "    <tr>\n",
              "      <th>1</th>\n",
              "      <td>2</td>\n",
              "      <td>2</td>\n",
              "      <td>1</td>\n",
              "      <td>1</td>\n",
              "      <td>48</td>\n",
              "      <td>1</td>\n",
              "      <td>0</td>\n",
              "      <td>1</td>\n",
              "      <td>1</td>\n",
              "      <td>2</td>\n",
              "      <td>10</td>\n",
              "      <td>2</td>\n",
              "      <td>4</td>\n",
              "      <td>1</td>\n",
              "      <td>1</td>\n",
              "    </tr>\n",
              "  </tbody>\n",
              "</table>\n",
              "</div>"
            ],
            "text/plain": [
              "   PERSONA_REF_ID  HOGAR_REF_ID  P01  P02  P03  ...  EDADQUI  P08  P09  P10  CONDACT\n",
              "0               1             1    1    2   61  ...       13    2    4    2        1\n",
              "1               2             2    1    1   48  ...       10    2    4    1        1\n",
              "\n",
              "[2 rows x 15 columns]"
            ]
          },
          "execution_count": 16,
          "metadata": {},
          "output_type": "execute_result"
        }
      ],
      "source": [
        "# leo los datos de persona que tienen la info de si termino el primario\n",
        "persona = pd.read_csv (\"censo/persona.csv\")    #CAMBIAR LINK\n",
        "persona.head(2)\n",
        "\n",
        "#CATA \"/Users/Catalina/Desktop/biblio MET4OP/MET4OP/dataset/censo2010/hogar.csv\"\n",
        "#NURI \"C:/Users/Nuri/Desktop/metop/MET4OP/dataset/censo2010/hogar.csv\""
      ]
    },
    {
      "cell_type": "code",
      "execution_count": 17,
      "id": "aa322b3e",
      "metadata": {
        "colab": {
          "base_uri": "https://localhost:8080/",
          "height": 111
        },
        "id": "aa322b3e",
        "outputId": "3f3c94fd-6caa-4257-d56e-1d3908fba76d"
      },
      "outputs": [
        {
          "data": {
            "text/html": [
              "<div>\n",
              "<style scoped>\n",
              "    .dataframe tbody tr th:only-of-type {\n",
              "        vertical-align: middle;\n",
              "    }\n",
              "\n",
              "    .dataframe tbody tr th {\n",
              "        vertical-align: top;\n",
              "    }\n",
              "\n",
              "    .dataframe thead th {\n",
              "        text-align: right;\n",
              "    }\n",
              "</style>\n",
              "<table border=\"1\" class=\"dataframe\">\n",
              "  <thead>\n",
              "    <tr style=\"text-align: right;\">\n",
              "      <th></th>\n",
              "      <th>HOGAR_REF_ID</th>\n",
              "      <th>VIVIENDA_REF_ID</th>\n",
              "      <th>NHOG</th>\n",
              "      <th>H05</th>\n",
              "      <th>H06</th>\n",
              "      <th>H07</th>\n",
              "      <th>H08</th>\n",
              "      <th>H09</th>\n",
              "      <th>H10</th>\n",
              "      <th>H11</th>\n",
              "      <th>H12</th>\n",
              "      <th>H13</th>\n",
              "      <th>H14</th>\n",
              "      <th>H15</th>\n",
              "      <th>H16</th>\n",
              "      <th>H19A</th>\n",
              "      <th>H19B</th>\n",
              "      <th>H19C</th>\n",
              "      <th>H19D</th>\n",
              "      <th>PROP</th>\n",
              "      <th>INDHAC</th>\n",
              "      <th>TOTPERS</th>\n",
              "      <th>ALGUNBI</th>\n",
              "    </tr>\n",
              "  </thead>\n",
              "  <tbody>\n",
              "    <tr>\n",
              "      <th>0</th>\n",
              "      <td>1</td>\n",
              "      <td>1</td>\n",
              "      <td>1</td>\n",
              "      <td>1</td>\n",
              "      <td>4</td>\n",
              "      <td>1</td>\n",
              "      <td>1</td>\n",
              "      <td>1</td>\n",
              "      <td>1</td>\n",
              "      <td>1</td>\n",
              "      <td>1</td>\n",
              "      <td>1</td>\n",
              "      <td>1</td>\n",
              "      <td>2</td>\n",
              "      <td>2</td>\n",
              "      <td>1</td>\n",
              "      <td>2</td>\n",
              "      <td>1</td>\n",
              "      <td>2</td>\n",
              "      <td>5</td>\n",
              "      <td>1</td>\n",
              "      <td>1</td>\n",
              "      <td>0</td>\n",
              "    </tr>\n",
              "    <tr>\n",
              "      <th>1</th>\n",
              "      <td>2</td>\n",
              "      <td>1</td>\n",
              "      <td>2</td>\n",
              "      <td>1</td>\n",
              "      <td>1</td>\n",
              "      <td>1</td>\n",
              "      <td>1</td>\n",
              "      <td>1</td>\n",
              "      <td>1</td>\n",
              "      <td>1</td>\n",
              "      <td>1</td>\n",
              "      <td>1</td>\n",
              "      <td>1</td>\n",
              "      <td>1</td>\n",
              "      <td>2</td>\n",
              "      <td>1</td>\n",
              "      <td>1</td>\n",
              "      <td>1</td>\n",
              "      <td>1</td>\n",
              "      <td>1</td>\n",
              "      <td>1</td>\n",
              "      <td>1</td>\n",
              "      <td>0</td>\n",
              "    </tr>\n",
              "  </tbody>\n",
              "</table>\n",
              "</div>"
            ],
            "text/plain": [
              "   HOGAR_REF_ID  VIVIENDA_REF_ID  NHOG  H05  ...  PROP  INDHAC  TOTPERS  ALGUNBI\n",
              "0             1                1     1    1  ...     5       1        1        0\n",
              "1             2                1     2    1  ...     1       1        1        0\n",
              "\n",
              "[2 rows x 23 columns]"
            ]
          },
          "execution_count": 17,
          "metadata": {},
          "output_type": "execute_result"
        }
      ],
      "source": [
        "# leo hogar para ver en que hogar esta cada persona\n",
        "hogar = pd.read_csv (\"censo/hogar.csv\")    #CAMBIAR LINK\n",
        "hogar.head(2)\n",
        "\n",
        "#CATA \"/Users/Catalina/Desktop/biblio MET4OP/MET4OP/dataset/censo2010/hogar.csv\"\n",
        "#NURI \"C:/Users/Nuri/Desktop/metop/MET4OP/dataset/censo2010/hogar.csv\""
      ]
    },
    {
      "cell_type": "code",
      "execution_count": 18,
      "id": "6d00a8e2",
      "metadata": {
        "colab": {
          "base_uri": "https://localhost:8080/",
          "height": 111
        },
        "id": "6d00a8e2",
        "outputId": "c9ca194a-3223-4b2c-a098-790149eb5042"
      },
      "outputs": [
        {
          "data": {
            "text/html": [
              "<div>\n",
              "<style scoped>\n",
              "    .dataframe tbody tr th:only-of-type {\n",
              "        vertical-align: middle;\n",
              "    }\n",
              "\n",
              "    .dataframe tbody tr th {\n",
              "        vertical-align: top;\n",
              "    }\n",
              "\n",
              "    .dataframe thead th {\n",
              "        text-align: right;\n",
              "    }\n",
              "</style>\n",
              "<table border=\"1\" class=\"dataframe\">\n",
              "  <thead>\n",
              "    <tr style=\"text-align: right;\">\n",
              "      <th></th>\n",
              "      <th>VIVIENDA_REF_ID</th>\n",
              "      <th>RADIO_REF_ID</th>\n",
              "      <th>TIPVV</th>\n",
              "      <th>V01</th>\n",
              "      <th>V02</th>\n",
              "      <th>V00</th>\n",
              "      <th>URP</th>\n",
              "      <th>INCALSERV</th>\n",
              "      <th>INMAT</th>\n",
              "      <th>MUNI</th>\n",
              "      <th>LOCAL</th>\n",
              "      <th>INCALCONS</th>\n",
              "      <th>TOTHOG</th>\n",
              "    </tr>\n",
              "  </thead>\n",
              "  <tbody>\n",
              "    <tr>\n",
              "      <th>0</th>\n",
              "      <td>1</td>\n",
              "      <td>1</td>\n",
              "      <td>1</td>\n",
              "      <td>1</td>\n",
              "      <td>1</td>\n",
              "      <td>0</td>\n",
              "      <td>1</td>\n",
              "      <td>1</td>\n",
              "      <td>1</td>\n",
              "      <td>20010001</td>\n",
              "      <td>2001010</td>\n",
              "      <td>1</td>\n",
              "      <td>2</td>\n",
              "    </tr>\n",
              "    <tr>\n",
              "      <th>1</th>\n",
              "      <td>2</td>\n",
              "      <td>1</td>\n",
              "      <td>1</td>\n",
              "      <td>7</td>\n",
              "      <td>1</td>\n",
              "      <td>0</td>\n",
              "      <td>1</td>\n",
              "      <td>1</td>\n",
              "      <td>2</td>\n",
              "      <td>20010001</td>\n",
              "      <td>2001010</td>\n",
              "      <td>2</td>\n",
              "      <td>2</td>\n",
              "    </tr>\n",
              "  </tbody>\n",
              "</table>\n",
              "</div>"
            ],
            "text/plain": [
              "   VIVIENDA_REF_ID  RADIO_REF_ID  TIPVV  ...    LOCAL  INCALCONS  TOTHOG\n",
              "0                1             1      1  ...  2001010          1       2\n",
              "1                2             1      1  ...  2001010          2       2\n",
              "\n",
              "[2 rows x 13 columns]"
            ]
          },
          "execution_count": 18,
          "metadata": {},
          "output_type": "execute_result"
        }
      ],
      "source": [
        "# leo vivienda para ver en que vivienda esta cada hogar\n",
        "vivienda = pd.read_csv (\"censo/vivienda.csv\") #CAMBIAR LINK\n",
        "vivienda.head(2)\n",
        "\n",
        "#CATA \"/Users/Catalina/Desktop/biblio MET4OP/MET4OP/dataset/censo2010/vivienda.csv\n",
        "#NURI \"C:/Users/Nuri/Desktop/metop/MET4OP/dataset/censo2010/vivienda.csv\""
      ]
    },
    {
      "cell_type": "code",
      "execution_count": 19,
      "id": "46ff1371",
      "metadata": {
        "colab": {
          "base_uri": "https://localhost:8080/",
          "height": 111
        },
        "id": "46ff1371",
        "outputId": "3a29cb88-360f-4d67-8d38-48beb8b19839"
      },
      "outputs": [
        {
          "data": {
            "text/html": [
              "<div>\n",
              "<style scoped>\n",
              "    .dataframe tbody tr th:only-of-type {\n",
              "        vertical-align: middle;\n",
              "    }\n",
              "\n",
              "    .dataframe tbody tr th {\n",
              "        vertical-align: top;\n",
              "    }\n",
              "\n",
              "    .dataframe thead th {\n",
              "        text-align: right;\n",
              "    }\n",
              "</style>\n",
              "<table border=\"1\" class=\"dataframe\">\n",
              "  <thead>\n",
              "    <tr style=\"text-align: right;\">\n",
              "      <th></th>\n",
              "      <th>RADIO_REF_ID</th>\n",
              "      <th>FRAC_REF_ID</th>\n",
              "      <th>IDRADIO</th>\n",
              "    </tr>\n",
              "  </thead>\n",
              "  <tbody>\n",
              "    <tr>\n",
              "      <th>0</th>\n",
              "      <td>1</td>\n",
              "      <td>1</td>\n",
              "      <td>1</td>\n",
              "    </tr>\n",
              "    <tr>\n",
              "      <th>1</th>\n",
              "      <td>2</td>\n",
              "      <td>2</td>\n",
              "      <td>1</td>\n",
              "    </tr>\n",
              "  </tbody>\n",
              "</table>\n",
              "</div>"
            ],
            "text/plain": [
              "   RADIO_REF_ID  FRAC_REF_ID  IDRADIO\n",
              "0             1            1        1\n",
              "1             2            2        1"
            ]
          },
          "execution_count": 19,
          "metadata": {},
          "output_type": "execute_result"
        }
      ],
      "source": [
        "# leo radio para ver en que radio esta cada vivienda\n",
        "radio = pd.read_csv (\"censo/radio.csv\")  #CAMBIAR LINK\n",
        "radio.head(2)\n",
        "\n",
        "#CATA \"/Users/Catalina/Desktop/biblio MET4OP/MET4OP/dataset/censo2010/radio.csv\"\n",
        "#NURI \"C:/Users/Nuri/Desktop/metop/MET4OP/dataset/censo2010/radio.csv\""
      ]
    },
    {
      "cell_type": "code",
      "execution_count": 20,
      "id": "ea56b7d1",
      "metadata": {
        "colab": {
          "base_uri": "https://localhost:8080/",
          "height": 111
        },
        "id": "ea56b7d1",
        "outputId": "0abc699a-ccb3-49c0-9a5f-5db723f22ec3"
      },
      "outputs": [
        {
          "data": {
            "text/html": [
              "<div>\n",
              "<style scoped>\n",
              "    .dataframe tbody tr th:only-of-type {\n",
              "        vertical-align: middle;\n",
              "    }\n",
              "\n",
              "    .dataframe tbody tr th {\n",
              "        vertical-align: top;\n",
              "    }\n",
              "\n",
              "    .dataframe thead th {\n",
              "        text-align: right;\n",
              "    }\n",
              "</style>\n",
              "<table border=\"1\" class=\"dataframe\">\n",
              "  <thead>\n",
              "    <tr style=\"text-align: right;\">\n",
              "      <th></th>\n",
              "      <th>FRAC_REF_ID</th>\n",
              "      <th>DPTO_REF_ID</th>\n",
              "      <th>IDFRAC</th>\n",
              "    </tr>\n",
              "  </thead>\n",
              "  <tbody>\n",
              "    <tr>\n",
              "      <th>0</th>\n",
              "      <td>1</td>\n",
              "      <td>1</td>\n",
              "      <td>1</td>\n",
              "    </tr>\n",
              "    <tr>\n",
              "      <th>1</th>\n",
              "      <td>2</td>\n",
              "      <td>1</td>\n",
              "      <td>2</td>\n",
              "    </tr>\n",
              "  </tbody>\n",
              "</table>\n",
              "</div>"
            ],
            "text/plain": [
              "   FRAC_REF_ID  DPTO_REF_ID  IDFRAC\n",
              "0            1            1       1\n",
              "1            2            1       2"
            ]
          },
          "execution_count": 20,
          "metadata": {},
          "output_type": "execute_result"
        }
      ],
      "source": [
        "# leo fraccion para ver en que fraccion esta cada radio\n",
        "fraccion = pd.read_csv (\"censo/frac.csv\")   #CAMBIAR LINK\n",
        "fraccion.head(2) \n",
        "\n",
        "#CATA \"/Users/Catalina/Desktop/biblio MET4OP/MET4OP/dataset/censo2010/frac.csv\"\n",
        "#NURI \"C:/Users/Nuri/Desktop/metop/MET4OP/dataset/censo2010/frac.csv\""
      ]
    },
    {
      "cell_type": "code",
      "execution_count": 21,
      "id": "4CL9MiX5vzKb",
      "metadata": {
        "colab": {
          "base_uri": "https://localhost:8080/",
          "height": 111
        },
        "id": "4CL9MiX5vzKb",
        "outputId": "9363a17b-0b60-4acf-8d67-ca300efe48d7"
      },
      "outputs": [
        {
          "data": {
            "text/html": [
              "<div>\n",
              "<style scoped>\n",
              "    .dataframe tbody tr th:only-of-type {\n",
              "        vertical-align: middle;\n",
              "    }\n",
              "\n",
              "    .dataframe tbody tr th {\n",
              "        vertical-align: top;\n",
              "    }\n",
              "\n",
              "    .dataframe thead th {\n",
              "        text-align: right;\n",
              "    }\n",
              "</style>\n",
              "<table border=\"1\" class=\"dataframe\">\n",
              "  <thead>\n",
              "    <tr style=\"text-align: right;\">\n",
              "      <th></th>\n",
              "      <th>DPTO_REF_ID</th>\n",
              "      <th>PROV_REF_ID</th>\n",
              "      <th>IDDPTO</th>\n",
              "      <th>DPTO</th>\n",
              "      <th>NOMDPTO</th>\n",
              "    </tr>\n",
              "  </thead>\n",
              "  <tbody>\n",
              "    <tr>\n",
              "      <th>0</th>\n",
              "      <td>1</td>\n",
              "      <td>1</td>\n",
              "      <td>1</td>\n",
              "      <td>2001</td>\n",
              "      <td>Comuna 01                                     ...</td>\n",
              "    </tr>\n",
              "    <tr>\n",
              "      <th>1</th>\n",
              "      <td>2</td>\n",
              "      <td>1</td>\n",
              "      <td>2</td>\n",
              "      <td>2002</td>\n",
              "      <td>Comuna 02                                     ...</td>\n",
              "    </tr>\n",
              "  </tbody>\n",
              "</table>\n",
              "</div>"
            ],
            "text/plain": [
              "   DPTO_REF_ID  ...                                            NOMDPTO\n",
              "0            1  ...  Comuna 01                                     ...\n",
              "1            2  ...  Comuna 02                                     ...\n",
              "\n",
              "[2 rows x 5 columns]"
            ]
          },
          "execution_count": 21,
          "metadata": {},
          "output_type": "execute_result"
        }
      ],
      "source": [
        "# leo dpto para ver en que depto esta cada fraccion\n",
        "dpto = pd.read_csv(\"censo/dpto.csv\")   #CAMBIAR LINKS\n",
        "dpto.head(2)\n",
        "\n",
        "#CATA: (\"/Users/Catalina/Desktop/biblio MET4OP/MET4OP/dataset/censo2010/dpto.csv\")\n",
        "#NURI: \"C:/Users/Nuri/Desktop/metop/MET4OP/dataset/censo2010/dpto.csv\""
      ]
    },
    {
      "cell_type": "markdown",
      "id": "yXfckg7oxjqV",
      "metadata": {
        "id": "yXfckg7oxjqV"
      },
      "source": [
        "Hago el merge de todos los archivos de censo"
      ]
    },
    {
      "cell_type": "code",
      "execution_count": 22,
      "id": "k8ebycvExjRy",
      "metadata": {
        "id": "k8ebycvExjRy"
      },
      "outputs": [],
      "source": [
        "persona = persona.merge(hogar, on='HOGAR_REF_ID', how='left')\n",
        "persona = persona.merge(vivienda, on='VIVIENDA_REF_ID', how='left')\n",
        "persona = persona.merge(radio, on='RADIO_REF_ID', how='left')\n",
        "persona = persona.merge(fraccion, on='FRAC_REF_ID', how='left')\n",
        "persona = persona.merge(dpto, on='DPTO_REF_ID', how='left')"
      ]
    },
    {
      "cell_type": "code",
      "execution_count": 23,
      "id": "ZcrUJOzXzly0",
      "metadata": {
        "id": "ZcrUJOzXzly0"
      },
      "outputs": [],
      "source": [
        "# me fijo que personas tienen primario incompleto (inicial completo | primario incompleto)\n",
        "persona['primario_incompleto'] = ((persona['P09']==1) | ((persona['P09']==2) & (persona['P08']!=2))).astype(int)"
      ]
    },
    {
      "cell_type": "code",
      "execution_count": 24,
      "id": "1suvhgLWyjhF",
      "metadata": {
        "id": "1suvhgLWyjhF"
      },
      "outputs": [],
      "source": [
        "primario_inc = persona.groupby('NOMDPTO')['primario_incompleto'].mean().copy()*100\n",
        "primario_inc = pd.DataFrame(primario_inc).reset_index()\n",
        "primario_inc['NOMBRE_REGION'] = primario_inc['NOMDPTO'].apply(lambda f: f.strip().upper())\n",
        "primario_inc.drop('NOMDPTO', axis=1, inplace=True)\n",
        "del persona"
      ]
    },
    {
      "cell_type": "code",
      "execution_count": 37,
      "id": "1cyrkckv_7Rs",
      "metadata": {
        "colab": {
          "base_uri": "https://localhost:8080/",
          "height": 205
        },
        "id": "1cyrkckv_7Rs",
        "outputId": "4f7fe2ce-cd09-442f-89af-87e51c256d91"
      },
      "outputs": [
        {
          "data": {
            "text/html": [
              "<div>\n",
              "<style scoped>\n",
              "    .dataframe tbody tr th:only-of-type {\n",
              "        vertical-align: middle;\n",
              "    }\n",
              "\n",
              "    .dataframe tbody tr th {\n",
              "        vertical-align: top;\n",
              "    }\n",
              "\n",
              "    .dataframe thead th {\n",
              "        text-align: right;\n",
              "    }\n",
              "</style>\n",
              "<table border=\"1\" class=\"dataframe\">\n",
              "  <thead>\n",
              "    <tr style=\"text-align: right;\">\n",
              "      <th></th>\n",
              "      <th>primario_incompleto</th>\n",
              "      <th>NOMBRE_REGION</th>\n",
              "    </tr>\n",
              "  </thead>\n",
              "  <tbody>\n",
              "    <tr>\n",
              "      <th>0</th>\n",
              "      <td>10.257618</td>\n",
              "      <td>COMUNA 01</td>\n",
              "    </tr>\n",
              "    <tr>\n",
              "      <th>1</th>\n",
              "      <td>7.371527</td>\n",
              "      <td>COMUNA 02</td>\n",
              "    </tr>\n",
              "    <tr>\n",
              "      <th>2</th>\n",
              "      <td>10.262508</td>\n",
              "      <td>COMUNA 03</td>\n",
              "    </tr>\n",
              "    <tr>\n",
              "      <th>3</th>\n",
              "      <td>14.811794</td>\n",
              "      <td>COMUNA 04</td>\n",
              "    </tr>\n",
              "    <tr>\n",
              "      <th>4</th>\n",
              "      <td>10.072903</td>\n",
              "      <td>COMUNA 05</td>\n",
              "    </tr>\n",
              "  </tbody>\n",
              "</table>\n",
              "</div>"
            ],
            "text/plain": [
              "   primario_incompleto NOMBRE_REGION\n",
              "0            10.257618     COMUNA 01\n",
              "1             7.371527     COMUNA 02\n",
              "2            10.262508     COMUNA 03\n",
              "3            14.811794     COMUNA 04\n",
              "4            10.072903     COMUNA 05"
            ]
          },
          "execution_count": 37,
          "metadata": {},
          "output_type": "execute_result"
        }
      ],
      "source": [
        "primario_inc.head()"
      ]
    },
    {
      "cell_type": "markdown",
      "id": "765ee9bf",
      "metadata": {
        "id": "765ee9bf"
      },
      "source": [
        "### importo los RADIOS CENSALES"
      ]
    },
    {
      "cell_type": "code",
      "execution_count": 34,
      "id": "749ac7c2",
      "metadata": {
        "id": "749ac7c2"
      },
      "outputs": [],
      "source": [
        "radios_censales = gpd.read_file(\"cabaxrdatos.shp\")\n",
        "       #acordarse de cambiar el path cuando importan \n",
        "       #VIKI: \"/Users/cataa/Desktop/MET4OP/MET4OP/dataset/censo2010/radios_censales/Codgeo_CABA_con_datos/cabaxrdatos.shp\")\n",
        "       #CATA: \"/Users/Catalina/Desktop/biblio MET4OP/MET4OP/dataset/censo2010/radios_censales/Codgeo_CABA_con_datos/cabaxrdatos.shp\"\n",
        "       #NURI: \"C:/Users/Nuri/Desktop/metop/MET4OP/dataset/censo2010/radios_censales/Codgeo_CABA_con_datos/cabaxrdatos.shp\"\n"
      ]
    },
    {
      "cell_type": "code",
      "execution_count": 35,
      "id": "wEbjqt919WbD",
      "metadata": {
        "colab": {
          "base_uri": "https://localhost:8080/",
          "height": 143
        },
        "id": "wEbjqt919WbD",
        "outputId": "cc137612-6939-4551-d4fb-56564f10ed4e"
      },
      "outputs": [
        {
          "data": {
            "text/html": [
              "<div>\n",
              "<style scoped>\n",
              "    .dataframe tbody tr th:only-of-type {\n",
              "        vertical-align: middle;\n",
              "    }\n",
              "\n",
              "    .dataframe tbody tr th {\n",
              "        vertical-align: top;\n",
              "    }\n",
              "\n",
              "    .dataframe thead th {\n",
              "        text-align: right;\n",
              "    }\n",
              "</style>\n",
              "<table border=\"1\" class=\"dataframe\">\n",
              "  <thead>\n",
              "    <tr style=\"text-align: right;\">\n",
              "      <th></th>\n",
              "      <th>NOMBRE_REGION</th>\n",
              "      <th>geometry</th>\n",
              "    </tr>\n",
              "  </thead>\n",
              "  <tbody>\n",
              "    <tr>\n",
              "      <th>0</th>\n",
              "      <td>COMUNA 01</td>\n",
              "      <td>POLYGON ((4199575.315 6141887.335, 4199578.077...</td>\n",
              "    </tr>\n",
              "    <tr>\n",
              "      <th>1</th>\n",
              "      <td>COMUNA 02</td>\n",
              "      <td>POLYGON ((4197459.997 6145624.504, 4197381.218...</td>\n",
              "    </tr>\n",
              "    <tr>\n",
              "      <th>2</th>\n",
              "      <td>COMUNA 03</td>\n",
              "      <td>POLYGON ((4196703.176 6142112.224, 4196628.688...</td>\n",
              "    </tr>\n",
              "  </tbody>\n",
              "</table>\n",
              "</div>"
            ],
            "text/plain": [
              "  NOMBRE_REGION                                           geometry\n",
              "0     COMUNA 01  POLYGON ((4199575.315 6141887.335, 4199578.077...\n",
              "1     COMUNA 02  POLYGON ((4197459.997 6145624.504, 4197381.218...\n",
              "2     COMUNA 03  POLYGON ((4196703.176 6142112.224, 4196628.688..."
            ]
          },
          "execution_count": 35,
          "metadata": {},
          "output_type": "execute_result"
        }
      ],
      "source": [
        "# agrupo los datos geograficos por depto\n",
        "radios_censales = radios_censales.dissolve('DEPTO').reset_index()\n",
        "radios_censales['NOMBRE_REGION'] = radios_censales['DEPTO'].apply(lambda f: 'COMUNA ' + f[-2:])\n",
        "radios_censales = radios_censales[['NOMBRE_REGION','geometry']]\n",
        "radios_censales.head(3)"
      ]
    },
    {
      "cell_type": "markdown",
      "id": "tYYdGl0m2NDs",
      "metadata": {
        "id": "tYYdGl0m2NDs"
      },
      "source": [
        "### junto geografia, censo y votos en uno solo"
      ]
    },
    {
      "cell_type": "code",
      "execution_count": 44,
      "id": "BAPlzXJE49kY",
      "metadata": {
        "colab": {
          "base_uri": "https://localhost:8080/",
          "height": 517
        },
        "id": "BAPlzXJE49kY",
        "outputId": "cd00c9a8-e43c-45ae-c5f2-12646b085e4b"
      },
      "outputs": [
        {
          "data": {
            "text/html": [
              "<div>\n",
              "<style scoped>\n",
              "    .dataframe tbody tr th:only-of-type {\n",
              "        vertical-align: middle;\n",
              "    }\n",
              "\n",
              "    .dataframe tbody tr th {\n",
              "        vertical-align: top;\n",
              "    }\n",
              "\n",
              "    .dataframe thead th {\n",
              "        text-align: right;\n",
              "    }\n",
              "</style>\n",
              "<table border=\"1\" class=\"dataframe\">\n",
              "  <thead>\n",
              "    <tr style=\"text-align: right;\">\n",
              "      <th></th>\n",
              "      <th>NOMBRE_REGION</th>\n",
              "      <th>geometry</th>\n",
              "      <th>primario_incompleto</th>\n",
              "      <th>RESULTADO_PARTIDO</th>\n",
              "    </tr>\n",
              "  </thead>\n",
              "  <tbody>\n",
              "    <tr>\n",
              "      <th>0</th>\n",
              "      <td>COMUNA 01</td>\n",
              "      <td>POLYGON ((4199575.315 6141887.335, 4199578.077...</td>\n",
              "      <td>10.257618</td>\n",
              "      <td>3.364636</td>\n",
              "    </tr>\n",
              "    <tr>\n",
              "      <th>1</th>\n",
              "      <td>COMUNA 02</td>\n",
              "      <td>POLYGON ((4197459.997 6145624.504, 4197381.218...</td>\n",
              "      <td>7.371527</td>\n",
              "      <td>3.477669</td>\n",
              "    </tr>\n",
              "    <tr>\n",
              "      <th>2</th>\n",
              "      <td>COMUNA 03</td>\n",
              "      <td>POLYGON ((4196703.176 6142112.224, 4196628.688...</td>\n",
              "      <td>10.262508</td>\n",
              "      <td>3.457753</td>\n",
              "    </tr>\n",
              "    <tr>\n",
              "      <th>3</th>\n",
              "      <td>COMUNA 04</td>\n",
              "      <td>MULTIPOLYGON (((4197371.959 6138585.100, 41973...</td>\n",
              "      <td>14.811794</td>\n",
              "      <td>3.019744</td>\n",
              "    </tr>\n",
              "    <tr>\n",
              "      <th>4</th>\n",
              "      <td>COMUNA 05</td>\n",
              "      <td>POLYGON ((4195847.563 6141124.209, 4195834.392...</td>\n",
              "      <td>10.072903</td>\n",
              "      <td>3.506456</td>\n",
              "    </tr>\n",
              "    <tr>\n",
              "      <th>5</th>\n",
              "      <td>COMUNA 06</td>\n",
              "      <td>POLYGON ((4194086.502 6142445.725, 4193999.327...</td>\n",
              "      <td>9.711147</td>\n",
              "      <td>3.729799</td>\n",
              "    </tr>\n",
              "    <tr>\n",
              "      <th>6</th>\n",
              "      <td>COMUNA 07</td>\n",
              "      <td>POLYGON ((4194107.882 6139573.100, 4194002.210...</td>\n",
              "      <td>12.812399</td>\n",
              "      <td>3.801791</td>\n",
              "    </tr>\n",
              "    <tr>\n",
              "      <th>7</th>\n",
              "      <td>COMUNA 08</td>\n",
              "      <td>POLYGON ((4190175.934 6135298.881, 4189974.219...</td>\n",
              "      <td>17.238046</td>\n",
              "      <td>2.766990</td>\n",
              "    </tr>\n",
              "    <tr>\n",
              "      <th>8</th>\n",
              "      <td>COMUNA 09</td>\n",
              "      <td>POLYGON ((4188472.591 6138226.329, 4188357.180...</td>\n",
              "      <td>12.965012</td>\n",
              "      <td>3.733967</td>\n",
              "    </tr>\n",
              "    <tr>\n",
              "      <th>9</th>\n",
              "      <td>COMUNA 10</td>\n",
              "      <td>POLYGON ((4188757.307 6141053.203, 4188736.038...</td>\n",
              "      <td>11.682789</td>\n",
              "      <td>3.678000</td>\n",
              "    </tr>\n",
              "    <tr>\n",
              "      <th>10</th>\n",
              "      <td>COMUNA 11</td>\n",
              "      <td>POLYGON ((4190001.332 6143271.609, 4189949.427...</td>\n",
              "      <td>11.357938</td>\n",
              "      <td>3.868996</td>\n",
              "    </tr>\n",
              "    <tr>\n",
              "      <th>11</th>\n",
              "      <td>COMUNA 12</td>\n",
              "      <td>POLYGON ((4188246.755 6147014.894, 4188192.865...</td>\n",
              "      <td>10.749765</td>\n",
              "      <td>3.878837</td>\n",
              "    </tr>\n",
              "    <tr>\n",
              "      <th>12</th>\n",
              "      <td>COMUNA 13</td>\n",
              "      <td>POLYGON ((4193474.081 6147827.066, 4193438.047...</td>\n",
              "      <td>9.485110</td>\n",
              "      <td>3.745511</td>\n",
              "    </tr>\n",
              "    <tr>\n",
              "      <th>13</th>\n",
              "      <td>COMUNA 14</td>\n",
              "      <td>POLYGON ((4195140.846 6146233.264, 4195060.250...</td>\n",
              "      <td>8.455990</td>\n",
              "      <td>3.402133</td>\n",
              "    </tr>\n",
              "    <tr>\n",
              "      <th>14</th>\n",
              "      <td>COMUNA 15</td>\n",
              "      <td>POLYGON ((4193488.384 6144874.805, 4193306.652...</td>\n",
              "      <td>10.925981</td>\n",
              "      <td>3.269621</td>\n",
              "    </tr>\n",
              "  </tbody>\n",
              "</table>\n",
              "</div>"
            ],
            "text/plain": [
              "   NOMBRE_REGION  ... RESULTADO_PARTIDO\n",
              "0      COMUNA 01  ...          3.364636\n",
              "1      COMUNA 02  ...          3.477669\n",
              "2      COMUNA 03  ...          3.457753\n",
              "3      COMUNA 04  ...          3.019744\n",
              "4      COMUNA 05  ...          3.506456\n",
              "5      COMUNA 06  ...          3.729799\n",
              "6      COMUNA 07  ...          3.801791\n",
              "7      COMUNA 08  ...          2.766990\n",
              "8      COMUNA 09  ...          3.733967\n",
              "9      COMUNA 10  ...          3.678000\n",
              "10     COMUNA 11  ...          3.868996\n",
              "11     COMUNA 12  ...          3.878837\n",
              "12     COMUNA 13  ...          3.745511\n",
              "13     COMUNA 14  ...          3.402133\n",
              "14     COMUNA 15  ...          3.269621\n",
              "\n",
              "[15 rows x 4 columns]"
            ]
          },
          "execution_count": 44,
          "metadata": {},
          "output_type": "execute_result"
        }
      ],
      "source": [
        "data_final = radios_censales.merge(primario_inc, on='NOMBRE_REGION')\n",
        "data_final = data_final.merge(resultado_partido, on='NOMBRE_REGION')\n",
        "data_final"
      ]
    },
    {
      "cell_type": "markdown",
      "id": "ZkfbaP1lBITv",
      "metadata": {
        "id": "ZkfbaP1lBITv"
      },
      "source": [
        "### Ahora hago los graficos"
      ]
    },
    {
      "cell_type": "code",
      "execution_count": 50,
      "id": "zkCfmvj7B5pZ",
      "metadata": {
        "id": "zkCfmvj7B5pZ"
      },
      "outputs": [],
      "source": [
        "import matplotlib.pyplot as plt"
      ]
    },
    {
      "cell_type": "code",
      "execution_count": 51,
      "id": "4Yzsr-Ry9NCn",
      "metadata": {
        "colab": {
          "base_uri": "https://localhost:8080/",
          "height": 575
        },
        "id": "4Yzsr-Ry9NCn",
        "outputId": "966e0311-f5c3-4a31-f4cd-e8423e8736ec"
      },
      "outputs": [
        {
          "data": {
            "image/png": "[encoded data removed]",
            "text/plain": [
              "<Figure size 720x720 with 2 Axes>"
            ]
          },
          "metadata": {
            "needs_background": "light"
          },
          "output_type": "display_data"
        }
      ],
      "source": [
        "mapa_comunas=data_final.plot(column=\"RESULTADO_PARTIDO\",cmap='Blues', figsize=(10, 10), edgecolor='black', legend=True)\n",
        "mapa_comunas.axis(\"off\")\n",
        "mapa_comunas.set_title(\"Desempeño de UNITE por comuna\")\n",
        "plt.show()"
      ]
    },
    {
      "cell_type": "code",
      "execution_count": 52,
      "id": "u3qF8ZcK2GOc",
      "metadata": {
        "colab": {
          "base_uri": "https://localhost:8080/",
          "height": 575
        },
        "id": "u3qF8ZcK2GOc",
        "outputId": "b258b27f-fe27-42a4-e8c8-33c60dc23b70"
      },
      "outputs": [
        {
          "data": {
            "image/png": "[encoded data removed]",
            "text/plain": [
              "<Figure size 720x720 with 2 Axes>"
            ]
          },
          "metadata": {
            "needs_background": "light"
          },
          "output_type": "display_data"
        }
      ],
      "source": [
        "mapa_comunas=data_final.plot(column=\"primario_incompleto\",cmap='Blues', figsize=(10, 10), edgecolor='black', legend=True)\n",
        "mapa_comunas.axis(\"off\")\n",
        "mapa_comunas.set_title(\"% de poblacion con primario incompleto por comuna\")\n",
        "plt.show()"
      ]
    },
    {
      "cell_type": "code",
      "execution_count": 60,
      "id": "KKAkxsuICHrX",
      "metadata": {
        "colab": {
          "base_uri": "https://localhost:8080/",
          "height": 517
        },
        "id": "KKAkxsuICHrX",
        "outputId": "1fd89c78-8e8b-4c33-c475-707eb0f08e81"
      },
      "outputs": [
        {
          "data": {
            "image/png": "[encoded data removed]",
            "text/plain": [
              "<Figure size 864x576 with 1 Axes>"
            ]
          },
          "metadata": {
            "needs_background": "light"
          },
          "output_type": "display_data"
        }
      ],
      "source": [
        "plt.figure(figsize=(12,8))\n",
        "plt.scatter(x=data_final['primario_incompleto'], y=data_final['RESULTADO_PARTIDO'])\n",
        "plt.title('Relacion entre resultado del partido y poblacion con primario incompleto', fontsize=18)\n",
        "plt.xlabel('Primario incompleto')\n",
        "plt.ylabel('Resultado partido')\n",
        "plt.show()"
      ]
    },
    {
      "cell_type": "markdown",
      "metadata": {},
      "source": [
        "## Análisis ##\n",
        "Podemos observar según los graficos arriba desplegados, que aquellas comunas donde sus habitantes no han finalizado el primario (ya sea porque lo comenzaron y luego lo abandonaron o porque su maximo nivel alcanzado fue el nivel inicial), se condicen con aquellos circuitos electorales donde peor le ha ido a nuestro partido en los comicios del 2019. Como hemos descrito en la primera parte del trabajo, las comunas de la zona sur de la ciudad como la 8 (Villa Lugano, Soldati y Riachuelo) y la comuna 4 (Nueva Pompeya, Barracas, Parque Patricios y La Boca) fueron las que menos votos obtuvieron por parte de Unite por la Libertad y la Dignidad. Y a su vez son las 2 comunas donde hay mayor densidad de habitantes con primario incompleto. \n",
        "\n",
        "Por el contrario, en los circuitos donde los niveles educativos son mas altos sí se correlacionan de manera directa con las comunas donde nuestro partido hizo una buena elección. Es decir, las comunas 12 (Villa Urquiza, Coghlan, Saavedra), 13 (Belgrano, Nuñez, Colegiales) y 14 (Palermo). Sería interesante para el futuro sumar la variable del nivel socioeconómico, con el objetivo de afinar más el análisis respecto al votante medio libertario. \n",
        "\n",
        "En conclusion, y como demuestra nuestro ultimo grafico, no existe correlacion directa entre el desempeño del partido Unite con aquellas zonas donde sus habitantes están menos escolarizados/as."
      ]
    },
    {
      "cell_type": "code",
      "execution_count": 2,
      "metadata": {},
      "outputs": [
        {
          "data": {
            "image/jpeg": "[encoded data removed]",
            "text/plain": [
              "<IPython.core.display.Image object>"
            ]
          },
          "execution_count": 2,
          "metadata": {},
          "output_type": "execute_result"
        }
      ],
      "source": [
        "from IPython.display import Image\n",
        "Image (\"no_correlation.jpg\")"
      ]
    },
    {
      "cell_type": "code",
      "execution_count": 4,
      "metadata": {},
      "outputs": [
        {
          "data": {
            "image/jpeg": "[encoded data removed]",
            "text/plain": [
              "<IPython.core.display.Image object>"
            ]
          },
          "execution_count": 4,
          "metadata": {},
          "output_type": "execute_result"
        }
      ],
      "source": [
        "from IPython.display import Image\n",
        "Image (\"ross.jpeg\")"
      ]
    }
  ],
  "metadata": {
    "colab": {
      "collapsed_sections": [],
      "name": "tp 2.ipynb",
      "provenance": []
    },
    "interpreter": {
      "hash": "f9cdabf1c00ea275d2f1f13cd64178184616e8297363ef177075a22a00813341"
    },
    "kernelspec": {
      "display_name": "Python 3.8.12 64-bit ('Prueba': conda)",
      "name": "python3"
    },
    "language_info": {
      "codemirror_mode": {
        "name": "ipython",
        "version": 3
      },
      "file_extension": ".py",
      "mimetype": "text/x-python",
      "name": "python",
      "nbconvert_exporter": "python",
      "pygments_lexer": "ipython3",
      "version": "3.8.12"
    }
  },
  "nbformat": 4,
  "nbformat_minor": 5
}
