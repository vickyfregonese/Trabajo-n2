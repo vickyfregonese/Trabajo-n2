{
 "cells": [
  {
   "cell_type": "code",
   "execution_count": 64,
   "id": "c4978662",
   "metadata": {
    "scrolled": true
   },
   "outputs": [
    {
     "data": {
      "text/html": [
       "<div>\n",
       "<style scoped>\n",
       "    .dataframe tbody tr th:only-of-type {\n",
       "        vertical-align: middle;\n",
       "    }\n",
       "\n",
       "    .dataframe tbody tr th {\n",
       "        vertical-align: top;\n",
       "    }\n",
       "\n",
       "    .dataframe thead th {\n",
       "        text-align: right;\n",
       "    }\n",
       "</style>\n",
       "<table border=\"1\" class=\"dataframe\">\n",
       "  <thead>\n",
       "    <tr style=\"text-align: right;\">\n",
       "      <th></th>\n",
       "      <th>CODIGO_DISTRITO</th>\n",
       "      <th>CODIGO_SECCION</th>\n",
       "      <th>CODIGO_CIRCUITO</th>\n",
       "      <th>CODIGO_MESA</th>\n",
       "      <th>CODIGO_CATEGORIA</th>\n",
       "      <th>CODIGO_AGRUPACION</th>\n",
       "      <th>VOTOS_AGRUPACION</th>\n",
       "      <th>NOMBRE_CATEGORIA</th>\n",
       "      <th>NOMBRE_REGION</th>\n",
       "      <th>NOMBRE_AGRUPACION</th>\n",
       "    </tr>\n",
       "  </thead>\n",
       "  <tbody>\n",
       "    <tr>\n",
       "      <th>0</th>\n",
       "      <td>1</td>\n",
       "      <td>1001</td>\n",
       "      <td>1001000001</td>\n",
       "      <td>0100100001X</td>\n",
       "      <td>100000000000</td>\n",
       "      <td>13</td>\n",
       "      <td>1</td>\n",
       "      <td>Presidente y Vicepresidente de la República</td>\n",
       "      <td>COMUNA 01</td>\n",
       "      <td>MOVIMIENTO AL SOCIALISMO</td>\n",
       "    </tr>\n",
       "    <tr>\n",
       "      <th>1</th>\n",
       "      <td>1</td>\n",
       "      <td>1001</td>\n",
       "      <td>1001000001</td>\n",
       "      <td>0100100001X</td>\n",
       "      <td>100000000000</td>\n",
       "      <td>131</td>\n",
       "      <td>5</td>\n",
       "      <td>Presidente y Vicepresidente de la República</td>\n",
       "      <td>COMUNA 01</td>\n",
       "      <td>FRENTE NOS</td>\n",
       "    </tr>\n",
       "    <tr>\n",
       "      <th>2</th>\n",
       "      <td>1</td>\n",
       "      <td>1001</td>\n",
       "      <td>1001000001</td>\n",
       "      <td>0100100001X</td>\n",
       "      <td>100000000000</td>\n",
       "      <td>132</td>\n",
       "      <td>2</td>\n",
       "      <td>Presidente y Vicepresidente de la República</td>\n",
       "      <td>COMUNA 01</td>\n",
       "      <td>FRENTE PATRIOTA</td>\n",
       "    </tr>\n",
       "    <tr>\n",
       "      <th>3</th>\n",
       "      <td>1</td>\n",
       "      <td>1001</td>\n",
       "      <td>1001000001</td>\n",
       "      <td>0100100001X</td>\n",
       "      <td>100000000000</td>\n",
       "      <td>133</td>\n",
       "      <td>15</td>\n",
       "      <td>Presidente y Vicepresidente de la República</td>\n",
       "      <td>COMUNA 01</td>\n",
       "      <td>FRENTE DE IZQUIERDA Y DE TRABAJADORES - UNIDAD</td>\n",
       "    </tr>\n",
       "    <tr>\n",
       "      <th>4</th>\n",
       "      <td>1</td>\n",
       "      <td>1001</td>\n",
       "      <td>1001000001</td>\n",
       "      <td>0100100001X</td>\n",
       "      <td>100000000000</td>\n",
       "      <td>135</td>\n",
       "      <td>85</td>\n",
       "      <td>Presidente y Vicepresidente de la República</td>\n",
       "      <td>COMUNA 01</td>\n",
       "      <td>JUNTOS POR EL CAMBIO</td>\n",
       "    </tr>\n",
       "    <tr>\n",
       "      <th>...</th>\n",
       "      <td>...</td>\n",
       "      <td>...</td>\n",
       "      <td>...</td>\n",
       "      <td>...</td>\n",
       "      <td>...</td>\n",
       "      <td>...</td>\n",
       "      <td>...</td>\n",
       "      <td>...</td>\n",
       "      <td>...</td>\n",
       "      <td>...</td>\n",
       "    </tr>\n",
       "    <tr>\n",
       "      <th>616673</th>\n",
       "      <td>1</td>\n",
       "      <td>1015</td>\n",
       "      <td>1015000167</td>\n",
       "      <td>0101507413X</td>\n",
       "      <td>901015000000</td>\n",
       "      <td>87</td>\n",
       "      <td>7</td>\n",
       "      <td>Junta Comunal Ciudad Autónoma de Buenos Aires ...</td>\n",
       "      <td>COMUNA 15</td>\n",
       "      <td>UNITE POR LA LIBERTAD Y LA DIGNIDAD</td>\n",
       "    </tr>\n",
       "    <tr>\n",
       "      <th>616674</th>\n",
       "      <td>1</td>\n",
       "      <td>1015</td>\n",
       "      <td>1015000167</td>\n",
       "      <td>0101507413X</td>\n",
       "      <td>901015000000</td>\n",
       "      <td>VB</td>\n",
       "      <td>25</td>\n",
       "      <td>Junta Comunal Ciudad Autónoma de Buenos Aires ...</td>\n",
       "      <td>COMUNA 15</td>\n",
       "      <td>BLANCO</td>\n",
       "    </tr>\n",
       "    <tr>\n",
       "      <th>616675</th>\n",
       "      <td>1</td>\n",
       "      <td>1015</td>\n",
       "      <td>1015000167</td>\n",
       "      <td>0101507413X</td>\n",
       "      <td>901015000000</td>\n",
       "      <td>VII</td>\n",
       "      <td>0</td>\n",
       "      <td>Junta Comunal Ciudad Autónoma de Buenos Aires ...</td>\n",
       "      <td>COMUNA 15</td>\n",
       "      <td>IMPUGNADO</td>\n",
       "    </tr>\n",
       "    <tr>\n",
       "      <th>616676</th>\n",
       "      <td>1</td>\n",
       "      <td>1015</td>\n",
       "      <td>1015000167</td>\n",
       "      <td>0101507413X</td>\n",
       "      <td>901015000000</td>\n",
       "      <td>VN</td>\n",
       "      <td>0</td>\n",
       "      <td>Junta Comunal Ciudad Autónoma de Buenos Aires ...</td>\n",
       "      <td>COMUNA 15</td>\n",
       "      <td>NULO</td>\n",
       "    </tr>\n",
       "    <tr>\n",
       "      <th>616677</th>\n",
       "      <td>1</td>\n",
       "      <td>1015</td>\n",
       "      <td>1015000167</td>\n",
       "      <td>0101507413X</td>\n",
       "      <td>901015000000</td>\n",
       "      <td>VR</td>\n",
       "      <td>0</td>\n",
       "      <td>Junta Comunal Ciudad Autónoma de Buenos Aires ...</td>\n",
       "      <td>COMUNA 15</td>\n",
       "      <td>RECURRIDO</td>\n",
       "    </tr>\n",
       "  </tbody>\n",
       "</table>\n",
       "<p>616678 rows × 10 columns</p>\n",
       "</div>"
      ],
      "text/plain": [
       "        CODIGO_DISTRITO  CODIGO_SECCION  CODIGO_CIRCUITO  CODIGO_MESA  \\\n",
       "0                     1            1001       1001000001  0100100001X   \n",
       "1                     1            1001       1001000001  0100100001X   \n",
       "2                     1            1001       1001000001  0100100001X   \n",
       "3                     1            1001       1001000001  0100100001X   \n",
       "4                     1            1001       1001000001  0100100001X   \n",
       "...                 ...             ...              ...          ...   \n",
       "616673                1            1015       1015000167  0101507413X   \n",
       "616674                1            1015       1015000167  0101507413X   \n",
       "616675                1            1015       1015000167  0101507413X   \n",
       "616676                1            1015       1015000167  0101507413X   \n",
       "616677                1            1015       1015000167  0101507413X   \n",
       "\n",
       "        CODIGO_CATEGORIA CODIGO_AGRUPACION  VOTOS_AGRUPACION  \\\n",
       "0           100000000000                13                 1   \n",
       "1           100000000000               131                 5   \n",
       "2           100000000000               132                 2   \n",
       "3           100000000000               133                15   \n",
       "4           100000000000               135                85   \n",
       "...                  ...               ...               ...   \n",
       "616673      901015000000                87                 7   \n",
       "616674      901015000000                VB                25   \n",
       "616675      901015000000               VII                 0   \n",
       "616676      901015000000                VN                 0   \n",
       "616677      901015000000                VR                 0   \n",
       "\n",
       "                                         NOMBRE_CATEGORIA NOMBRE_REGION  \\\n",
       "0             Presidente y Vicepresidente de la República     COMUNA 01   \n",
       "1             Presidente y Vicepresidente de la República     COMUNA 01   \n",
       "2             Presidente y Vicepresidente de la República     COMUNA 01   \n",
       "3             Presidente y Vicepresidente de la República     COMUNA 01   \n",
       "4             Presidente y Vicepresidente de la República     COMUNA 01   \n",
       "...                                                   ...           ...   \n",
       "616673  Junta Comunal Ciudad Autónoma de Buenos Aires ...     COMUNA 15   \n",
       "616674  Junta Comunal Ciudad Autónoma de Buenos Aires ...     COMUNA 15   \n",
       "616675  Junta Comunal Ciudad Autónoma de Buenos Aires ...     COMUNA 15   \n",
       "616676  Junta Comunal Ciudad Autónoma de Buenos Aires ...     COMUNA 15   \n",
       "616677  Junta Comunal Ciudad Autónoma de Buenos Aires ...     COMUNA 15   \n",
       "\n",
       "                                     NOMBRE_AGRUPACION  \n",
       "0                             MOVIMIENTO AL SOCIALISMO  \n",
       "1                                           FRENTE NOS  \n",
       "2                                      FRENTE PATRIOTA  \n",
       "3       FRENTE DE IZQUIERDA Y DE TRABAJADORES - UNIDAD  \n",
       "4                                 JUNTOS POR EL CAMBIO  \n",
       "...                                                ...  \n",
       "616673             UNITE POR LA LIBERTAD Y LA DIGNIDAD  \n",
       "616674                                          BLANCO  \n",
       "616675                                       IMPUGNADO  \n",
       "616676                                            NULO  \n",
       "616677                                       RECURRIDO  \n",
       "\n",
       "[616678 rows x 10 columns]"
      ]
     },
     "execution_count": 64,
     "metadata": {},
     "output_type": "execute_result"
    }
   ],
   "source": [
    "import pandas as pd \n",
    "import numpy as np\n",
    "\n",
    "base_total = pd.read_csv('/Users/cataa/Desktop/MET4OP/MET4OP/dataset/elecciones_2019/resultados/120819-054029/datos_agrup.csv')\n",
    "base_total\n"
   ]
  },
  {
   "cell_type": "code",
   "execution_count": 65,
   "id": "f163f634",
   "metadata": {},
   "outputs": [
    {
     "data": {
      "text/html": [
       "<div>\n",
       "<style scoped>\n",
       "    .dataframe tbody tr th:only-of-type {\n",
       "        vertical-align: middle;\n",
       "    }\n",
       "\n",
       "    .dataframe tbody tr th {\n",
       "        vertical-align: top;\n",
       "    }\n",
       "\n",
       "    .dataframe thead th {\n",
       "        text-align: right;\n",
       "    }\n",
       "</style>\n",
       "<table border=\"1\" class=\"dataframe\">\n",
       "  <thead>\n",
       "    <tr style=\"text-align: right;\">\n",
       "      <th></th>\n",
       "      <th>VOTOS_AGRUPACION</th>\n",
       "      <th>NOMBRE_CATEGORIA</th>\n",
       "      <th>NOMBRE_REGION</th>\n",
       "      <th>NOMBRE_AGRUPACION</th>\n",
       "    </tr>\n",
       "  </thead>\n",
       "  <tbody>\n",
       "    <tr>\n",
       "      <th>0</th>\n",
       "      <td>1</td>\n",
       "      <td>Presidente y Vicepresidente de la República</td>\n",
       "      <td>COMUNA 01</td>\n",
       "      <td>MOVIMIENTO AL SOCIALISMO</td>\n",
       "    </tr>\n",
       "    <tr>\n",
       "      <th>1</th>\n",
       "      <td>5</td>\n",
       "      <td>Presidente y Vicepresidente de la República</td>\n",
       "      <td>COMUNA 01</td>\n",
       "      <td>FRENTE NOS</td>\n",
       "    </tr>\n",
       "    <tr>\n",
       "      <th>2</th>\n",
       "      <td>2</td>\n",
       "      <td>Presidente y Vicepresidente de la República</td>\n",
       "      <td>COMUNA 01</td>\n",
       "      <td>FRENTE PATRIOTA</td>\n",
       "    </tr>\n",
       "    <tr>\n",
       "      <th>3</th>\n",
       "      <td>15</td>\n",
       "      <td>Presidente y Vicepresidente de la República</td>\n",
       "      <td>COMUNA 01</td>\n",
       "      <td>FRENTE DE IZQUIERDA Y DE TRABAJADORES - UNIDAD</td>\n",
       "    </tr>\n",
       "    <tr>\n",
       "      <th>4</th>\n",
       "      <td>85</td>\n",
       "      <td>Presidente y Vicepresidente de la República</td>\n",
       "      <td>COMUNA 01</td>\n",
       "      <td>JUNTOS POR EL CAMBIO</td>\n",
       "    </tr>\n",
       "    <tr>\n",
       "      <th>...</th>\n",
       "      <td>...</td>\n",
       "      <td>...</td>\n",
       "      <td>...</td>\n",
       "      <td>...</td>\n",
       "    </tr>\n",
       "    <tr>\n",
       "      <th>616673</th>\n",
       "      <td>7</td>\n",
       "      <td>Junta Comunal Ciudad Autónoma de Buenos Aires ...</td>\n",
       "      <td>COMUNA 15</td>\n",
       "      <td>UNITE POR LA LIBERTAD Y LA DIGNIDAD</td>\n",
       "    </tr>\n",
       "    <tr>\n",
       "      <th>616674</th>\n",
       "      <td>25</td>\n",
       "      <td>Junta Comunal Ciudad Autónoma de Buenos Aires ...</td>\n",
       "      <td>COMUNA 15</td>\n",
       "      <td>BLANCO</td>\n",
       "    </tr>\n",
       "    <tr>\n",
       "      <th>616675</th>\n",
       "      <td>0</td>\n",
       "      <td>Junta Comunal Ciudad Autónoma de Buenos Aires ...</td>\n",
       "      <td>COMUNA 15</td>\n",
       "      <td>IMPUGNADO</td>\n",
       "    </tr>\n",
       "    <tr>\n",
       "      <th>616676</th>\n",
       "      <td>0</td>\n",
       "      <td>Junta Comunal Ciudad Autónoma de Buenos Aires ...</td>\n",
       "      <td>COMUNA 15</td>\n",
       "      <td>NULO</td>\n",
       "    </tr>\n",
       "    <tr>\n",
       "      <th>616677</th>\n",
       "      <td>0</td>\n",
       "      <td>Junta Comunal Ciudad Autónoma de Buenos Aires ...</td>\n",
       "      <td>COMUNA 15</td>\n",
       "      <td>RECURRIDO</td>\n",
       "    </tr>\n",
       "  </tbody>\n",
       "</table>\n",
       "<p>616678 rows × 4 columns</p>\n",
       "</div>"
      ],
      "text/plain": [
       "        VOTOS_AGRUPACION                                   NOMBRE_CATEGORIA  \\\n",
       "0                      1        Presidente y Vicepresidente de la República   \n",
       "1                      5        Presidente y Vicepresidente de la República   \n",
       "2                      2        Presidente y Vicepresidente de la República   \n",
       "3                     15        Presidente y Vicepresidente de la República   \n",
       "4                     85        Presidente y Vicepresidente de la República   \n",
       "...                  ...                                                ...   \n",
       "616673                 7  Junta Comunal Ciudad Autónoma de Buenos Aires ...   \n",
       "616674                25  Junta Comunal Ciudad Autónoma de Buenos Aires ...   \n",
       "616675                 0  Junta Comunal Ciudad Autónoma de Buenos Aires ...   \n",
       "616676                 0  Junta Comunal Ciudad Autónoma de Buenos Aires ...   \n",
       "616677                 0  Junta Comunal Ciudad Autónoma de Buenos Aires ...   \n",
       "\n",
       "       NOMBRE_REGION                               NOMBRE_AGRUPACION  \n",
       "0          COMUNA 01                        MOVIMIENTO AL SOCIALISMO  \n",
       "1          COMUNA 01                                      FRENTE NOS  \n",
       "2          COMUNA 01                                 FRENTE PATRIOTA  \n",
       "3          COMUNA 01  FRENTE DE IZQUIERDA Y DE TRABAJADORES - UNIDAD  \n",
       "4          COMUNA 01                            JUNTOS POR EL CAMBIO  \n",
       "...              ...                                             ...  \n",
       "616673     COMUNA 15             UNITE POR LA LIBERTAD Y LA DIGNIDAD  \n",
       "616674     COMUNA 15                                          BLANCO  \n",
       "616675     COMUNA 15                                       IMPUGNADO  \n",
       "616676     COMUNA 15                                            NULO  \n",
       "616677     COMUNA 15                                       RECURRIDO  \n",
       "\n",
       "[616678 rows x 4 columns]"
      ]
     },
     "execution_count": 65,
     "metadata": {},
     "output_type": "execute_result"
    }
   ],
   "source": [
    "base_limpia = base_total[[\"VOTOS_AGRUPACION\", \"NOMBRE_CATEGORIA\", \"NOMBRE_REGION\", \"NOMBRE_AGRUPACION\"]]   #creamos una nueva base solo con los datos que necesitamos\n",
    "base_limpia"
   ]
  },
  {
   "cell_type": "code",
   "execution_count": 66,
   "id": "75ab7155",
   "metadata": {},
   "outputs": [
    {
     "data": {
      "text/html": [
       "<div>\n",
       "<style scoped>\n",
       "    .dataframe tbody tr th:only-of-type {\n",
       "        vertical-align: middle;\n",
       "    }\n",
       "\n",
       "    .dataframe tbody tr th {\n",
       "        vertical-align: top;\n",
       "    }\n",
       "\n",
       "    .dataframe thead th {\n",
       "        text-align: right;\n",
       "    }\n",
       "</style>\n",
       "<table border=\"1\" class=\"dataframe\">\n",
       "  <thead>\n",
       "    <tr style=\"text-align: right;\">\n",
       "      <th></th>\n",
       "      <th>VOTOS_AGRUPACION</th>\n",
       "      <th>NOMBRE_CATEGORIA</th>\n",
       "      <th>NOMBRE_REGION</th>\n",
       "      <th>NOMBRE_AGRUPACION</th>\n",
       "    </tr>\n",
       "  </thead>\n",
       "  <tbody>\n",
       "    <tr>\n",
       "      <th>9</th>\n",
       "      <td>4</td>\n",
       "      <td>Presidente y Vicepresidente de la República</td>\n",
       "      <td>COMUNA 01</td>\n",
       "      <td>UNITE POR LA LIBERTAD Y LA DIGNIDAD</td>\n",
       "    </tr>\n",
       "    <tr>\n",
       "      <th>23</th>\n",
       "      <td>9</td>\n",
       "      <td>Presidente y Vicepresidente de la República</td>\n",
       "      <td>COMUNA 01</td>\n",
       "      <td>UNITE POR LA LIBERTAD Y LA DIGNIDAD</td>\n",
       "    </tr>\n",
       "    <tr>\n",
       "      <th>37</th>\n",
       "      <td>6</td>\n",
       "      <td>Presidente y Vicepresidente de la República</td>\n",
       "      <td>COMUNA 01</td>\n",
       "      <td>UNITE POR LA LIBERTAD Y LA DIGNIDAD</td>\n",
       "    </tr>\n",
       "    <tr>\n",
       "      <th>51</th>\n",
       "      <td>16</td>\n",
       "      <td>Presidente y Vicepresidente de la República</td>\n",
       "      <td>COMUNA 01</td>\n",
       "      <td>UNITE POR LA LIBERTAD Y LA DIGNIDAD</td>\n",
       "    </tr>\n",
       "    <tr>\n",
       "      <th>65</th>\n",
       "      <td>10</td>\n",
       "      <td>Presidente y Vicepresidente de la República</td>\n",
       "      <td>COMUNA 01</td>\n",
       "      <td>UNITE POR LA LIBERTAD Y LA DIGNIDAD</td>\n",
       "    </tr>\n",
       "    <tr>\n",
       "      <th>...</th>\n",
       "      <td>...</td>\n",
       "      <td>...</td>\n",
       "      <td>...</td>\n",
       "      <td>...</td>\n",
       "    </tr>\n",
       "    <tr>\n",
       "      <th>616625</th>\n",
       "      <td>5</td>\n",
       "      <td>Junta Comunal Ciudad Autónoma de Buenos Aires ...</td>\n",
       "      <td>COMUNA 15</td>\n",
       "      <td>UNITE POR LA LIBERTAD Y LA DIGNIDAD</td>\n",
       "    </tr>\n",
       "    <tr>\n",
       "      <th>616637</th>\n",
       "      <td>4</td>\n",
       "      <td>Junta Comunal Ciudad Autónoma de Buenos Aires ...</td>\n",
       "      <td>COMUNA 15</td>\n",
       "      <td>UNITE POR LA LIBERTAD Y LA DIGNIDAD</td>\n",
       "    </tr>\n",
       "    <tr>\n",
       "      <th>616649</th>\n",
       "      <td>14</td>\n",
       "      <td>Junta Comunal Ciudad Autónoma de Buenos Aires ...</td>\n",
       "      <td>COMUNA 15</td>\n",
       "      <td>UNITE POR LA LIBERTAD Y LA DIGNIDAD</td>\n",
       "    </tr>\n",
       "    <tr>\n",
       "      <th>616661</th>\n",
       "      <td>6</td>\n",
       "      <td>Junta Comunal Ciudad Autónoma de Buenos Aires ...</td>\n",
       "      <td>COMUNA 15</td>\n",
       "      <td>UNITE POR LA LIBERTAD Y LA DIGNIDAD</td>\n",
       "    </tr>\n",
       "    <tr>\n",
       "      <th>616673</th>\n",
       "      <td>7</td>\n",
       "      <td>Junta Comunal Ciudad Autónoma de Buenos Aires ...</td>\n",
       "      <td>COMUNA 15</td>\n",
       "      <td>UNITE POR LA LIBERTAD Y LA DIGNIDAD</td>\n",
       "    </tr>\n",
       "  </tbody>\n",
       "</table>\n",
       "<p>47957 rows × 4 columns</p>\n",
       "</div>"
      ],
      "text/plain": [
       "        VOTOS_AGRUPACION                                   NOMBRE_CATEGORIA  \\\n",
       "9                      4        Presidente y Vicepresidente de la República   \n",
       "23                     9        Presidente y Vicepresidente de la República   \n",
       "37                     6        Presidente y Vicepresidente de la República   \n",
       "51                    16        Presidente y Vicepresidente de la República   \n",
       "65                    10        Presidente y Vicepresidente de la República   \n",
       "...                  ...                                                ...   \n",
       "616625                 5  Junta Comunal Ciudad Autónoma de Buenos Aires ...   \n",
       "616637                 4  Junta Comunal Ciudad Autónoma de Buenos Aires ...   \n",
       "616649                14  Junta Comunal Ciudad Autónoma de Buenos Aires ...   \n",
       "616661                 6  Junta Comunal Ciudad Autónoma de Buenos Aires ...   \n",
       "616673                 7  Junta Comunal Ciudad Autónoma de Buenos Aires ...   \n",
       "\n",
       "       NOMBRE_REGION                    NOMBRE_AGRUPACION  \n",
       "9          COMUNA 01  UNITE POR LA LIBERTAD Y LA DIGNIDAD  \n",
       "23         COMUNA 01  UNITE POR LA LIBERTAD Y LA DIGNIDAD  \n",
       "37         COMUNA 01  UNITE POR LA LIBERTAD Y LA DIGNIDAD  \n",
       "51         COMUNA 01  UNITE POR LA LIBERTAD Y LA DIGNIDAD  \n",
       "65         COMUNA 01  UNITE POR LA LIBERTAD Y LA DIGNIDAD  \n",
       "...              ...                                  ...  \n",
       "616625     COMUNA 15  UNITE POR LA LIBERTAD Y LA DIGNIDAD  \n",
       "616637     COMUNA 15  UNITE POR LA LIBERTAD Y LA DIGNIDAD  \n",
       "616649     COMUNA 15  UNITE POR LA LIBERTAD Y LA DIGNIDAD  \n",
       "616661     COMUNA 15  UNITE POR LA LIBERTAD Y LA DIGNIDAD  \n",
       "616673     COMUNA 15  UNITE POR LA LIBERTAD Y LA DIGNIDAD  \n",
       "\n",
       "[47957 rows x 4 columns]"
      ]
     },
     "execution_count": 66,
     "metadata": {},
     "output_type": "execute_result"
    }
   ],
   "source": [
    "base_limpia[base_limpia['NOMBRE_AGRUPACION']==\"UNITE POR LA LIBERTAD Y LA DIGNIDAD\"]    #filtramos por partido\n",
    "\n"
   ]
  },
  {
   "cell_type": "code",
   "execution_count": 70,
   "id": "2480f451",
   "metadata": {},
   "outputs": [
    {
     "name": "stdout",
     "output_type": "stream",
     "text": [
      "        VOTOS_AGRUPACION                             NOMBRE_CATEGORIA  \\\n",
      "0                      1  Presidente y Vicepresidente de la República   \n",
      "1                      5  Presidente y Vicepresidente de la República   \n",
      "2                      2  Presidente y Vicepresidente de la República   \n",
      "3                     15  Presidente y Vicepresidente de la República   \n",
      "4                     85  Presidente y Vicepresidente de la República   \n",
      "...                  ...                                          ...   \n",
      "103721                10  Presidente y Vicepresidente de la República   \n",
      "103722                13  Presidente y Vicepresidente de la República   \n",
      "103723                 0  Presidente y Vicepresidente de la República   \n",
      "103724                 0  Presidente y Vicepresidente de la República   \n",
      "103725                 0  Presidente y Vicepresidente de la República   \n",
      "\n",
      "       NOMBRE_REGION                               NOMBRE_AGRUPACION  \n",
      "0          COMUNA 01                        MOVIMIENTO AL SOCIALISMO  \n",
      "1          COMUNA 01                                      FRENTE NOS  \n",
      "2          COMUNA 01                                 FRENTE PATRIOTA  \n",
      "3          COMUNA 01  FRENTE DE IZQUIERDA Y DE TRABAJADORES - UNIDAD  \n",
      "4          COMUNA 01                            JUNTOS POR EL CAMBIO  \n",
      "...              ...                                             ...  \n",
      "103721     COMUNA 15             UNITE POR LA LIBERTAD Y LA DIGNIDAD  \n",
      "103722     COMUNA 15                                          BLANCO  \n",
      "103723     COMUNA 15                                       IMPUGNADO  \n",
      "103724     COMUNA 15                                            NULO  \n",
      "103725     COMUNA 15                                       RECURRIDO  \n",
      "\n",
      "[103726 rows x 4 columns]\n"
     ]
    }
   ],
   "source": [
    "#base_limpia[base_limpia[\"NOMBRE_CATEGORIA\"]== 'Presidente y Vicepresidente de la República']\n",
    "#Filtramos las variables de vice y presi\n",
    "presi_vice = base_limpia[base_limpia[\"NOMBRE_CATEGORIA\"]== 'Presidente y Vicepresidente de la República']\n",
    "print(presi_vice)"
   ]
  },
  {
   "cell_type": "code",
   "execution_count": 71,
   "id": "b1ecf7f5",
   "metadata": {},
   "outputs": [],
   "source": [
    "#Filtro comuna 1\n",
    "comuna1 = presi_vice[presi_vice[\"NOMBRE_REGION\"]=='COMUNA 01']\n",
    "#comuna1"
   ]
  },
  {
   "cell_type": "code",
   "execution_count": 72,
   "id": "499ac6f6",
   "metadata": {},
   "outputs": [
    {
     "data": {
      "text/plain": [
       "NOMBRE_AGRUPACION\n",
       "BLANCO                                             3674\n",
       "CONSENSO FEDERAL                                   8305\n",
       "FRENTE DE IZQUIERDA Y DE TRABAJADORES - UNIDAD     4368\n",
       "FRENTE DE TODOS                                   42299\n",
       "FRENTE NOS                                         1763\n",
       "FRENTE PATRIOTA                                     379\n",
       "IMPUGNADO                                            14\n",
       "JUNTOS POR EL CAMBIO                              54568\n",
       "MOVIMIENTO AL SOCIALISMO                           1186\n",
       "MOVIMIENTO DE ACCION VECINAL                        159\n",
       "NULO                                               1010\n",
       "PARTIDO AUTONOMISTA                                 141\n",
       "RECURRIDO                                            62\n",
       "UNITE POR LA LIBERTAD Y LA DIGNIDAD                4106\n",
       "Name: VOTOS_AGRUPACION, dtype: int64"
      ]
     },
     "execution_count": 72,
     "metadata": {},
     "output_type": "execute_result"
    }
   ],
   "source": [
    "#Sumo todos los votos de cada agrupación en la comuna 1\n",
    "vot1 = comuna1.groupby([\"NOMBRE_AGRUPACION\"])[\"VOTOS_AGRUPACION\"].sum()\n",
    "vot1"
   ]
  },
  {
   "cell_type": "code",
   "execution_count": 73,
   "id": "fb28f1e6",
   "metadata": {},
   "outputs": [
    {
     "data": {
      "text/plain": [
       "NOMBRE_AGRUPACION\n",
       "BLANCO                                             2493\n",
       "CONSENSO FEDERAL                                   6604\n",
       "FRENTE DE IZQUIERDA Y DE TRABAJADORES - UNIDAD     2620\n",
       "FRENTE DE TODOS                                   19615\n",
       "FRENTE NOS                                         1841\n",
       "FRENTE PATRIOTA                                     178\n",
       "IMPUGNADO                                            21\n",
       "JUNTOS POR EL CAMBIO                              65519\n",
       "MOVIMIENTO AL SOCIALISMO                            840\n",
       "MOVIMIENTO DE ACCION VECINAL                         68\n",
       "NULO                                                756\n",
       "PARTIDO AUTONOMISTA                                  73\n",
       "RECURRIDO                                            39\n",
       "UNITE POR LA LIBERTAD Y LA DIGNIDAD                3627\n",
       "Name: VOTOS_AGRUPACION, dtype: int64"
      ]
     },
     "execution_count": 73,
     "metadata": {},
     "output_type": "execute_result"
    }
   ],
   "source": [
    "#Hacemos lo mismo con cada una de las comunas.\n",
    "comuna2 = presi_vice[presi_vice[\"NOMBRE_REGION\"]=='COMUNA 02'] #Comuna 2\n",
    "vot2 = comuna2.groupby([\"NOMBRE_AGRUPACION\"])[\"VOTOS_AGRUPACION\"].sum()\n",
    "vot2"
   ]
  },
  {
   "cell_type": "code",
   "execution_count": 74,
   "id": "4318f00d",
   "metadata": {},
   "outputs": [
    {
     "data": {
      "text/plain": [
       "NOMBRE_AGRUPACION\n",
       "BLANCO                                             3790\n",
       "CONSENSO FEDERAL                                   9685\n",
       "FRENTE DE IZQUIERDA Y DE TRABAJADORES - UNIDAD     5124\n",
       "FRENTE DE TODOS                                   43139\n",
       "FRENTE NOS                                         1419\n",
       "FRENTE PATRIOTA                                     402\n",
       "IMPUGNADO                                             7\n",
       "JUNTOS POR EL CAMBIO                              46502\n",
       "MOVIMIENTO AL SOCIALISMO                           1380\n",
       "MOVIMIENTO DE ACCION VECINAL                        145\n",
       "NULO                                               1299\n",
       "PARTIDO AUTONOMISTA                                 189\n",
       "RECURRIDO                                            25\n",
       "UNITE POR LA LIBERTAD Y LA DIGNIDAD                4051\n",
       "Name: VOTOS_AGRUPACION, dtype: int64"
      ]
     },
     "execution_count": 74,
     "metadata": {},
     "output_type": "execute_result"
    }
   ],
   "source": [
    "comuna3 = presi_vice[presi_vice[\"NOMBRE_REGION\"]=='COMUNA 03'] #Comuna 3\n",
    "vot3 = comuna3.groupby([\"NOMBRE_AGRUPACION\"])[\"VOTOS_AGRUPACION\"].sum()\n",
    "vot3"
   ]
  },
  {
   "cell_type": "code",
   "execution_count": 75,
   "id": "1677d10d",
   "metadata": {},
   "outputs": [
    {
     "data": {
      "text/plain": [
       "NOMBRE_AGRUPACION\n",
       "BLANCO                                             5801\n",
       "CONSENSO FEDERAL                                  10671\n",
       "FRENTE DE IZQUIERDA Y DE TRABAJADORES - UNIDAD     5798\n",
       "FRENTE DE TODOS                                   57837\n",
       "FRENTE NOS                                         1622\n",
       "FRENTE PATRIOTA                                     443\n",
       "IMPUGNADO                                            35\n",
       "JUNTOS POR EL CAMBIO                              47191\n",
       "MOVIMIENTO AL SOCIALISMO                           1473\n",
       "MOVIMIENTO DE ACCION VECINAL                        234\n",
       "NULO                                               1426\n",
       "PARTIDO AUTONOMISTA                                 198\n",
       "RECURRIDO                                            36\n",
       "UNITE POR LA LIBERTAD Y LA DIGNIDAD                4134\n",
       "Name: VOTOS_AGRUPACION, dtype: int64"
      ]
     },
     "execution_count": 75,
     "metadata": {},
     "output_type": "execute_result"
    }
   ],
   "source": [
    "comuna4 = presi_vice[presi_vice[\"NOMBRE_REGION\"]=='COMUNA 04'] #Comuna 4\n",
    "vot4 = comuna4.groupby([\"NOMBRE_AGRUPACION\"])[\"VOTOS_AGRUPACION\"].sum()\n",
    "vot4"
   ]
  },
  {
   "cell_type": "code",
   "execution_count": 76,
   "id": "1f86a985",
   "metadata": {},
   "outputs": [
    {
     "data": {
      "text/plain": [
       "NOMBRE_AGRUPACION\n",
       "BLANCO                                             2493\n",
       "CONSENSO FEDERAL                                   6604\n",
       "FRENTE DE IZQUIERDA Y DE TRABAJADORES - UNIDAD     2620\n",
       "FRENTE DE TODOS                                   19615\n",
       "FRENTE NOS                                         1841\n",
       "FRENTE PATRIOTA                                     178\n",
       "IMPUGNADO                                            21\n",
       "JUNTOS POR EL CAMBIO                              65519\n",
       "MOVIMIENTO AL SOCIALISMO                            840\n",
       "MOVIMIENTO DE ACCION VECINAL                         68\n",
       "NULO                                                756\n",
       "PARTIDO AUTONOMISTA                                  73\n",
       "RECURRIDO                                            39\n",
       "UNITE POR LA LIBERTAD Y LA DIGNIDAD                3627\n",
       "Name: VOTOS_AGRUPACION, dtype: int64"
      ]
     },
     "execution_count": 76,
     "metadata": {},
     "output_type": "execute_result"
    }
   ],
   "source": [
    "comuna5 = presi_vice[presi_vice[\"NOMBRE_REGION\"]=='COMUNA 05'] #Comuna 5\n",
    "vot5 = comuna2.groupby([\"NOMBRE_AGRUPACION\"])[\"VOTOS_AGRUPACION\"].sum()\n",
    "vot5"
   ]
  },
  {
   "cell_type": "code",
   "execution_count": 77,
   "id": "d8043e24",
   "metadata": {},
   "outputs": [
    {
     "data": {
      "text/plain": [
       "NOMBRE_AGRUPACION\n",
       "BLANCO                                             3968\n",
       "CONSENSO FEDERAL                                  12071\n",
       "FRENTE DE IZQUIERDA Y DE TRABAJADORES - UNIDAD     5248\n",
       "FRENTE DE TODOS                                   38548\n",
       "FRENTE NOS                                         1084\n",
       "FRENTE PATRIOTA                                     279\n",
       "IMPUGNADO                                             9\n",
       "JUNTOS POR EL CAMBIO                              58450\n",
       "MOVIMIENTO AL SOCIALISMO                           1721\n",
       "MOVIMIENTO DE ACCION VECINAL                        123\n",
       "NULO                                               1199\n",
       "PARTIDO AUTONOMISTA                                  95\n",
       "RECURRIDO                                            40\n",
       "UNITE POR LA LIBERTAD Y LA DIGNIDAD                4759\n",
       "Name: VOTOS_AGRUPACION, dtype: int64"
      ]
     },
     "execution_count": 77,
     "metadata": {},
     "output_type": "execute_result"
    }
   ],
   "source": [
    "comuna6 = presi_vice[presi_vice[\"NOMBRE_REGION\"]=='COMUNA 06'] #Comuna 6\n",
    "vot6 = comuna6.groupby([\"NOMBRE_AGRUPACION\"])[\"VOTOS_AGRUPACION\"].sum()\n",
    "vot6"
   ]
  },
  {
   "cell_type": "code",
   "execution_count": 78,
   "id": "4979c6d8",
   "metadata": {},
   "outputs": [
    {
     "data": {
      "text/plain": [
       "NOMBRE_AGRUPACION\n",
       "BLANCO                                             4631\n",
       "CONSENSO FEDERAL                                  12772\n",
       "FRENTE DE IZQUIERDA Y DE TRABAJADORES - UNIDAD     5247\n",
       "FRENTE DE TODOS                                   47901\n",
       "FRENTE NOS                                         1444\n",
       "FRENTE PATRIOTA                                     358\n",
       "IMPUGNADO                                            55\n",
       "JUNTOS POR EL CAMBIO                              53251\n",
       "MOVIMIENTO AL SOCIALISMO                           1641\n",
       "MOVIMIENTO DE ACCION VECINAL                        181\n",
       "NULO                                               1325\n",
       "PARTIDO AUTONOMISTA                                 164\n",
       "RECURRIDO                                            52\n",
       "UNITE POR LA LIBERTAD Y LA DIGNIDAD                5099\n",
       "Name: VOTOS_AGRUPACION, dtype: int64"
      ]
     },
     "execution_count": 78,
     "metadata": {},
     "output_type": "execute_result"
    }
   ],
   "source": [
    "comuna7 = presi_vice[presi_vice[\"NOMBRE_REGION\"]=='COMUNA 07'] #Comuna 7\n",
    "vot7 = comuna7.groupby([\"NOMBRE_AGRUPACION\"])[\"VOTOS_AGRUPACION\"].sum()\n",
    "vot7"
   ]
  },
  {
   "cell_type": "code",
   "execution_count": 79,
   "id": "283e1a46",
   "metadata": {},
   "outputs": [
    {
     "data": {
      "text/plain": [
       "NOMBRE_AGRUPACION\n",
       "BLANCO                                             3792\n",
       "CONSENSO FEDERAL                                   8297\n",
       "FRENTE DE IZQUIERDA Y DE TRABAJADORES - UNIDAD     4018\n",
       "FRENTE DE TODOS                                   51803\n",
       "FRENTE NOS                                         1421\n",
       "FRENTE PATRIOTA                                     354\n",
       "IMPUGNADO                                            68\n",
       "JUNTOS POR EL CAMBIO                              31848\n",
       "MOVIMIENTO AL SOCIALISMO                            847\n",
       "MOVIMIENTO DE ACCION VECINAL                        224\n",
       "NULO                                               1246\n",
       "PARTIDO AUTONOMISTA                                 193\n",
       "RECURRIDO                                            45\n",
       "UNITE POR LA LIBERTAD Y LA DIGNIDAD                2964\n",
       "Name: VOTOS_AGRUPACION, dtype: int64"
      ]
     },
     "execution_count": 79,
     "metadata": {},
     "output_type": "execute_result"
    }
   ],
   "source": [
    "comuna8 = presi_vice[presi_vice[\"NOMBRE_REGION\"]=='COMUNA 08'] #Comuna 8\n",
    "vot8 = comuna8.groupby([\"NOMBRE_AGRUPACION\"])[\"VOTOS_AGRUPACION\"].sum()\n",
    "vot8"
   ]
  },
  {
   "cell_type": "code",
   "execution_count": 80,
   "id": "200ed74c",
   "metadata": {},
   "outputs": [
    {
     "data": {
      "text/plain": [
       "NOMBRE_AGRUPACION\n",
       "BLANCO                                             3818\n",
       "CONSENSO FEDERAL                                  11999\n",
       "FRENTE DE IZQUIERDA Y DE TRABAJADORES - UNIDAD     4568\n",
       "FRENTE DE TODOS                                   44797\n",
       "FRENTE NOS                                         1395\n",
       "FRENTE PATRIOTA                                     389\n",
       "IMPUGNADO                                            30\n",
       "JUNTOS POR EL CAMBIO                              42504\n",
       "MOVIMIENTO AL SOCIALISMO                           1198\n",
       "MOVIMIENTO DE ACCION VECINAL                        160\n",
       "NULO                                               1253\n",
       "PARTIDO AUTONOMISTA                                 138\n",
       "RECURRIDO                                            28\n",
       "UNITE POR LA LIBERTAD Y LA DIGNIDAD                4355\n",
       "Name: VOTOS_AGRUPACION, dtype: int64"
      ]
     },
     "execution_count": 80,
     "metadata": {},
     "output_type": "execute_result"
    }
   ],
   "source": [
    "comuna9 = presi_vice[presi_vice[\"NOMBRE_REGION\"]=='COMUNA 09'] #Comuna 9\n",
    "vot9 = comuna9.groupby([\"NOMBRE_AGRUPACION\"])[\"VOTOS_AGRUPACION\"].sum()\n",
    "vot9"
   ]
  },
  {
   "cell_type": "code",
   "execution_count": 81,
   "id": "72f633ef",
   "metadata": {},
   "outputs": [
    {
     "data": {
      "text/plain": [
       "NOMBRE_AGRUPACION\n",
       "BLANCO                                             2493\n",
       "CONSENSO FEDERAL                                   6604\n",
       "FRENTE DE IZQUIERDA Y DE TRABAJADORES - UNIDAD     2620\n",
       "FRENTE DE TODOS                                   19615\n",
       "FRENTE NOS                                         1841\n",
       "FRENTE PATRIOTA                                     178\n",
       "IMPUGNADO                                            21\n",
       "JUNTOS POR EL CAMBIO                              65519\n",
       "MOVIMIENTO AL SOCIALISMO                            840\n",
       "MOVIMIENTO DE ACCION VECINAL                         68\n",
       "NULO                                                756\n",
       "PARTIDO AUTONOMISTA                                  73\n",
       "RECURRIDO                                            39\n",
       "UNITE POR LA LIBERTAD Y LA DIGNIDAD                3627\n",
       "Name: VOTOS_AGRUPACION, dtype: int64"
      ]
     },
     "execution_count": 81,
     "metadata": {},
     "output_type": "execute_result"
    }
   ],
   "source": [
    "comuna10 = presi_vice[presi_vice[\"NOMBRE_REGION\"]=='COMUNA 10'] #Comuna 10\n",
    "vot10 = comuna2.groupby([\"NOMBRE_AGRUPACION\"])[\"VOTOS_AGRUPACION\"].sum()\n",
    "vot10"
   ]
  },
  {
   "cell_type": "code",
   "execution_count": 82,
   "id": "f9299ad8",
   "metadata": {},
   "outputs": [
    {
     "data": {
      "text/plain": [
       "NOMBRE_AGRUPACION\n",
       "BLANCO                                             4363\n",
       "CONSENSO FEDERAL                                  14253\n",
       "FRENTE DE IZQUIERDA Y DE TRABAJADORES - UNIDAD     5461\n",
       "FRENTE DE TODOS                                   42788\n",
       "FRENTE NOS                                         1546\n",
       "FRENTE PATRIOTA                                     393\n",
       "IMPUGNADO                                            21\n",
       "JUNTOS POR EL CAMBIO                              60101\n",
       "MOVIMIENTO AL SOCIALISMO                           1557\n",
       "MOVIMIENTO DE ACCION VECINAL                        185\n",
       "NULO                                               1541\n",
       "PARTIDO AUTONOMISTA                                 156\n",
       "RECURRIDO                                            42\n",
       "UNITE POR LA LIBERTAD Y LA DIGNIDAD                5329\n",
       "Name: VOTOS_AGRUPACION, dtype: int64"
      ]
     },
     "execution_count": 82,
     "metadata": {},
     "output_type": "execute_result"
    }
   ],
   "source": [
    "comuna11 = presi_vice[presi_vice[\"NOMBRE_REGION\"]=='COMUNA 11'] #Comuna 11\n",
    "vot11 = comuna11.groupby([\"NOMBRE_AGRUPACION\"])[\"VOTOS_AGRUPACION\"].sum()\n",
    "vot11"
   ]
  },
  {
   "cell_type": "code",
   "execution_count": 83,
   "id": "7847fcaf",
   "metadata": {},
   "outputs": [
    {
     "data": {
      "text/plain": [
       "NOMBRE_AGRUPACION\n",
       "BLANCO                                             4720\n",
       "CONSENSO FEDERAL                                  14814\n",
       "FRENTE DE IZQUIERDA Y DE TRABAJADORES - UNIDAD     6180\n",
       "FRENTE DE TODOS                                   45793\n",
       "FRENTE NOS                                         1621\n",
       "FRENTE PATRIOTA                                     383\n",
       "IMPUGNADO                                            27\n",
       "JUNTOS POR EL CAMBIO                              69058\n",
       "MOVIMIENTO AL SOCIALISMO                           1759\n",
       "MOVIMIENTO DE ACCION VECINAL                        194\n",
       "NULO                                               1527\n",
       "PARTIDO AUTONOMISTA                                 148\n",
       "RECURRIDO                                            33\n",
       "UNITE POR LA LIBERTAD Y LA DIGNIDAD                5902\n",
       "Name: VOTOS_AGRUPACION, dtype: int64"
      ]
     },
     "execution_count": 83,
     "metadata": {},
     "output_type": "execute_result"
    }
   ],
   "source": [
    "comuna12 = presi_vice[presi_vice[\"NOMBRE_REGION\"]=='COMUNA 12'] #Comuna 12\n",
    "vot12 = comuna12.groupby([\"NOMBRE_AGRUPACION\"])[\"VOTOS_AGRUPACION\"].sum()\n",
    "vot12"
   ]
  },
  {
   "cell_type": "code",
   "execution_count": 84,
   "id": "aa42f843",
   "metadata": {},
   "outputs": [
    {
     "data": {
      "text/plain": [
       "NOMBRE_AGRUPACION\n",
       "BLANCO                                             2493\n",
       "CONSENSO FEDERAL                                   6604\n",
       "FRENTE DE IZQUIERDA Y DE TRABAJADORES - UNIDAD     2620\n",
       "FRENTE DE TODOS                                   19615\n",
       "FRENTE NOS                                         1841\n",
       "FRENTE PATRIOTA                                     178\n",
       "IMPUGNADO                                            21\n",
       "JUNTOS POR EL CAMBIO                              65519\n",
       "MOVIMIENTO AL SOCIALISMO                            840\n",
       "MOVIMIENTO DE ACCION VECINAL                         68\n",
       "NULO                                                756\n",
       "PARTIDO AUTONOMISTA                                  73\n",
       "RECURRIDO                                            39\n",
       "UNITE POR LA LIBERTAD Y LA DIGNIDAD                3627\n",
       "Name: VOTOS_AGRUPACION, dtype: int64"
      ]
     },
     "execution_count": 84,
     "metadata": {},
     "output_type": "execute_result"
    }
   ],
   "source": [
    "comuna13 = presi_vice[presi_vice[\"NOMBRE_REGION\"]=='COMUNA 13'] #Comuna 13\n",
    "vot13 = comuna2.groupby([\"NOMBRE_AGRUPACION\"])[\"VOTOS_AGRUPACION\"].sum()\n",
    "vot13"
   ]
  },
  {
   "cell_type": "code",
   "execution_count": 85,
   "id": "1f2f0873",
   "metadata": {},
   "outputs": [
    {
     "data": {
      "text/plain": [
       "NOMBRE_AGRUPACION\n",
       "BLANCO                                             4102\n",
       "CONSENSO FEDERAL                                  11017\n",
       "FRENTE DE IZQUIERDA Y DE TRABAJADORES - UNIDAD     4675\n",
       "FRENTE DE TODOS                                   35605\n",
       "FRENTE NOS                                         1777\n",
       "FRENTE PATRIOTA                                     298\n",
       "IMPUGNADO                                            26\n",
       "JUNTOS POR EL CAMBIO                              90998\n",
       "MOVIMIENTO AL SOCIALISMO                           1453\n",
       "MOVIMIENTO DE ACCION VECINAL                        126\n",
       "NULO                                               1222\n",
       "PARTIDO AUTONOMISTA                                 112\n",
       "RECURRIDO                                            39\n",
       "UNITE POR LA LIBERTAD Y LA DIGNIDAD                5334\n",
       "Name: VOTOS_AGRUPACION, dtype: int64"
      ]
     },
     "execution_count": 85,
     "metadata": {},
     "output_type": "execute_result"
    }
   ],
   "source": [
    "comuna14 = presi_vice[presi_vice[\"NOMBRE_REGION\"]=='COMUNA 14'] #Comuna 14\n",
    "vot14 = comuna14.groupby([\"NOMBRE_AGRUPACION\"])[\"VOTOS_AGRUPACION\"].sum()\n",
    "vot14"
   ]
  },
  {
   "cell_type": "code",
   "execution_count": 86,
   "id": "affa32cc",
   "metadata": {},
   "outputs": [
    {
     "data": {
      "text/plain": [
       "NOMBRE_AGRUPACION\n",
       "BLANCO                                             4509\n",
       "CONSENSO FEDERAL                                  11488\n",
       "FRENTE DE IZQUIERDA Y DE TRABAJADORES - UNIDAD     6094\n",
       "FRENTE DE TODOS                                   47133\n",
       "FRENTE NOS                                         1074\n",
       "FRENTE PATRIOTA                                     335\n",
       "IMPUGNADO                                            16\n",
       "JUNTOS POR EL CAMBIO                              50344\n",
       "MOVIMIENTO AL SOCIALISMO                           1648\n",
       "MOVIMIENTO DE ACCION VECINAL                        159\n",
       "NULO                                               1358\n",
       "PARTIDO AUTONOMISTA                                 125\n",
       "RECURRIDO                                            61\n",
       "UNITE POR LA LIBERTAD Y LA DIGNIDAD                4203\n",
       "Name: VOTOS_AGRUPACION, dtype: int64"
      ]
     },
     "execution_count": 86,
     "metadata": {},
     "output_type": "execute_result"
    }
   ],
   "source": [
    "comuna15 = presi_vice[presi_vice[\"NOMBRE_REGION\"]=='COMUNA 15'] #Comuna 15\n",
    "vot15 = comuna15.groupby([\"NOMBRE_AGRUPACION\"])[\"VOTOS_AGRUPACION\"].sum()\n",
    "vot15"
   ]
  },
  {
   "cell_type": "code",
   "execution_count": 216,
   "id": "e6cb57eb",
   "metadata": {},
   "outputs": [],
   "source": [
    "import os\n",
    "import seaborn as sns\n",
    "import matplotlib.pyplot as plt"
   ]
  },
  {
   "cell_type": "code",
   "execution_count": 250,
   "id": "d861400c",
   "metadata": {},
   "outputs": [
    {
     "data": {
      "text/plain": [
       "NOMBRE_AGRUPACION\n",
       "BLANCO                                             62397\n",
       "CONSENSO FEDERAL                                  168607\n",
       "FRENTE DE IZQUIERDA Y DE TRABAJADORES - UNIDAD     75746\n",
       "FRENTE DE TODOS                                   637891\n",
       "FRENTE NOS                                         22592\n",
       "FRENTE PATRIOTA                                     5172\n",
       "IMPUGNADO                                            383\n",
       "JUNTOS POR EL CAMBIO                              863169\n",
       "MOVIMIENTO AL SOCIALISMO                           21470\n",
       "MOVIMIENTO DE ACCION VECINAL                        2406\n",
       "NULO                                               19116\n",
       "PARTIDO AUTONOMISTA                                 2126\n",
       "RECURRIDO                                            644\n",
       "UNITE POR LA LIBERTAD Y LA DIGNIDAD                68828\n",
       "Name: VOTOS_AGRUPACION, dtype: int64"
      ]
     },
     "execution_count": 250,
     "metadata": {},
     "output_type": "execute_result"
    }
   ],
   "source": [
    "total_agrupados=presi_vice.groupby(\"NOMBRE_AGRUPACION\")[\"VOTOS_AGRUPACION\"].sum()\n",
    "#prueba porcentaje total['Porcentaje'] = (total['VOTOS_AGRUPACION'] / total['VOTOS_AGRUPACION'].sum())*100 #provar porcentaje\n",
    "total_agrupados"
   ]
  },
  {
   "cell_type": "code",
   "execution_count": 246,
   "id": "ef4c41f4",
   "metadata": {},
   "outputs": [
    {
     "data": {
      "image/png": "[encoded data removed]",
      "text/plain": [
       "<Figure size 1080x720 with 1 Axes>"
      ]
     },
     "metadata": {},
     "output_type": "display_data"
    }
   ],
   "source": [
    "plt.figure(figsize=(15,10))\n",
    "plt.bar(x=total_agrupados.index,height=total_agrupados)        \n",
    "plt.xticks(rotation=90)\n",
    "plt.title(\"1. Votos por Partido en CABA\",fontsize=20)\n",
    "plt.show()"
   ]
  },
  {
   "cell_type": "code",
   "execution_count": 219,
   "id": "3041e94a",
   "metadata": {},
   "outputs": [],
   "source": [
    "partido_unite=presi_vice.loc[presi_vice[\"NOMBRE_AGRUPACION\"]==\"UNITE POR LA LIBERTAD Y LA DIGNIDAD\"]\n",
    "votos_comuna= partido_unite.groupby(\"NOMBRE_REGION\")[\"VOTOS_AGRUPACION\"].sum()"
   ]
  },
  {
   "cell_type": "code",
   "execution_count": 241,
   "id": "8ed88ea8",
   "metadata": {},
   "outputs": [
    {
     "data": {
      "image/png": "[encoded data removed]",
      "text/plain": [
       "<Figure size 1080x720 with 1 Axes>"
      ]
     },
     "metadata": {},
     "output_type": "display_data"
    }
   ],
   "source": [
    "plt.figure(figsize=(15,10))\n",
    "plt.bar(x=votos_comuna.index,height=votos_comuna)        \n",
    "plt.xticks(rotation=45)\n",
    "plt.title(\"2. Votos Partído Unite por la Libertad y la Dignidad por comuna\",fontsize=20)\n",
    "plt.show()"
   ]
  },
  {
   "cell_type": "code",
   "execution_count": 224,
   "id": "7f434492",
   "metadata": {},
   "outputs": [],
   "source": [
    "analisis_final= pd.pivot_table(presi_vice,values=\"VOTOS_AGRUPACION\",index=\"NOMBRE_REGION\",columns=\"NOMBRE_AGRUPACION\",aggfunc=\"sum\")"
   ]
  },
  {
   "cell_type": "code",
   "execution_count": 240,
   "id": "9fd8b060",
   "metadata": {},
   "outputs": [
    {
     "data": {
      "image/png": "[encoded data removed]",
      "text/plain": [
       "<Figure size 1080x1080 with 1 Axes>"
      ]
     },
     "metadata": {},
     "output_type": "display_data"
    }
   ],
   "source": [
    "analisis_final.plot(kind=\"bar\",stacked=True,figsize=(15,15),ylim=(0,220000),xlabel=\"\")\n",
    "plt.title(\"3. Resultados finales: Votos por partido en cada comuna\",fontsize=20)\n",
    "plt.show()  "
   ]
  },
  {
   "cell_type": "code",
   "execution_count": 247,
   "id": "f8686abd",
   "metadata": {},
   "outputs": [],
   "source": [
    "#Analis: El grafico n1 expone los resultados generales de las elecciones Primarias Abiertas Simultaneas Obligatorias del 2019\n",
    "#para el cargo Ejecutivo Nacional.El partido, unite por la libertad y la dignidad se posiciono como la quinta fuerza más votada \n",
    "#en la Ciudad de Buenos Aires. Si profundizamos en los resultados, como muestra el grafico n2, el partido representado por \n",
    "# Jose Luis Espert ganó en la Comuna 13, que esta conformada por los barrios del Noreste de la Ciudad,Nuñez, Colegiales y \n",
    "#Belgrano.Si bien, podria considerense que en la Comuna 8 (ubicada en la zona Suroeste, entre los barrios Villa \n",
    "#Lugano, Villa Soldati y Villa Riachuelo) era evidente que el partido Unite no iba a hacer una gran elección. Asi como lo \n",
    "#muestra el gráfico numero2 fue en la comuna que obtuvo menos votos. Continuando con los puntos débiles del partido, en la \n",
    "#comuna 4 (Nueva Pompeya,Parque Patricios,Barracas y la Boca) y en la cinco (Almagro y Boedo)\n",
    "\n",
    "#Sin embargo, llama la atención que el segundo distrito donde menos votos recibió fue en la comuna2 delimitada por el barrio\n",
    "#Recoleta. Esto puede verse en el gráfico numero3, donde en dicho territorio Juntos por el Cambio alcanzó la mayoria de votos.\n",
    "#Siguiendo este analisis creemos que la mejor estrategia a llevar adelante por Unite es tratar de obtener los votos de Juntos \n",
    "#por el Cambio ya que atrae "
   ]
  },
  {
   "cell_type": "code",
   "execution_count": null,
   "id": "5dce4fea",
   "metadata": {},
   "outputs": [],
   "source": []
  }
 ],
 "metadata": {
  "interpreter": {
   "hash": "f9cdabf1c00ea275d2f1f13cd64178184616e8297363ef177075a22a00813341"
  },
  "kernelspec": {
   "display_name": "Python 3",
   "language": "python",
   "name": "python3"
  },
  "language_info": {
   "codemirror_mode": {
    "name": "ipython",
    "version": 3
   },
   "file_extension": ".py",
   "mimetype": "text/x-python",
   "name": "python",
   "nbconvert_exporter": "python",
   "pygments_lexer": "ipython3",
   "version": "3.8.8"
  }
 },
 "nbformat": 4,
 "nbformat_minor": 5
}
