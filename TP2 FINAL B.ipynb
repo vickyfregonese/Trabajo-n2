{
 "cells": [
  {
   "cell_type": "code",
   "execution_count": 30,
   "id": "c4978662",
   "metadata": {
    "scrolled": true
   },
   "outputs": [
    {
     "ename": "ModuleNotFoundError",
     "evalue": "No module named 'contextily'",
     "output_type": "error",
     "traceback": [
      "\u001b[1;31m---------------------------------------------------------------------------\u001b[0m",
      "\u001b[1;31mModuleNotFoundError\u001b[0m                       Traceback (most recent call last)",
      "\u001b[1;32m~\\AppData\\Local\\Temp/ipykernel_11532/354305970.py\u001b[0m in \u001b[0;36m<module>\u001b[1;34m\u001b[0m\n\u001b[0;32m      3\u001b[0m \u001b[1;32mimport\u001b[0m \u001b[0mmatplotlib\u001b[0m\u001b[1;33m.\u001b[0m\u001b[0mpyplot\u001b[0m \u001b[1;32mas\u001b[0m \u001b[0mplt\u001b[0m\u001b[1;33m\u001b[0m\u001b[1;33m\u001b[0m\u001b[0m\n\u001b[0;32m      4\u001b[0m \u001b[1;32mimport\u001b[0m \u001b[0mgeopandas\u001b[0m \u001b[1;32mas\u001b[0m \u001b[0mgpd\u001b[0m\u001b[1;33m\u001b[0m\u001b[1;33m\u001b[0m\u001b[0m\n\u001b[1;32m----> 5\u001b[1;33m \u001b[1;32mimport\u001b[0m \u001b[0mcontextily\u001b[0m \u001b[1;32mas\u001b[0m \u001b[0mctx\u001b[0m\u001b[1;33m\u001b[0m\u001b[1;33m\u001b[0m\u001b[0m\n\u001b[0m\u001b[0;32m      6\u001b[0m \u001b[1;33m\u001b[0m\u001b[0m\n\u001b[0;32m      7\u001b[0m \u001b[1;33m\u001b[0m\u001b[0m\n",
      "\u001b[1;31mModuleNotFoundError\u001b[0m: No module named 'contextily'"
     ]
    }
   ],
   "source": [
    "import pandas as pd \n",
    "import numpy as np\n",
    "import matplotlib.pyplot as plt\n",
    "import geopandas as gpd\n",
    "import contextily as ctx\n",
    "\n",
    "\n",
    "\n",
    "base_total = pd.read_csv( \n",
    "    'https://raw.githubusercontent.com/MET4OP-UBA/MET4OP/master/dataset/elecciones_2019/resultados/120819-054029/datos_agrup.csv', sep=\",\")\n",
    "    \n",
    "base_total\n"
   ]
  },
  {
   "cell_type": "code",
   "execution_count": 31,
   "id": "f163f634",
   "metadata": {},
   "outputs": [
    {
     "ename": "KeyError",
     "evalue": "\"None of [Index(['VOTOS_AGRUPACION', 'NOMBRE_CATEGORIA', 'NOMBRE_REGION',\\n       'NOMBRE_AGRUPACION'],\\n      dtype='object')] are in the [columns]\"",
     "output_type": "error",
     "traceback": [
      "\u001b[1;31m---------------------------------------------------------------------------\u001b[0m",
      "\u001b[1;31mKeyError\u001b[0m                                  Traceback (most recent call last)",
      "\u001b[1;32m~\\AppData\\Local\\Temp/ipykernel_11532/2862197977.py\u001b[0m in \u001b[0;36m<module>\u001b[1;34m\u001b[0m\n\u001b[1;32m----> 1\u001b[1;33m \u001b[0mbase_limpia\u001b[0m \u001b[1;33m=\u001b[0m \u001b[0mbase_total\u001b[0m\u001b[1;33m[\u001b[0m\u001b[1;33m[\u001b[0m\u001b[1;34m\"VOTOS_AGRUPACION\"\u001b[0m\u001b[1;33m,\u001b[0m \u001b[1;34m\"NOMBRE_CATEGORIA\"\u001b[0m\u001b[1;33m,\u001b[0m \u001b[1;34m\"NOMBRE_REGION\"\u001b[0m\u001b[1;33m,\u001b[0m \u001b[1;34m\"NOMBRE_AGRUPACION\"\u001b[0m\u001b[1;33m]\u001b[0m\u001b[1;33m]\u001b[0m   \u001b[1;31m#creamos una nueva base solo con los datos que necesitamos\u001b[0m\u001b[1;33m\u001b[0m\u001b[1;33m\u001b[0m\u001b[0m\n\u001b[0m\u001b[0;32m      2\u001b[0m \u001b[0mbase_limpia\u001b[0m\u001b[1;33m\u001b[0m\u001b[1;33m\u001b[0m\u001b[0m\n",
      "\u001b[1;32m~\\anaconda3\\envs\\tpdos\\lib\\site-packages\\pandas\\core\\frame.py\u001b[0m in \u001b[0;36m__getitem__\u001b[1;34m(self, key)\u001b[0m\n\u001b[0;32m   3462\u001b[0m             \u001b[1;32mif\u001b[0m \u001b[0mis_iterator\u001b[0m\u001b[1;33m(\u001b[0m\u001b[0mkey\u001b[0m\u001b[1;33m)\u001b[0m\u001b[1;33m:\u001b[0m\u001b[1;33m\u001b[0m\u001b[1;33m\u001b[0m\u001b[0m\n\u001b[0;32m   3463\u001b[0m                 \u001b[0mkey\u001b[0m \u001b[1;33m=\u001b[0m \u001b[0mlist\u001b[0m\u001b[1;33m(\u001b[0m\u001b[0mkey\u001b[0m\u001b[1;33m)\u001b[0m\u001b[1;33m\u001b[0m\u001b[1;33m\u001b[0m\u001b[0m\n\u001b[1;32m-> 3464\u001b[1;33m             \u001b[0mindexer\u001b[0m \u001b[1;33m=\u001b[0m \u001b[0mself\u001b[0m\u001b[1;33m.\u001b[0m\u001b[0mloc\u001b[0m\u001b[1;33m.\u001b[0m\u001b[0m_get_listlike_indexer\u001b[0m\u001b[1;33m(\u001b[0m\u001b[0mkey\u001b[0m\u001b[1;33m,\u001b[0m \u001b[0maxis\u001b[0m\u001b[1;33m=\u001b[0m\u001b[1;36m1\u001b[0m\u001b[1;33m)\u001b[0m\u001b[1;33m[\u001b[0m\u001b[1;36m1\u001b[0m\u001b[1;33m]\u001b[0m\u001b[1;33m\u001b[0m\u001b[1;33m\u001b[0m\u001b[0m\n\u001b[0m\u001b[0;32m   3465\u001b[0m \u001b[1;33m\u001b[0m\u001b[0m\n\u001b[0;32m   3466\u001b[0m         \u001b[1;31m# take() does not accept boolean indexers\u001b[0m\u001b[1;33m\u001b[0m\u001b[1;33m\u001b[0m\u001b[1;33m\u001b[0m\u001b[0m\n",
      "\u001b[1;32m~\\anaconda3\\envs\\tpdos\\lib\\site-packages\\pandas\\core\\indexing.py\u001b[0m in \u001b[0;36m_get_listlike_indexer\u001b[1;34m(self, key, axis)\u001b[0m\n\u001b[0;32m   1312\u001b[0m             \u001b[0mkeyarr\u001b[0m\u001b[1;33m,\u001b[0m \u001b[0mindexer\u001b[0m\u001b[1;33m,\u001b[0m \u001b[0mnew_indexer\u001b[0m \u001b[1;33m=\u001b[0m \u001b[0max\u001b[0m\u001b[1;33m.\u001b[0m\u001b[0m_reindex_non_unique\u001b[0m\u001b[1;33m(\u001b[0m\u001b[0mkeyarr\u001b[0m\u001b[1;33m)\u001b[0m\u001b[1;33m\u001b[0m\u001b[1;33m\u001b[0m\u001b[0m\n\u001b[0;32m   1313\u001b[0m \u001b[1;33m\u001b[0m\u001b[0m\n\u001b[1;32m-> 1314\u001b[1;33m         \u001b[0mself\u001b[0m\u001b[1;33m.\u001b[0m\u001b[0m_validate_read_indexer\u001b[0m\u001b[1;33m(\u001b[0m\u001b[0mkeyarr\u001b[0m\u001b[1;33m,\u001b[0m \u001b[0mindexer\u001b[0m\u001b[1;33m,\u001b[0m \u001b[0maxis\u001b[0m\u001b[1;33m)\u001b[0m\u001b[1;33m\u001b[0m\u001b[1;33m\u001b[0m\u001b[0m\n\u001b[0m\u001b[0;32m   1315\u001b[0m \u001b[1;33m\u001b[0m\u001b[0m\n\u001b[0;32m   1316\u001b[0m         if needs_i8_conversion(ax.dtype) or isinstance(\n",
      "\u001b[1;32m~\\anaconda3\\envs\\tpdos\\lib\\site-packages\\pandas\\core\\indexing.py\u001b[0m in \u001b[0;36m_validate_read_indexer\u001b[1;34m(self, key, indexer, axis)\u001b[0m\n\u001b[0;32m   1372\u001b[0m                 \u001b[1;32mif\u001b[0m \u001b[0muse_interval_msg\u001b[0m\u001b[1;33m:\u001b[0m\u001b[1;33m\u001b[0m\u001b[1;33m\u001b[0m\u001b[0m\n\u001b[0;32m   1373\u001b[0m                     \u001b[0mkey\u001b[0m \u001b[1;33m=\u001b[0m \u001b[0mlist\u001b[0m\u001b[1;33m(\u001b[0m\u001b[0mkey\u001b[0m\u001b[1;33m)\u001b[0m\u001b[1;33m\u001b[0m\u001b[1;33m\u001b[0m\u001b[0m\n\u001b[1;32m-> 1374\u001b[1;33m                 \u001b[1;32mraise\u001b[0m \u001b[0mKeyError\u001b[0m\u001b[1;33m(\u001b[0m\u001b[1;34mf\"None of [{key}] are in the [{axis_name}]\"\u001b[0m\u001b[1;33m)\u001b[0m\u001b[1;33m\u001b[0m\u001b[1;33m\u001b[0m\u001b[0m\n\u001b[0m\u001b[0;32m   1375\u001b[0m \u001b[1;33m\u001b[0m\u001b[0m\n\u001b[0;32m   1376\u001b[0m             \u001b[0mnot_found\u001b[0m \u001b[1;33m=\u001b[0m \u001b[0mlist\u001b[0m\u001b[1;33m(\u001b[0m\u001b[0mensure_index\u001b[0m\u001b[1;33m(\u001b[0m\u001b[0mkey\u001b[0m\u001b[1;33m)\u001b[0m\u001b[1;33m[\u001b[0m\u001b[0mmissing_mask\u001b[0m\u001b[1;33m.\u001b[0m\u001b[0mnonzero\u001b[0m\u001b[1;33m(\u001b[0m\u001b[1;33m)\u001b[0m\u001b[1;33m[\u001b[0m\u001b[1;36m0\u001b[0m\u001b[1;33m]\u001b[0m\u001b[1;33m]\u001b[0m\u001b[1;33m.\u001b[0m\u001b[0munique\u001b[0m\u001b[1;33m(\u001b[0m\u001b[1;33m)\u001b[0m\u001b[1;33m)\u001b[0m\u001b[1;33m\u001b[0m\u001b[1;33m\u001b[0m\u001b[0m\n",
      "\u001b[1;31mKeyError\u001b[0m: \"None of [Index(['VOTOS_AGRUPACION', 'NOMBRE_CATEGORIA', 'NOMBRE_REGION',\\n       'NOMBRE_AGRUPACION'],\\n      dtype='object')] are in the [columns]\""
     ]
    }
   ],
   "source": [
    "base_limpia = base_total[[\"VOTOS_AGRUPACION\", \"NOMBRE_CATEGORIA\", \"NOMBRE_REGION\", \"NOMBRE_AGRUPACION\"]]   #creamos una nueva base solo con los datos que necesitamos\n",
    "base_limpia"
   ]
  },
  {
   "cell_type": "code",
   "execution_count": 32,
   "id": "75ab7155",
   "metadata": {},
   "outputs": [
    {
     "ename": "NameError",
     "evalue": "name 'base_limpia' is not defined",
     "output_type": "error",
     "traceback": [
      "\u001b[1;31m---------------------------------------------------------------------------\u001b[0m",
      "\u001b[1;31mNameError\u001b[0m                                 Traceback (most recent call last)",
      "\u001b[1;32m~\\AppData\\Local\\Temp/ipykernel_11532/2282785980.py\u001b[0m in \u001b[0;36m<module>\u001b[1;34m\u001b[0m\n\u001b[1;32m----> 1\u001b[1;33m \u001b[0mbase_limpia\u001b[0m\u001b[1;33m[\u001b[0m\u001b[0mbase_limpia\u001b[0m\u001b[1;33m[\u001b[0m\u001b[1;34m'NOMBRE_AGRUPACION'\u001b[0m\u001b[1;33m]\u001b[0m\u001b[1;33m==\u001b[0m\u001b[1;34m\"UNITE POR LA LIBERTAD Y LA DIGNIDAD\"\u001b[0m\u001b[1;33m]\u001b[0m    \u001b[1;31m#filtramos por partido\u001b[0m\u001b[1;33m\u001b[0m\u001b[1;33m\u001b[0m\u001b[0m\n\u001b[0m\u001b[0;32m      2\u001b[0m \u001b[1;33m\u001b[0m\u001b[0m\n",
      "\u001b[1;31mNameError\u001b[0m: name 'base_limpia' is not defined"
     ]
    }
   ],
   "source": [
    "base_limpia[base_limpia['NOMBRE_AGRUPACION']==\"UNITE POR LA LIBERTAD Y LA DIGNIDAD\"]    #filtramos por partido\n",
    "\n"
   ]
  },
  {
   "cell_type": "code",
   "execution_count": 33,
   "id": "2480f451",
   "metadata": {},
   "outputs": [
    {
     "ename": "NameError",
     "evalue": "name 'base_limpia' is not defined",
     "output_type": "error",
     "traceback": [
      "\u001b[1;31m---------------------------------------------------------------------------\u001b[0m",
      "\u001b[1;31mNameError\u001b[0m                                 Traceback (most recent call last)",
      "\u001b[1;32m~\\AppData\\Local\\Temp/ipykernel_11532/3052525669.py\u001b[0m in \u001b[0;36m<module>\u001b[1;34m\u001b[0m\n\u001b[0;32m      1\u001b[0m \u001b[1;31m#Filtramos las variables de Presidente y Vicepresidente\u001b[0m\u001b[1;33m\u001b[0m\u001b[1;33m\u001b[0m\u001b[1;33m\u001b[0m\u001b[0m\n\u001b[1;32m----> 2\u001b[1;33m \u001b[0mpresi_vice\u001b[0m \u001b[1;33m=\u001b[0m \u001b[0mbase_limpia\u001b[0m\u001b[1;33m[\u001b[0m\u001b[0mbase_limpia\u001b[0m\u001b[1;33m[\u001b[0m\u001b[1;34m\"NOMBRE_CATEGORIA\"\u001b[0m\u001b[1;33m]\u001b[0m\u001b[1;33m==\u001b[0m \u001b[1;34m'Presidente y Vicepresidente de la República'\u001b[0m\u001b[1;33m]\u001b[0m\u001b[1;33m\u001b[0m\u001b[1;33m\u001b[0m\u001b[0m\n\u001b[0m\u001b[0;32m      3\u001b[0m \u001b[0mprint\u001b[0m\u001b[1;33m(\u001b[0m\u001b[0mpresi_vice\u001b[0m\u001b[1;33m)\u001b[0m\u001b[1;33m\u001b[0m\u001b[1;33m\u001b[0m\u001b[0m\n",
      "\u001b[1;31mNameError\u001b[0m: name 'base_limpia' is not defined"
     ]
    }
   ],
   "source": [
    "#Filtramos las variables de Presidente y Vicepresidente\n",
    "presi_vice = base_limpia[base_limpia[\"NOMBRE_CATEGORIA\"]== 'Presidente y Vicepresidente de la República']\n",
    "print(presi_vice)"
   ]
  },
  {
   "cell_type": "code",
   "execution_count": 34,
   "id": "b1ecf7f5",
   "metadata": {},
   "outputs": [
    {
     "ename": "NameError",
     "evalue": "name 'presi_vice' is not defined",
     "output_type": "error",
     "traceback": [
      "\u001b[1;31m---------------------------------------------------------------------------\u001b[0m",
      "\u001b[1;31mNameError\u001b[0m                                 Traceback (most recent call last)",
      "\u001b[1;32m~\\AppData\\Local\\Temp/ipykernel_11532/1486886478.py\u001b[0m in \u001b[0;36m<module>\u001b[1;34m\u001b[0m\n\u001b[0;32m      1\u001b[0m \u001b[1;31m#Filtro comuna 1\u001b[0m\u001b[1;33m\u001b[0m\u001b[1;33m\u001b[0m\u001b[1;33m\u001b[0m\u001b[0m\n\u001b[1;32m----> 2\u001b[1;33m \u001b[0mcomuna1\u001b[0m \u001b[1;33m=\u001b[0m \u001b[0mpresi_vice\u001b[0m\u001b[1;33m[\u001b[0m\u001b[0mpresi_vice\u001b[0m\u001b[1;33m[\u001b[0m\u001b[1;34m\"NOMBRE_REGION\"\u001b[0m\u001b[1;33m]\u001b[0m\u001b[1;33m==\u001b[0m\u001b[1;34m'COMUNA 01'\u001b[0m\u001b[1;33m]\u001b[0m\u001b[1;33m\u001b[0m\u001b[1;33m\u001b[0m\u001b[0m\n\u001b[0m\u001b[0;32m      3\u001b[0m \u001b[1;31m#comuna1\u001b[0m\u001b[1;33m\u001b[0m\u001b[1;33m\u001b[0m\u001b[1;33m\u001b[0m\u001b[0m\n",
      "\u001b[1;31mNameError\u001b[0m: name 'presi_vice' is not defined"
     ]
    }
   ],
   "source": [
    "#Filtro comuna 1\n",
    "comuna1 = presi_vice[presi_vice[\"NOMBRE_REGION\"]=='COMUNA 01']\n",
    "#comuna1"
   ]
  },
  {
   "cell_type": "code",
   "execution_count": 35,
   "id": "499ac6f6",
   "metadata": {},
   "outputs": [
    {
     "ename": "NameError",
     "evalue": "name 'comuna1' is not defined",
     "output_type": "error",
     "traceback": [
      "\u001b[1;31m---------------------------------------------------------------------------\u001b[0m",
      "\u001b[1;31mNameError\u001b[0m                                 Traceback (most recent call last)",
      "\u001b[1;32m~\\AppData\\Local\\Temp/ipykernel_11532/3302184056.py\u001b[0m in \u001b[0;36m<module>\u001b[1;34m\u001b[0m\n\u001b[0;32m      1\u001b[0m \u001b[1;31m#Sumo todos los votos de cada agrupación en la comuna 1\u001b[0m\u001b[1;33m\u001b[0m\u001b[1;33m\u001b[0m\u001b[1;33m\u001b[0m\u001b[0m\n\u001b[1;32m----> 2\u001b[1;33m \u001b[0mvot1\u001b[0m \u001b[1;33m=\u001b[0m \u001b[0mpd\u001b[0m\u001b[1;33m.\u001b[0m\u001b[0mDataFrame\u001b[0m\u001b[1;33m(\u001b[0m\u001b[0mcomuna1\u001b[0m\u001b[1;33m.\u001b[0m\u001b[0mgroupby\u001b[0m\u001b[1;33m(\u001b[0m\u001b[1;33m[\u001b[0m\u001b[1;34m\"NOMBRE_AGRUPACION\"\u001b[0m\u001b[1;33m]\u001b[0m\u001b[1;33m)\u001b[0m\u001b[1;33m[\u001b[0m\u001b[1;34m\"VOTOS_AGRUPACION\"\u001b[0m\u001b[1;33m]\u001b[0m\u001b[1;33m.\u001b[0m\u001b[0msum\u001b[0m\u001b[1;33m(\u001b[0m\u001b[1;33m)\u001b[0m\u001b[1;33m)\u001b[0m\u001b[1;33m\u001b[0m\u001b[1;33m\u001b[0m\u001b[0m\n\u001b[0m\u001b[0;32m      3\u001b[0m \u001b[0mvot1\u001b[0m\u001b[1;33m\u001b[0m\u001b[1;33m\u001b[0m\u001b[0m\n",
      "\u001b[1;31mNameError\u001b[0m: name 'comuna1' is not defined"
     ]
    }
   ],
   "source": [
    "#Sumo todos los votos de cada agrupación en la comuna 1\n",
    "vot1 = pd.DataFrame(comuna1.groupby([\"NOMBRE_AGRUPACION\"])[\"VOTOS_AGRUPACION\"].sum())\n",
    "vot1"
   ]
  },
  {
   "cell_type": "code",
   "execution_count": 36,
   "id": "fb28f1e6",
   "metadata": {},
   "outputs": [
    {
     "ename": "NameError",
     "evalue": "name 'presi_vice' is not defined",
     "output_type": "error",
     "traceback": [
      "\u001b[1;31m---------------------------------------------------------------------------\u001b[0m",
      "\u001b[1;31mNameError\u001b[0m                                 Traceback (most recent call last)",
      "\u001b[1;32m~\\AppData\\Local\\Temp/ipykernel_11532/3936548886.py\u001b[0m in \u001b[0;36m<module>\u001b[1;34m\u001b[0m\n\u001b[0;32m      1\u001b[0m \u001b[1;31m#Hacemos lo mismo con cada una de las comunas.\u001b[0m\u001b[1;33m\u001b[0m\u001b[1;33m\u001b[0m\u001b[1;33m\u001b[0m\u001b[0m\n\u001b[1;32m----> 2\u001b[1;33m \u001b[0mcomuna2\u001b[0m \u001b[1;33m=\u001b[0m \u001b[0mpresi_vice\u001b[0m\u001b[1;33m[\u001b[0m\u001b[0mpresi_vice\u001b[0m\u001b[1;33m[\u001b[0m\u001b[1;34m\"NOMBRE_REGION\"\u001b[0m\u001b[1;33m]\u001b[0m\u001b[1;33m==\u001b[0m\u001b[1;34m'COMUNA 02'\u001b[0m\u001b[1;33m]\u001b[0m \u001b[1;31m#Comuna 2\u001b[0m\u001b[1;33m\u001b[0m\u001b[1;33m\u001b[0m\u001b[0m\n\u001b[0m\u001b[0;32m      3\u001b[0m \u001b[0mvot2\u001b[0m \u001b[1;33m=\u001b[0m \u001b[0mpd\u001b[0m\u001b[1;33m.\u001b[0m\u001b[0mDataFrame\u001b[0m\u001b[1;33m(\u001b[0m\u001b[0mcomuna2\u001b[0m\u001b[1;33m.\u001b[0m\u001b[0mgroupby\u001b[0m\u001b[1;33m(\u001b[0m\u001b[1;33m[\u001b[0m\u001b[1;34m\"NOMBRE_AGRUPACION\"\u001b[0m\u001b[1;33m]\u001b[0m\u001b[1;33m)\u001b[0m\u001b[1;33m[\u001b[0m\u001b[1;34m\"VOTOS_AGRUPACION\"\u001b[0m\u001b[1;33m]\u001b[0m\u001b[1;33m.\u001b[0m\u001b[0msum\u001b[0m\u001b[1;33m(\u001b[0m\u001b[1;33m)\u001b[0m\u001b[1;33m)\u001b[0m\u001b[1;33m\u001b[0m\u001b[1;33m\u001b[0m\u001b[0m\n\u001b[0;32m      4\u001b[0m \u001b[0mvot2\u001b[0m\u001b[1;33m\u001b[0m\u001b[1;33m\u001b[0m\u001b[0m\n",
      "\u001b[1;31mNameError\u001b[0m: name 'presi_vice' is not defined"
     ]
    }
   ],
   "source": [
    "#Hacemos lo mismo con cada una de las comunas.\n",
    "comuna2 = presi_vice[presi_vice[\"NOMBRE_REGION\"]=='COMUNA 02'] #Comuna 2\n",
    "vot2 = pd.DataFrame(comuna2.groupby([\"NOMBRE_AGRUPACION\"])[\"VOTOS_AGRUPACION\"].sum())\n",
    "vot2"
   ]
  },
  {
   "cell_type": "code",
   "execution_count": 37,
   "id": "4318f00d",
   "metadata": {},
   "outputs": [
    {
     "ename": "NameError",
     "evalue": "name 'presi_vice' is not defined",
     "output_type": "error",
     "traceback": [
      "\u001b[1;31m---------------------------------------------------------------------------\u001b[0m",
      "\u001b[1;31mNameError\u001b[0m                                 Traceback (most recent call last)",
      "\u001b[1;32m~\\AppData\\Local\\Temp/ipykernel_11532/2479372512.py\u001b[0m in \u001b[0;36m<module>\u001b[1;34m\u001b[0m\n\u001b[1;32m----> 1\u001b[1;33m \u001b[0mcomuna3\u001b[0m \u001b[1;33m=\u001b[0m \u001b[0mpresi_vice\u001b[0m\u001b[1;33m[\u001b[0m\u001b[0mpresi_vice\u001b[0m\u001b[1;33m[\u001b[0m\u001b[1;34m\"NOMBRE_REGION\"\u001b[0m\u001b[1;33m]\u001b[0m\u001b[1;33m==\u001b[0m\u001b[1;34m'COMUNA 03'\u001b[0m\u001b[1;33m]\u001b[0m \u001b[1;31m#Comuna 3\u001b[0m\u001b[1;33m\u001b[0m\u001b[1;33m\u001b[0m\u001b[0m\n\u001b[0m\u001b[0;32m      2\u001b[0m \u001b[0mvot3\u001b[0m \u001b[1;33m=\u001b[0m \u001b[0mpd\u001b[0m\u001b[1;33m.\u001b[0m\u001b[0mDataFrame\u001b[0m\u001b[1;33m(\u001b[0m\u001b[0mcomuna3\u001b[0m\u001b[1;33m.\u001b[0m\u001b[0mgroupby\u001b[0m\u001b[1;33m(\u001b[0m\u001b[1;33m[\u001b[0m\u001b[1;34m\"NOMBRE_AGRUPACION\"\u001b[0m\u001b[1;33m]\u001b[0m\u001b[1;33m)\u001b[0m\u001b[1;33m[\u001b[0m\u001b[1;34m\"VOTOS_AGRUPACION\"\u001b[0m\u001b[1;33m]\u001b[0m\u001b[1;33m.\u001b[0m\u001b[0msum\u001b[0m\u001b[1;33m(\u001b[0m\u001b[1;33m)\u001b[0m\u001b[1;33m)\u001b[0m\u001b[1;33m\u001b[0m\u001b[1;33m\u001b[0m\u001b[0m\n\u001b[0;32m      3\u001b[0m \u001b[0mvot3\u001b[0m\u001b[1;33m\u001b[0m\u001b[1;33m\u001b[0m\u001b[0m\n",
      "\u001b[1;31mNameError\u001b[0m: name 'presi_vice' is not defined"
     ]
    }
   ],
   "source": [
    "comuna3 = presi_vice[presi_vice[\"NOMBRE_REGION\"]=='COMUNA 03'] #Comuna 3\n",
    "vot3 = pd.DataFrame(comuna3.groupby([\"NOMBRE_AGRUPACION\"])[\"VOTOS_AGRUPACION\"].sum())\n",
    "vot3"
   ]
  },
  {
   "cell_type": "code",
   "execution_count": 38,
   "id": "1677d10d",
   "metadata": {},
   "outputs": [
    {
     "ename": "NameError",
     "evalue": "name 'presi_vice' is not defined",
     "output_type": "error",
     "traceback": [
      "\u001b[1;31m---------------------------------------------------------------------------\u001b[0m",
      "\u001b[1;31mNameError\u001b[0m                                 Traceback (most recent call last)",
      "\u001b[1;32m~\\AppData\\Local\\Temp/ipykernel_11532/786144083.py\u001b[0m in \u001b[0;36m<module>\u001b[1;34m\u001b[0m\n\u001b[1;32m----> 1\u001b[1;33m \u001b[0mcomuna4\u001b[0m \u001b[1;33m=\u001b[0m \u001b[0mpresi_vice\u001b[0m\u001b[1;33m[\u001b[0m\u001b[0mpresi_vice\u001b[0m\u001b[1;33m[\u001b[0m\u001b[1;34m\"NOMBRE_REGION\"\u001b[0m\u001b[1;33m]\u001b[0m\u001b[1;33m==\u001b[0m\u001b[1;34m'COMUNA 04'\u001b[0m\u001b[1;33m]\u001b[0m \u001b[1;31m#Comuna 4\u001b[0m\u001b[1;33m\u001b[0m\u001b[1;33m\u001b[0m\u001b[0m\n\u001b[0m\u001b[0;32m      2\u001b[0m \u001b[0mvot4\u001b[0m \u001b[1;33m=\u001b[0m \u001b[0mpd\u001b[0m\u001b[1;33m.\u001b[0m\u001b[0mDataFrame\u001b[0m\u001b[1;33m(\u001b[0m\u001b[0mcomuna4\u001b[0m\u001b[1;33m.\u001b[0m\u001b[0mgroupby\u001b[0m\u001b[1;33m(\u001b[0m\u001b[1;33m[\u001b[0m\u001b[1;34m\"NOMBRE_AGRUPACION\"\u001b[0m\u001b[1;33m]\u001b[0m\u001b[1;33m)\u001b[0m\u001b[1;33m[\u001b[0m\u001b[1;34m\"VOTOS_AGRUPACION\"\u001b[0m\u001b[1;33m]\u001b[0m\u001b[1;33m.\u001b[0m\u001b[0msum\u001b[0m\u001b[1;33m(\u001b[0m\u001b[1;33m)\u001b[0m\u001b[1;33m)\u001b[0m\u001b[1;33m\u001b[0m\u001b[1;33m\u001b[0m\u001b[0m\n\u001b[0;32m      3\u001b[0m \u001b[0mvot4\u001b[0m\u001b[1;33m\u001b[0m\u001b[1;33m\u001b[0m\u001b[0m\n",
      "\u001b[1;31mNameError\u001b[0m: name 'presi_vice' is not defined"
     ]
    }
   ],
   "source": [
    "comuna4 = presi_vice[presi_vice[\"NOMBRE_REGION\"]=='COMUNA 04'] #Comuna 4\n",
    "vot4 = pd.DataFrame(comuna4.groupby([\"NOMBRE_AGRUPACION\"])[\"VOTOS_AGRUPACION\"].sum())\n",
    "vot4"
   ]
  },
  {
   "cell_type": "code",
   "execution_count": 39,
   "id": "1f86a985",
   "metadata": {},
   "outputs": [
    {
     "ename": "NameError",
     "evalue": "name 'presi_vice' is not defined",
     "output_type": "error",
     "traceback": [
      "\u001b[1;31m---------------------------------------------------------------------------\u001b[0m",
      "\u001b[1;31mNameError\u001b[0m                                 Traceback (most recent call last)",
      "\u001b[1;32m~\\AppData\\Local\\Temp/ipykernel_11532/3415070588.py\u001b[0m in \u001b[0;36m<module>\u001b[1;34m\u001b[0m\n\u001b[1;32m----> 1\u001b[1;33m \u001b[0mcomuna5\u001b[0m \u001b[1;33m=\u001b[0m \u001b[0mpresi_vice\u001b[0m\u001b[1;33m[\u001b[0m\u001b[0mpresi_vice\u001b[0m\u001b[1;33m[\u001b[0m\u001b[1;34m\"NOMBRE_REGION\"\u001b[0m\u001b[1;33m]\u001b[0m\u001b[1;33m==\u001b[0m\u001b[1;34m'COMUNA 05'\u001b[0m\u001b[1;33m]\u001b[0m \u001b[1;31m#Comuna 5\u001b[0m\u001b[1;33m\u001b[0m\u001b[1;33m\u001b[0m\u001b[0m\n\u001b[0m\u001b[0;32m      2\u001b[0m \u001b[0mvot5\u001b[0m \u001b[1;33m=\u001b[0m \u001b[0mpd\u001b[0m\u001b[1;33m.\u001b[0m\u001b[0mDataFrame\u001b[0m\u001b[1;33m(\u001b[0m\u001b[0mcomuna2\u001b[0m\u001b[1;33m.\u001b[0m\u001b[0mgroupby\u001b[0m\u001b[1;33m(\u001b[0m\u001b[1;33m[\u001b[0m\u001b[1;34m\"NOMBRE_AGRUPACION\"\u001b[0m\u001b[1;33m]\u001b[0m\u001b[1;33m)\u001b[0m\u001b[1;33m[\u001b[0m\u001b[1;34m\"VOTOS_AGRUPACION\"\u001b[0m\u001b[1;33m]\u001b[0m\u001b[1;33m.\u001b[0m\u001b[0msum\u001b[0m\u001b[1;33m(\u001b[0m\u001b[1;33m)\u001b[0m\u001b[1;33m)\u001b[0m\u001b[1;33m\u001b[0m\u001b[1;33m\u001b[0m\u001b[0m\n\u001b[0;32m      3\u001b[0m \u001b[0mvot5\u001b[0m\u001b[1;33m\u001b[0m\u001b[1;33m\u001b[0m\u001b[0m\n",
      "\u001b[1;31mNameError\u001b[0m: name 'presi_vice' is not defined"
     ]
    }
   ],
   "source": [
    "comuna5 = presi_vice[presi_vice[\"NOMBRE_REGION\"]=='COMUNA 05'] #Comuna 5\n",
    "vot5 = pd.DataFrame(comuna2.groupby([\"NOMBRE_AGRUPACION\"])[\"VOTOS_AGRUPACION\"].sum())\n",
    "vot5"
   ]
  },
  {
   "cell_type": "code",
   "execution_count": 40,
   "id": "d8043e24",
   "metadata": {},
   "outputs": [
    {
     "ename": "NameError",
     "evalue": "name 'presi_vice' is not defined",
     "output_type": "error",
     "traceback": [
      "\u001b[1;31m---------------------------------------------------------------------------\u001b[0m",
      "\u001b[1;31mNameError\u001b[0m                                 Traceback (most recent call last)",
      "\u001b[1;32m~\\AppData\\Local\\Temp/ipykernel_11532/4211926527.py\u001b[0m in \u001b[0;36m<module>\u001b[1;34m\u001b[0m\n\u001b[1;32m----> 1\u001b[1;33m \u001b[0mcomuna6\u001b[0m \u001b[1;33m=\u001b[0m \u001b[0mpresi_vice\u001b[0m\u001b[1;33m[\u001b[0m\u001b[0mpresi_vice\u001b[0m\u001b[1;33m[\u001b[0m\u001b[1;34m\"NOMBRE_REGION\"\u001b[0m\u001b[1;33m]\u001b[0m\u001b[1;33m==\u001b[0m\u001b[1;34m'COMUNA 06'\u001b[0m\u001b[1;33m]\u001b[0m \u001b[1;31m#Comuna 6\u001b[0m\u001b[1;33m\u001b[0m\u001b[1;33m\u001b[0m\u001b[0m\n\u001b[0m\u001b[0;32m      2\u001b[0m \u001b[0mvot6\u001b[0m \u001b[1;33m=\u001b[0m \u001b[0mpd\u001b[0m\u001b[1;33m.\u001b[0m\u001b[0mDataFrame\u001b[0m\u001b[1;33m(\u001b[0m\u001b[0mcomuna6\u001b[0m\u001b[1;33m.\u001b[0m\u001b[0mgroupby\u001b[0m\u001b[1;33m(\u001b[0m\u001b[1;33m[\u001b[0m\u001b[1;34m\"NOMBRE_AGRUPACION\"\u001b[0m\u001b[1;33m]\u001b[0m\u001b[1;33m)\u001b[0m\u001b[1;33m[\u001b[0m\u001b[1;34m\"VOTOS_AGRUPACION\"\u001b[0m\u001b[1;33m]\u001b[0m\u001b[1;33m.\u001b[0m\u001b[0msum\u001b[0m\u001b[1;33m(\u001b[0m\u001b[1;33m)\u001b[0m\u001b[1;33m)\u001b[0m\u001b[1;33m\u001b[0m\u001b[1;33m\u001b[0m\u001b[0m\n\u001b[0;32m      3\u001b[0m \u001b[0mvot6\u001b[0m\u001b[1;33m\u001b[0m\u001b[1;33m\u001b[0m\u001b[0m\n",
      "\u001b[1;31mNameError\u001b[0m: name 'presi_vice' is not defined"
     ]
    }
   ],
   "source": [
    "comuna6 = presi_vice[presi_vice[\"NOMBRE_REGION\"]=='COMUNA 06'] #Comuna 6\n",
    "vot6 = pd.DataFrame(comuna6.groupby([\"NOMBRE_AGRUPACION\"])[\"VOTOS_AGRUPACION\"].sum())\n",
    "vot6"
   ]
  },
  {
   "cell_type": "code",
   "execution_count": 41,
   "id": "4979c6d8",
   "metadata": {},
   "outputs": [
    {
     "ename": "NameError",
     "evalue": "name 'presi_vice' is not defined",
     "output_type": "error",
     "traceback": [
      "\u001b[1;31m---------------------------------------------------------------------------\u001b[0m",
      "\u001b[1;31mNameError\u001b[0m                                 Traceback (most recent call last)",
      "\u001b[1;32m~\\AppData\\Local\\Temp/ipykernel_11532/3634475864.py\u001b[0m in \u001b[0;36m<module>\u001b[1;34m\u001b[0m\n\u001b[1;32m----> 1\u001b[1;33m \u001b[0mcomuna7\u001b[0m \u001b[1;33m=\u001b[0m \u001b[0mpresi_vice\u001b[0m\u001b[1;33m[\u001b[0m\u001b[0mpresi_vice\u001b[0m\u001b[1;33m[\u001b[0m\u001b[1;34m\"NOMBRE_REGION\"\u001b[0m\u001b[1;33m]\u001b[0m\u001b[1;33m==\u001b[0m\u001b[1;34m'COMUNA 07'\u001b[0m\u001b[1;33m]\u001b[0m \u001b[1;31m#Comuna 7\u001b[0m\u001b[1;33m\u001b[0m\u001b[1;33m\u001b[0m\u001b[0m\n\u001b[0m\u001b[0;32m      2\u001b[0m \u001b[0mvot7\u001b[0m \u001b[1;33m=\u001b[0m \u001b[0mpd\u001b[0m\u001b[1;33m.\u001b[0m\u001b[0mDataFrame\u001b[0m\u001b[1;33m(\u001b[0m\u001b[0mcomuna7\u001b[0m\u001b[1;33m.\u001b[0m\u001b[0mgroupby\u001b[0m\u001b[1;33m(\u001b[0m\u001b[1;33m[\u001b[0m\u001b[1;34m\"NOMBRE_AGRUPACION\"\u001b[0m\u001b[1;33m]\u001b[0m\u001b[1;33m)\u001b[0m\u001b[1;33m[\u001b[0m\u001b[1;34m\"VOTOS_AGRUPACION\"\u001b[0m\u001b[1;33m]\u001b[0m\u001b[1;33m.\u001b[0m\u001b[0msum\u001b[0m\u001b[1;33m(\u001b[0m\u001b[1;33m)\u001b[0m\u001b[1;33m)\u001b[0m\u001b[1;33m\u001b[0m\u001b[1;33m\u001b[0m\u001b[0m\n\u001b[0;32m      3\u001b[0m \u001b[0mvot7\u001b[0m\u001b[1;33m\u001b[0m\u001b[1;33m\u001b[0m\u001b[0m\n",
      "\u001b[1;31mNameError\u001b[0m: name 'presi_vice' is not defined"
     ]
    }
   ],
   "source": [
    "comuna7 = presi_vice[presi_vice[\"NOMBRE_REGION\"]=='COMUNA 07'] #Comuna 7\n",
    "vot7 = pd.DataFrame(comuna7.groupby([\"NOMBRE_AGRUPACION\"])[\"VOTOS_AGRUPACION\"].sum())\n",
    "vot7"
   ]
  },
  {
   "cell_type": "code",
   "execution_count": 42,
   "id": "283e1a46",
   "metadata": {},
   "outputs": [
    {
     "ename": "NameError",
     "evalue": "name 'presi_vice' is not defined",
     "output_type": "error",
     "traceback": [
      "\u001b[1;31m---------------------------------------------------------------------------\u001b[0m",
      "\u001b[1;31mNameError\u001b[0m                                 Traceback (most recent call last)",
      "\u001b[1;32m~\\AppData\\Local\\Temp/ipykernel_11532/1070080983.py\u001b[0m in \u001b[0;36m<module>\u001b[1;34m\u001b[0m\n\u001b[1;32m----> 1\u001b[1;33m \u001b[0mcomuna8\u001b[0m \u001b[1;33m=\u001b[0m \u001b[0mpresi_vice\u001b[0m\u001b[1;33m[\u001b[0m\u001b[0mpresi_vice\u001b[0m\u001b[1;33m[\u001b[0m\u001b[1;34m\"NOMBRE_REGION\"\u001b[0m\u001b[1;33m]\u001b[0m\u001b[1;33m==\u001b[0m\u001b[1;34m'COMUNA 08'\u001b[0m\u001b[1;33m]\u001b[0m \u001b[1;31m#Comuna 8\u001b[0m\u001b[1;33m\u001b[0m\u001b[1;33m\u001b[0m\u001b[0m\n\u001b[0m\u001b[0;32m      2\u001b[0m \u001b[0mvot8\u001b[0m \u001b[1;33m=\u001b[0m \u001b[0mpd\u001b[0m\u001b[1;33m.\u001b[0m\u001b[0mDataFrame\u001b[0m\u001b[1;33m(\u001b[0m\u001b[0mcomuna8\u001b[0m\u001b[1;33m.\u001b[0m\u001b[0mgroupby\u001b[0m\u001b[1;33m(\u001b[0m\u001b[1;33m[\u001b[0m\u001b[1;34m\"NOMBRE_AGRUPACION\"\u001b[0m\u001b[1;33m]\u001b[0m\u001b[1;33m)\u001b[0m\u001b[1;33m[\u001b[0m\u001b[1;34m\"VOTOS_AGRUPACION\"\u001b[0m\u001b[1;33m]\u001b[0m\u001b[1;33m.\u001b[0m\u001b[0msum\u001b[0m\u001b[1;33m(\u001b[0m\u001b[1;33m)\u001b[0m\u001b[1;33m)\u001b[0m\u001b[1;33m\u001b[0m\u001b[1;33m\u001b[0m\u001b[0m\n\u001b[0;32m      3\u001b[0m \u001b[0mvot8\u001b[0m\u001b[1;33m\u001b[0m\u001b[1;33m\u001b[0m\u001b[0m\n",
      "\u001b[1;31mNameError\u001b[0m: name 'presi_vice' is not defined"
     ]
    }
   ],
   "source": [
    "comuna8 = presi_vice[presi_vice[\"NOMBRE_REGION\"]=='COMUNA 08'] #Comuna 8\n",
    "vot8 = pd.DataFrame(comuna8.groupby([\"NOMBRE_AGRUPACION\"])[\"VOTOS_AGRUPACION\"].sum())\n",
    "vot8"
   ]
  },
  {
   "cell_type": "code",
   "execution_count": 43,
   "id": "200ed74c",
   "metadata": {},
   "outputs": [
    {
     "ename": "NameError",
     "evalue": "name 'presi_vice' is not defined",
     "output_type": "error",
     "traceback": [
      "\u001b[1;31m---------------------------------------------------------------------------\u001b[0m",
      "\u001b[1;31mNameError\u001b[0m                                 Traceback (most recent call last)",
      "\u001b[1;32m~\\AppData\\Local\\Temp/ipykernel_11532/4116636765.py\u001b[0m in \u001b[0;36m<module>\u001b[1;34m\u001b[0m\n\u001b[1;32m----> 1\u001b[1;33m \u001b[0mcomuna9\u001b[0m \u001b[1;33m=\u001b[0m \u001b[0mpresi_vice\u001b[0m\u001b[1;33m[\u001b[0m\u001b[0mpresi_vice\u001b[0m\u001b[1;33m[\u001b[0m\u001b[1;34m\"NOMBRE_REGION\"\u001b[0m\u001b[1;33m]\u001b[0m\u001b[1;33m==\u001b[0m\u001b[1;34m'COMUNA 09'\u001b[0m\u001b[1;33m]\u001b[0m \u001b[1;31m#Comuna 9\u001b[0m\u001b[1;33m\u001b[0m\u001b[1;33m\u001b[0m\u001b[0m\n\u001b[0m\u001b[0;32m      2\u001b[0m \u001b[0mvot9\u001b[0m \u001b[1;33m=\u001b[0m \u001b[0mpd\u001b[0m\u001b[1;33m.\u001b[0m\u001b[0mDataFrame\u001b[0m\u001b[1;33m(\u001b[0m\u001b[0mcomuna9\u001b[0m\u001b[1;33m.\u001b[0m\u001b[0mgroupby\u001b[0m\u001b[1;33m(\u001b[0m\u001b[1;33m[\u001b[0m\u001b[1;34m\"NOMBRE_AGRUPACION\"\u001b[0m\u001b[1;33m]\u001b[0m\u001b[1;33m)\u001b[0m\u001b[1;33m[\u001b[0m\u001b[1;34m\"VOTOS_AGRUPACION\"\u001b[0m\u001b[1;33m]\u001b[0m\u001b[1;33m.\u001b[0m\u001b[0msum\u001b[0m\u001b[1;33m(\u001b[0m\u001b[1;33m)\u001b[0m\u001b[1;33m)\u001b[0m\u001b[1;33m\u001b[0m\u001b[1;33m\u001b[0m\u001b[0m\n\u001b[0;32m      3\u001b[0m \u001b[0mvot9\u001b[0m\u001b[1;33m\u001b[0m\u001b[1;33m\u001b[0m\u001b[0m\n",
      "\u001b[1;31mNameError\u001b[0m: name 'presi_vice' is not defined"
     ]
    }
   ],
   "source": [
    "comuna9 = presi_vice[presi_vice[\"NOMBRE_REGION\"]=='COMUNA 09'] #Comuna 9\n",
    "vot9 = pd.DataFrame(comuna9.groupby([\"NOMBRE_AGRUPACION\"])[\"VOTOS_AGRUPACION\"].sum())\n",
    "vot9"
   ]
  },
  {
   "cell_type": "code",
   "execution_count": 44,
   "id": "72f633ef",
   "metadata": {},
   "outputs": [
    {
     "ename": "NameError",
     "evalue": "name 'presi_vice' is not defined",
     "output_type": "error",
     "traceback": [
      "\u001b[1;31m---------------------------------------------------------------------------\u001b[0m",
      "\u001b[1;31mNameError\u001b[0m                                 Traceback (most recent call last)",
      "\u001b[1;32m~\\AppData\\Local\\Temp/ipykernel_11532/2770584681.py\u001b[0m in \u001b[0;36m<module>\u001b[1;34m\u001b[0m\n\u001b[1;32m----> 1\u001b[1;33m \u001b[0mcomuna10\u001b[0m \u001b[1;33m=\u001b[0m \u001b[0mpresi_vice\u001b[0m\u001b[1;33m[\u001b[0m\u001b[0mpresi_vice\u001b[0m\u001b[1;33m[\u001b[0m\u001b[1;34m\"NOMBRE_REGION\"\u001b[0m\u001b[1;33m]\u001b[0m\u001b[1;33m==\u001b[0m\u001b[1;34m'COMUNA 10'\u001b[0m\u001b[1;33m]\u001b[0m \u001b[1;31m#Comuna 10\u001b[0m\u001b[1;33m\u001b[0m\u001b[1;33m\u001b[0m\u001b[0m\n\u001b[0m\u001b[0;32m      2\u001b[0m \u001b[0mvot10\u001b[0m \u001b[1;33m=\u001b[0m \u001b[0mpd\u001b[0m\u001b[1;33m.\u001b[0m\u001b[0mDataFrame\u001b[0m\u001b[1;33m(\u001b[0m\u001b[0mcomuna10\u001b[0m\u001b[1;33m.\u001b[0m\u001b[0mgroupby\u001b[0m\u001b[1;33m(\u001b[0m\u001b[1;33m[\u001b[0m\u001b[1;34m\"NOMBRE_AGRUPACION\"\u001b[0m\u001b[1;33m]\u001b[0m\u001b[1;33m)\u001b[0m\u001b[1;33m[\u001b[0m\u001b[1;34m\"VOTOS_AGRUPACION\"\u001b[0m\u001b[1;33m]\u001b[0m\u001b[1;33m.\u001b[0m\u001b[0msum\u001b[0m\u001b[1;33m(\u001b[0m\u001b[1;33m)\u001b[0m\u001b[1;33m)\u001b[0m\u001b[1;33m\u001b[0m\u001b[1;33m\u001b[0m\u001b[0m\n\u001b[0;32m      3\u001b[0m \u001b[0mvot10\u001b[0m\u001b[1;33m\u001b[0m\u001b[1;33m\u001b[0m\u001b[0m\n",
      "\u001b[1;31mNameError\u001b[0m: name 'presi_vice' is not defined"
     ]
    }
   ],
   "source": [
    "comuna10 = presi_vice[presi_vice[\"NOMBRE_REGION\"]=='COMUNA 10'] #Comuna 10\n",
    "vot10 = pd.DataFrame(comuna10.groupby([\"NOMBRE_AGRUPACION\"])[\"VOTOS_AGRUPACION\"].sum())\n",
    "vot10"
   ]
  },
  {
   "cell_type": "code",
   "execution_count": 45,
   "id": "f9299ad8",
   "metadata": {},
   "outputs": [
    {
     "ename": "NameError",
     "evalue": "name 'presi_vice' is not defined",
     "output_type": "error",
     "traceback": [
      "\u001b[1;31m---------------------------------------------------------------------------\u001b[0m",
      "\u001b[1;31mNameError\u001b[0m                                 Traceback (most recent call last)",
      "\u001b[1;32m~\\AppData\\Local\\Temp/ipykernel_11532/2591768134.py\u001b[0m in \u001b[0;36m<module>\u001b[1;34m\u001b[0m\n\u001b[1;32m----> 1\u001b[1;33m \u001b[0mcomuna11\u001b[0m \u001b[1;33m=\u001b[0m \u001b[0mpresi_vice\u001b[0m\u001b[1;33m[\u001b[0m\u001b[0mpresi_vice\u001b[0m\u001b[1;33m[\u001b[0m\u001b[1;34m\"NOMBRE_REGION\"\u001b[0m\u001b[1;33m]\u001b[0m\u001b[1;33m==\u001b[0m\u001b[1;34m'COMUNA 11'\u001b[0m\u001b[1;33m]\u001b[0m \u001b[1;31m#Comuna 11\u001b[0m\u001b[1;33m\u001b[0m\u001b[1;33m\u001b[0m\u001b[0m\n\u001b[0m\u001b[0;32m      2\u001b[0m \u001b[0mvot11\u001b[0m \u001b[1;33m=\u001b[0m \u001b[0mpd\u001b[0m\u001b[1;33m.\u001b[0m\u001b[0mDataFrame\u001b[0m\u001b[1;33m(\u001b[0m\u001b[0mcomuna11\u001b[0m\u001b[1;33m.\u001b[0m\u001b[0mgroupby\u001b[0m\u001b[1;33m(\u001b[0m\u001b[1;33m[\u001b[0m\u001b[1;34m\"NOMBRE_AGRUPACION\"\u001b[0m\u001b[1;33m]\u001b[0m\u001b[1;33m)\u001b[0m\u001b[1;33m[\u001b[0m\u001b[1;34m\"VOTOS_AGRUPACION\"\u001b[0m\u001b[1;33m]\u001b[0m\u001b[1;33m.\u001b[0m\u001b[0msum\u001b[0m\u001b[1;33m(\u001b[0m\u001b[1;33m)\u001b[0m\u001b[1;33m)\u001b[0m\u001b[1;33m\u001b[0m\u001b[1;33m\u001b[0m\u001b[0m\n\u001b[0;32m      3\u001b[0m \u001b[0mvot11\u001b[0m\u001b[1;33m\u001b[0m\u001b[1;33m\u001b[0m\u001b[0m\n",
      "\u001b[1;31mNameError\u001b[0m: name 'presi_vice' is not defined"
     ]
    }
   ],
   "source": [
    "comuna11 = presi_vice[presi_vice[\"NOMBRE_REGION\"]=='COMUNA 11'] #Comuna 11\n",
    "vot11 = pd.DataFrame(comuna11.groupby([\"NOMBRE_AGRUPACION\"])[\"VOTOS_AGRUPACION\"].sum())\n",
    "vot11"
   ]
  },
  {
   "cell_type": "code",
   "execution_count": 46,
   "id": "7847fcaf",
   "metadata": {},
   "outputs": [
    {
     "ename": "NameError",
     "evalue": "name 'presi_vice' is not defined",
     "output_type": "error",
     "traceback": [
      "\u001b[1;31m---------------------------------------------------------------------------\u001b[0m",
      "\u001b[1;31mNameError\u001b[0m                                 Traceback (most recent call last)",
      "\u001b[1;32m~\\AppData\\Local\\Temp/ipykernel_11532/808468207.py\u001b[0m in \u001b[0;36m<module>\u001b[1;34m\u001b[0m\n\u001b[1;32m----> 1\u001b[1;33m \u001b[0mcomuna12\u001b[0m \u001b[1;33m=\u001b[0m \u001b[0mpresi_vice\u001b[0m\u001b[1;33m[\u001b[0m\u001b[0mpresi_vice\u001b[0m\u001b[1;33m[\u001b[0m\u001b[1;34m\"NOMBRE_REGION\"\u001b[0m\u001b[1;33m]\u001b[0m\u001b[1;33m==\u001b[0m\u001b[1;34m'COMUNA 12'\u001b[0m\u001b[1;33m]\u001b[0m \u001b[1;31m#Comuna 12\u001b[0m\u001b[1;33m\u001b[0m\u001b[1;33m\u001b[0m\u001b[0m\n\u001b[0m\u001b[0;32m      2\u001b[0m \u001b[0mvot12\u001b[0m \u001b[1;33m=\u001b[0m \u001b[0mpd\u001b[0m\u001b[1;33m.\u001b[0m\u001b[0mDataFrame\u001b[0m\u001b[1;33m(\u001b[0m\u001b[0mcomuna12\u001b[0m\u001b[1;33m.\u001b[0m\u001b[0mgroupby\u001b[0m\u001b[1;33m(\u001b[0m\u001b[1;33m[\u001b[0m\u001b[1;34m\"NOMBRE_AGRUPACION\"\u001b[0m\u001b[1;33m]\u001b[0m\u001b[1;33m)\u001b[0m\u001b[1;33m[\u001b[0m\u001b[1;34m\"VOTOS_AGRUPACION\"\u001b[0m\u001b[1;33m]\u001b[0m\u001b[1;33m.\u001b[0m\u001b[0msum\u001b[0m\u001b[1;33m(\u001b[0m\u001b[1;33m)\u001b[0m\u001b[1;33m)\u001b[0m\u001b[1;33m\u001b[0m\u001b[1;33m\u001b[0m\u001b[0m\n\u001b[0;32m      3\u001b[0m \u001b[0mvot12\u001b[0m\u001b[1;33m\u001b[0m\u001b[1;33m\u001b[0m\u001b[0m\n",
      "\u001b[1;31mNameError\u001b[0m: name 'presi_vice' is not defined"
     ]
    }
   ],
   "source": [
    "comuna12 = presi_vice[presi_vice[\"NOMBRE_REGION\"]=='COMUNA 12'] #Comuna 12\n",
    "vot12 = pd.DataFrame(comuna12.groupby([\"NOMBRE_AGRUPACION\"])[\"VOTOS_AGRUPACION\"].sum())\n",
    "vot12"
   ]
  },
  {
   "cell_type": "code",
   "execution_count": 47,
   "id": "aa42f843",
   "metadata": {},
   "outputs": [
    {
     "ename": "NameError",
     "evalue": "name 'presi_vice' is not defined",
     "output_type": "error",
     "traceback": [
      "\u001b[1;31m---------------------------------------------------------------------------\u001b[0m",
      "\u001b[1;31mNameError\u001b[0m                                 Traceback (most recent call last)",
      "\u001b[1;32m~\\AppData\\Local\\Temp/ipykernel_11532/1426400049.py\u001b[0m in \u001b[0;36m<module>\u001b[1;34m\u001b[0m\n\u001b[1;32m----> 1\u001b[1;33m \u001b[0mcomuna13\u001b[0m \u001b[1;33m=\u001b[0m \u001b[0mpresi_vice\u001b[0m\u001b[1;33m[\u001b[0m\u001b[0mpresi_vice\u001b[0m\u001b[1;33m[\u001b[0m\u001b[1;34m\"NOMBRE_REGION\"\u001b[0m\u001b[1;33m]\u001b[0m\u001b[1;33m==\u001b[0m\u001b[1;34m'COMUNA 13'\u001b[0m\u001b[1;33m]\u001b[0m \u001b[1;31m#Comuna 13\u001b[0m\u001b[1;33m\u001b[0m\u001b[1;33m\u001b[0m\u001b[0m\n\u001b[0m\u001b[0;32m      2\u001b[0m \u001b[0mvot13\u001b[0m \u001b[1;33m=\u001b[0m \u001b[0mpd\u001b[0m\u001b[1;33m.\u001b[0m\u001b[0mDataFrame\u001b[0m\u001b[1;33m(\u001b[0m\u001b[0mcomuna13\u001b[0m\u001b[1;33m.\u001b[0m\u001b[0mgroupby\u001b[0m\u001b[1;33m(\u001b[0m\u001b[1;33m[\u001b[0m\u001b[1;34m\"NOMBRE_AGRUPACION\"\u001b[0m\u001b[1;33m]\u001b[0m\u001b[1;33m)\u001b[0m\u001b[1;33m[\u001b[0m\u001b[1;34m\"VOTOS_AGRUPACION\"\u001b[0m\u001b[1;33m]\u001b[0m\u001b[1;33m.\u001b[0m\u001b[0msum\u001b[0m\u001b[1;33m(\u001b[0m\u001b[1;33m)\u001b[0m\u001b[1;33m)\u001b[0m\u001b[1;33m\u001b[0m\u001b[1;33m\u001b[0m\u001b[0m\n\u001b[0;32m      3\u001b[0m \u001b[0mvot13\u001b[0m\u001b[1;33m\u001b[0m\u001b[1;33m\u001b[0m\u001b[0m\n",
      "\u001b[1;31mNameError\u001b[0m: name 'presi_vice' is not defined"
     ]
    }
   ],
   "source": [
    "comuna13 = presi_vice[presi_vice[\"NOMBRE_REGION\"]=='COMUNA 13'] #Comuna 13\n",
    "vot13 = pd.DataFrame(comuna13.groupby([\"NOMBRE_AGRUPACION\"])[\"VOTOS_AGRUPACION\"].sum())\n",
    "vot13"
   ]
  },
  {
   "cell_type": "code",
   "execution_count": 48,
   "id": "1f2f0873",
   "metadata": {},
   "outputs": [
    {
     "ename": "NameError",
     "evalue": "name 'presi_vice' is not defined",
     "output_type": "error",
     "traceback": [
      "\u001b[1;31m---------------------------------------------------------------------------\u001b[0m",
      "\u001b[1;31mNameError\u001b[0m                                 Traceback (most recent call last)",
      "\u001b[1;32m~\\AppData\\Local\\Temp/ipykernel_11532/3389185146.py\u001b[0m in \u001b[0;36m<module>\u001b[1;34m\u001b[0m\n\u001b[1;32m----> 1\u001b[1;33m \u001b[0mcomuna14\u001b[0m \u001b[1;33m=\u001b[0m \u001b[0mpresi_vice\u001b[0m\u001b[1;33m[\u001b[0m\u001b[0mpresi_vice\u001b[0m\u001b[1;33m[\u001b[0m\u001b[1;34m\"NOMBRE_REGION\"\u001b[0m\u001b[1;33m]\u001b[0m\u001b[1;33m==\u001b[0m\u001b[1;34m'COMUNA 14'\u001b[0m\u001b[1;33m]\u001b[0m \u001b[1;31m#Comuna 14\u001b[0m\u001b[1;33m\u001b[0m\u001b[1;33m\u001b[0m\u001b[0m\n\u001b[0m\u001b[0;32m      2\u001b[0m \u001b[0mvot14\u001b[0m \u001b[1;33m=\u001b[0m \u001b[0mpd\u001b[0m\u001b[1;33m.\u001b[0m\u001b[0mDataFrame\u001b[0m\u001b[1;33m(\u001b[0m\u001b[0mcomuna14\u001b[0m\u001b[1;33m.\u001b[0m\u001b[0mgroupby\u001b[0m\u001b[1;33m(\u001b[0m\u001b[1;33m[\u001b[0m\u001b[1;34m\"NOMBRE_AGRUPACION\"\u001b[0m\u001b[1;33m]\u001b[0m\u001b[1;33m)\u001b[0m\u001b[1;33m[\u001b[0m\u001b[1;34m\"VOTOS_AGRUPACION\"\u001b[0m\u001b[1;33m]\u001b[0m\u001b[1;33m.\u001b[0m\u001b[0msum\u001b[0m\u001b[1;33m(\u001b[0m\u001b[1;33m)\u001b[0m\u001b[1;33m)\u001b[0m\u001b[1;33m\u001b[0m\u001b[1;33m\u001b[0m\u001b[0m\n\u001b[0;32m      3\u001b[0m \u001b[0mvot14\u001b[0m\u001b[1;33m\u001b[0m\u001b[1;33m\u001b[0m\u001b[0m\n",
      "\u001b[1;31mNameError\u001b[0m: name 'presi_vice' is not defined"
     ]
    }
   ],
   "source": [
    "comuna14 = presi_vice[presi_vice[\"NOMBRE_REGION\"]=='COMUNA 14'] #Comuna 14\n",
    "vot14 = pd.DataFrame(comuna14.groupby([\"NOMBRE_AGRUPACION\"])[\"VOTOS_AGRUPACION\"].sum())\n",
    "vot14"
   ]
  },
  {
   "cell_type": "code",
   "execution_count": 49,
   "id": "affa32cc",
   "metadata": {},
   "outputs": [
    {
     "ename": "NameError",
     "evalue": "name 'presi_vice' is not defined",
     "output_type": "error",
     "traceback": [
      "\u001b[1;31m---------------------------------------------------------------------------\u001b[0m",
      "\u001b[1;31mNameError\u001b[0m                                 Traceback (most recent call last)",
      "\u001b[1;32m~\\AppData\\Local\\Temp/ipykernel_11532/3588181999.py\u001b[0m in \u001b[0;36m<module>\u001b[1;34m\u001b[0m\n\u001b[1;32m----> 1\u001b[1;33m \u001b[0mcomuna15\u001b[0m \u001b[1;33m=\u001b[0m \u001b[0mpresi_vice\u001b[0m\u001b[1;33m[\u001b[0m\u001b[0mpresi_vice\u001b[0m\u001b[1;33m[\u001b[0m\u001b[1;34m\"NOMBRE_REGION\"\u001b[0m\u001b[1;33m]\u001b[0m\u001b[1;33m==\u001b[0m\u001b[1;34m'COMUNA 15'\u001b[0m\u001b[1;33m]\u001b[0m \u001b[1;31m#Comuna 15\u001b[0m\u001b[1;33m\u001b[0m\u001b[1;33m\u001b[0m\u001b[0m\n\u001b[0m\u001b[0;32m      2\u001b[0m \u001b[0mvot15\u001b[0m \u001b[1;33m=\u001b[0m \u001b[0mpd\u001b[0m\u001b[1;33m.\u001b[0m\u001b[0mDataFrame\u001b[0m\u001b[1;33m(\u001b[0m\u001b[0mcomuna15\u001b[0m\u001b[1;33m.\u001b[0m\u001b[0mgroupby\u001b[0m\u001b[1;33m(\u001b[0m\u001b[1;33m[\u001b[0m\u001b[1;34m\"NOMBRE_AGRUPACION\"\u001b[0m\u001b[1;33m]\u001b[0m\u001b[1;33m)\u001b[0m\u001b[1;33m[\u001b[0m\u001b[1;34m\"VOTOS_AGRUPACION\"\u001b[0m\u001b[1;33m]\u001b[0m\u001b[1;33m.\u001b[0m\u001b[0msum\u001b[0m\u001b[1;33m(\u001b[0m\u001b[1;33m)\u001b[0m\u001b[1;33m)\u001b[0m\u001b[1;33m\u001b[0m\u001b[1;33m\u001b[0m\u001b[0m\n\u001b[0;32m      3\u001b[0m \u001b[0mvot15\u001b[0m\u001b[1;33m\u001b[0m\u001b[1;33m\u001b[0m\u001b[0m\n",
      "\u001b[1;31mNameError\u001b[0m: name 'presi_vice' is not defined"
     ]
    }
   ],
   "source": [
    "comuna15 = presi_vice[presi_vice[\"NOMBRE_REGION\"]=='COMUNA 15'] #Comuna 15\n",
    "vot15 = pd.DataFrame(comuna15.groupby([\"NOMBRE_AGRUPACION\"])[\"VOTOS_AGRUPACION\"].sum())\n",
    "vot15"
   ]
  },
  {
   "cell_type": "code",
   "execution_count": 50,
   "id": "e6cb57eb",
   "metadata": {},
   "outputs": [
    {
     "ename": "ModuleNotFoundError",
     "evalue": "No module named 'seaborn'",
     "output_type": "error",
     "traceback": [
      "\u001b[1;31m---------------------------------------------------------------------------\u001b[0m",
      "\u001b[1;31mModuleNotFoundError\u001b[0m                       Traceback (most recent call last)",
      "\u001b[1;32m~\\AppData\\Local\\Temp/ipykernel_11532/1139748750.py\u001b[0m in \u001b[0;36m<module>\u001b[1;34m\u001b[0m\n\u001b[0;32m      1\u001b[0m \u001b[1;32mimport\u001b[0m \u001b[0mos\u001b[0m\u001b[1;33m\u001b[0m\u001b[1;33m\u001b[0m\u001b[0m\n\u001b[1;32m----> 2\u001b[1;33m \u001b[1;32mimport\u001b[0m \u001b[0mseaborn\u001b[0m \u001b[1;32mas\u001b[0m \u001b[0msns\u001b[0m\u001b[1;33m\u001b[0m\u001b[1;33m\u001b[0m\u001b[0m\n\u001b[0m\u001b[0;32m      3\u001b[0m \u001b[1;32mimport\u001b[0m \u001b[0mmatplotlib\u001b[0m\u001b[1;33m.\u001b[0m\u001b[0mpyplot\u001b[0m \u001b[1;32mas\u001b[0m \u001b[0mplt\u001b[0m\u001b[1;33m\u001b[0m\u001b[1;33m\u001b[0m\u001b[0m\n",
      "\u001b[1;31mModuleNotFoundError\u001b[0m: No module named 'seaborn'"
     ]
    }
   ],
   "source": [
    "import os\n",
    "import seaborn as sns\n",
    "import matplotlib.pyplot as plt"
   ]
  },
  {
   "cell_type": "code",
   "execution_count": 51,
   "id": "d861400c",
   "metadata": {},
   "outputs": [
    {
     "ename": "NameError",
     "evalue": "name 'presi_vice' is not defined",
     "output_type": "error",
     "traceback": [
      "\u001b[1;31m---------------------------------------------------------------------------\u001b[0m",
      "\u001b[1;31mNameError\u001b[0m                                 Traceback (most recent call last)",
      "\u001b[1;32m~\\AppData\\Local\\Temp/ipykernel_11532/184623852.py\u001b[0m in \u001b[0;36m<module>\u001b[1;34m\u001b[0m\n\u001b[1;32m----> 1\u001b[1;33m \u001b[0mtotal_agrupados\u001b[0m\u001b[1;33m=\u001b[0m\u001b[0mpresi_vice\u001b[0m\u001b[1;33m.\u001b[0m\u001b[0mgroupby\u001b[0m\u001b[1;33m(\u001b[0m\u001b[1;34m\"NOMBRE_AGRUPACION\"\u001b[0m\u001b[1;33m)\u001b[0m\u001b[1;33m[\u001b[0m\u001b[1;34m\"VOTOS_AGRUPACION\"\u001b[0m\u001b[1;33m]\u001b[0m\u001b[1;33m.\u001b[0m\u001b[0msum\u001b[0m\u001b[1;33m(\u001b[0m\u001b[1;33m)\u001b[0m\u001b[1;33m\u001b[0m\u001b[1;33m\u001b[0m\u001b[0m\n\u001b[0m\u001b[0;32m      2\u001b[0m \u001b[0mtotal_agrupados\u001b[0m\u001b[1;33m\u001b[0m\u001b[1;33m\u001b[0m\u001b[0m\n",
      "\u001b[1;31mNameError\u001b[0m: name 'presi_vice' is not defined"
     ]
    }
   ],
   "source": [
    "total_agrupados=presi_vice.groupby(\"NOMBRE_AGRUPACION\")[\"VOTOS_AGRUPACION\"].sum()\n",
    "total_agrupados\n"
   ]
  },
  {
   "cell_type": "code",
   "execution_count": 52,
   "id": "ef4c41f4",
   "metadata": {},
   "outputs": [
    {
     "ename": "NameError",
     "evalue": "name 'total_agrupados' is not defined",
     "output_type": "error",
     "traceback": [
      "\u001b[1;31m---------------------------------------------------------------------------\u001b[0m",
      "\u001b[1;31mNameError\u001b[0m                                 Traceback (most recent call last)",
      "\u001b[1;32m~\\AppData\\Local\\Temp/ipykernel_11532/4191003342.py\u001b[0m in \u001b[0;36m<module>\u001b[1;34m\u001b[0m\n\u001b[0;32m      1\u001b[0m \u001b[0mplt\u001b[0m\u001b[1;33m.\u001b[0m\u001b[0mfigure\u001b[0m\u001b[1;33m(\u001b[0m\u001b[0mfigsize\u001b[0m\u001b[1;33m=\u001b[0m\u001b[1;33m(\u001b[0m\u001b[1;36m15\u001b[0m\u001b[1;33m,\u001b[0m\u001b[1;36m10\u001b[0m\u001b[1;33m)\u001b[0m\u001b[1;33m)\u001b[0m\u001b[1;33m\u001b[0m\u001b[1;33m\u001b[0m\u001b[0m\n\u001b[1;32m----> 2\u001b[1;33m \u001b[0mcolor\u001b[0m \u001b[1;33m=\u001b[0m \u001b[1;33m[\u001b[0m\u001b[1;34m\"#ADD8E6\"\u001b[0m\u001b[1;32mif\u001b[0m \u001b[0mpartido\u001b[0m\u001b[1;33m==\u001b[0m\u001b[1;34m\"UNITE POR LA LIBERTAD Y LA DIGNIDAD\"\u001b[0m \u001b[1;32melse\u001b[0m \u001b[1;34m\"#008080\"\u001b[0m \u001b[1;32mfor\u001b[0m \u001b[0mpartido\u001b[0m \u001b[1;32min\u001b[0m \u001b[0mtotal_agrupados\u001b[0m\u001b[1;33m.\u001b[0m\u001b[0mindex\u001b[0m\u001b[1;33m]\u001b[0m\u001b[1;33m\u001b[0m\u001b[1;33m\u001b[0m\u001b[0m\n\u001b[0m\u001b[0;32m      3\u001b[0m \u001b[0mplt\u001b[0m\u001b[1;33m.\u001b[0m\u001b[0mbar\u001b[0m\u001b[1;33m(\u001b[0m\u001b[0mx\u001b[0m\u001b[1;33m=\u001b[0m\u001b[0mtotal_agrupados\u001b[0m\u001b[1;33m.\u001b[0m\u001b[0mindex\u001b[0m\u001b[1;33m,\u001b[0m\u001b[0mheight\u001b[0m\u001b[1;33m=\u001b[0m\u001b[0mtotal_agrupados\u001b[0m\u001b[1;33m,\u001b[0m\u001b[0mcolor\u001b[0m\u001b[1;33m=\u001b[0m\u001b[0mcolor\u001b[0m\u001b[1;33m)\u001b[0m\u001b[1;33m\u001b[0m\u001b[1;33m\u001b[0m\u001b[0m\n\u001b[0;32m      4\u001b[0m \u001b[0mplt\u001b[0m\u001b[1;33m.\u001b[0m\u001b[0mxticks\u001b[0m\u001b[1;33m(\u001b[0m\u001b[0mrotation\u001b[0m\u001b[1;33m=\u001b[0m\u001b[1;36m90\u001b[0m\u001b[1;33m)\u001b[0m\u001b[1;33m\u001b[0m\u001b[1;33m\u001b[0m\u001b[0m\n\u001b[0;32m      5\u001b[0m \u001b[0mplt\u001b[0m\u001b[1;33m.\u001b[0m\u001b[0mtitle\u001b[0m\u001b[1;33m(\u001b[0m\u001b[1;34m\"1. Votos por Partido en CABA\"\u001b[0m\u001b[1;33m,\u001b[0m\u001b[0mfontsize\u001b[0m\u001b[1;33m=\u001b[0m\u001b[1;36m20\u001b[0m\u001b[1;33m)\u001b[0m\u001b[1;33m\u001b[0m\u001b[1;33m\u001b[0m\u001b[0m\n",
      "\u001b[1;31mNameError\u001b[0m: name 'total_agrupados' is not defined"
     ]
    },
    {
     "data": {
      "text/plain": [
       "<Figure size 1080x720 with 0 Axes>"
      ]
     },
     "metadata": {},
     "output_type": "display_data"
    }
   ],
   "source": [
    "plt.figure(figsize=(15,10))\n",
    "color = [\"#ADD8E6\"if partido==\"UNITE POR LA LIBERTAD Y LA DIGNIDAD\" else \"#008080\" for partido in total_agrupados.index]\n",
    "plt.bar(x=total_agrupados.index,height=total_agrupados,color=color)        \n",
    "plt.xticks(rotation=90)\n",
    "plt.title(\"1. Votos por Partido en CABA\",fontsize=20)\n",
    "plt.show()"
   ]
  },
  {
   "cell_type": "code",
   "execution_count": 53,
   "id": "3041e94a",
   "metadata": {},
   "outputs": [
    {
     "ename": "NameError",
     "evalue": "name 'presi_vice' is not defined",
     "output_type": "error",
     "traceback": [
      "\u001b[1;31m---------------------------------------------------------------------------\u001b[0m",
      "\u001b[1;31mNameError\u001b[0m                                 Traceback (most recent call last)",
      "\u001b[1;32m~\\AppData\\Local\\Temp/ipykernel_11532/2432728308.py\u001b[0m in \u001b[0;36m<module>\u001b[1;34m\u001b[0m\n\u001b[1;32m----> 1\u001b[1;33m \u001b[0mpartido_unite\u001b[0m\u001b[1;33m=\u001b[0m\u001b[0mpresi_vice\u001b[0m\u001b[1;33m.\u001b[0m\u001b[0mloc\u001b[0m\u001b[1;33m[\u001b[0m\u001b[0mpresi_vice\u001b[0m\u001b[1;33m[\u001b[0m\u001b[1;34m\"NOMBRE_AGRUPACION\"\u001b[0m\u001b[1;33m]\u001b[0m\u001b[1;33m==\u001b[0m\u001b[1;34m\"UNITE POR LA LIBERTAD Y LA DIGNIDAD\"\u001b[0m\u001b[1;33m]\u001b[0m\u001b[1;33m\u001b[0m\u001b[1;33m\u001b[0m\u001b[0m\n\u001b[0m\u001b[0;32m      2\u001b[0m \u001b[0mvotos_comuna\u001b[0m\u001b[1;33m=\u001b[0m \u001b[0mpartido_unite\u001b[0m\u001b[1;33m.\u001b[0m\u001b[0mgroupby\u001b[0m\u001b[1;33m(\u001b[0m\u001b[1;34m\"NOMBRE_REGION\"\u001b[0m\u001b[1;33m)\u001b[0m\u001b[1;33m[\u001b[0m\u001b[1;34m\"VOTOS_AGRUPACION\"\u001b[0m\u001b[1;33m]\u001b[0m\u001b[1;33m.\u001b[0m\u001b[0msum\u001b[0m\u001b[1;33m(\u001b[0m\u001b[1;33m)\u001b[0m\u001b[1;33m\u001b[0m\u001b[1;33m\u001b[0m\u001b[0m\n",
      "\u001b[1;31mNameError\u001b[0m: name 'presi_vice' is not defined"
     ]
    }
   ],
   "source": [
    "partido_unite=presi_vice.loc[presi_vice[\"NOMBRE_AGRUPACION\"]==\"UNITE POR LA LIBERTAD Y LA DIGNIDAD\"]\n",
    "votos_comuna= partido_unite.groupby(\"NOMBRE_REGION\")[\"VOTOS_AGRUPACION\"].sum()"
   ]
  },
  {
   "cell_type": "code",
   "execution_count": 54,
   "id": "8ed88ea8",
   "metadata": {},
   "outputs": [
    {
     "ename": "NameError",
     "evalue": "name 'votos_comuna' is not defined",
     "output_type": "error",
     "traceback": [
      "\u001b[1;31m---------------------------------------------------------------------------\u001b[0m",
      "\u001b[1;31mNameError\u001b[0m                                 Traceback (most recent call last)",
      "\u001b[1;32m~\\AppData\\Local\\Temp/ipykernel_11532/479189125.py\u001b[0m in \u001b[0;36m<module>\u001b[1;34m\u001b[0m\n\u001b[0;32m      1\u001b[0m \u001b[0mplt\u001b[0m\u001b[1;33m.\u001b[0m\u001b[0mfigure\u001b[0m\u001b[1;33m(\u001b[0m\u001b[0mfigsize\u001b[0m\u001b[1;33m=\u001b[0m\u001b[1;33m(\u001b[0m\u001b[1;36m15\u001b[0m\u001b[1;33m,\u001b[0m\u001b[1;36m10\u001b[0m\u001b[1;33m)\u001b[0m\u001b[1;33m)\u001b[0m\u001b[1;33m\u001b[0m\u001b[1;33m\u001b[0m\u001b[0m\n\u001b[1;32m----> 2\u001b[1;33m \u001b[0mplt\u001b[0m\u001b[1;33m.\u001b[0m\u001b[0mbar\u001b[0m\u001b[1;33m(\u001b[0m\u001b[0mx\u001b[0m\u001b[1;33m=\u001b[0m\u001b[0mvotos_comuna\u001b[0m\u001b[1;33m.\u001b[0m\u001b[0mindex\u001b[0m\u001b[1;33m,\u001b[0m\u001b[0mheight\u001b[0m\u001b[1;33m=\u001b[0m\u001b[0mvotos_comuna\u001b[0m\u001b[1;33m,\u001b[0m\u001b[0mcolor\u001b[0m\u001b[1;33m=\u001b[0m\u001b[1;33m[\u001b[0m\u001b[1;34m\"#ADD8E6\"\u001b[0m\u001b[1;33m]\u001b[0m\u001b[1;33m)\u001b[0m\u001b[1;33m\u001b[0m\u001b[1;33m\u001b[0m\u001b[0m\n\u001b[0m\u001b[0;32m      3\u001b[0m \u001b[0mplt\u001b[0m\u001b[1;33m.\u001b[0m\u001b[0mxticks\u001b[0m\u001b[1;33m(\u001b[0m\u001b[0mrotation\u001b[0m\u001b[1;33m=\u001b[0m\u001b[1;36m45\u001b[0m\u001b[1;33m)\u001b[0m\u001b[1;33m\u001b[0m\u001b[1;33m\u001b[0m\u001b[0m\n\u001b[0;32m      4\u001b[0m \u001b[0mplt\u001b[0m\u001b[1;33m.\u001b[0m\u001b[0mtitle\u001b[0m\u001b[1;33m(\u001b[0m\u001b[1;34m\"2. Votos Partído Unite por la Libertad y la Dignidad por comuna\"\u001b[0m\u001b[1;33m,\u001b[0m\u001b[0mfontsize\u001b[0m\u001b[1;33m=\u001b[0m\u001b[1;36m20\u001b[0m\u001b[1;33m)\u001b[0m\u001b[1;33m\u001b[0m\u001b[1;33m\u001b[0m\u001b[0m\n\u001b[0;32m      5\u001b[0m \u001b[0mplt\u001b[0m\u001b[1;33m.\u001b[0m\u001b[0mshow\u001b[0m\u001b[1;33m(\u001b[0m\u001b[1;33m)\u001b[0m\u001b[1;33m\u001b[0m\u001b[1;33m\u001b[0m\u001b[0m\n",
      "\u001b[1;31mNameError\u001b[0m: name 'votos_comuna' is not defined"
     ]
    },
    {
     "data": {
      "text/plain": [
       "<Figure size 1080x720 with 0 Axes>"
      ]
     },
     "metadata": {},
     "output_type": "display_data"
    }
   ],
   "source": [
    "plt.figure(figsize=(15,10))\n",
    "plt.bar(x=votos_comuna.index,height=votos_comuna,color=[\"#ADD8E6\"])        \n",
    "plt.xticks(rotation=45)\n",
    "plt.title(\"2. Votos Partído Unite por la Libertad y la Dignidad por comuna\",fontsize=20)\n",
    "plt.show()"
   ]
  },
  {
   "cell_type": "code",
   "execution_count": 55,
   "id": "7f434492",
   "metadata": {},
   "outputs": [
    {
     "ename": "NameError",
     "evalue": "name 'presi_vice' is not defined",
     "output_type": "error",
     "traceback": [
      "\u001b[1;31m---------------------------------------------------------------------------\u001b[0m",
      "\u001b[1;31mNameError\u001b[0m                                 Traceback (most recent call last)",
      "\u001b[1;32m~\\AppData\\Local\\Temp/ipykernel_11532/2435696848.py\u001b[0m in \u001b[0;36m<module>\u001b[1;34m\u001b[0m\n\u001b[1;32m----> 1\u001b[1;33m \u001b[0manalisis_final\u001b[0m\u001b[1;33m=\u001b[0m \u001b[0mpd\u001b[0m\u001b[1;33m.\u001b[0m\u001b[0mpivot_table\u001b[0m\u001b[1;33m(\u001b[0m\u001b[0mpresi_vice\u001b[0m\u001b[1;33m,\u001b[0m\u001b[0mvalues\u001b[0m\u001b[1;33m=\u001b[0m\u001b[1;34m\"VOTOS_AGRUPACION\"\u001b[0m\u001b[1;33m,\u001b[0m\u001b[0mindex\u001b[0m\u001b[1;33m=\u001b[0m\u001b[1;34m\"NOMBRE_REGION\"\u001b[0m\u001b[1;33m,\u001b[0m\u001b[0mcolumns\u001b[0m\u001b[1;33m=\u001b[0m\u001b[1;34m\"NOMBRE_AGRUPACION\"\u001b[0m\u001b[1;33m,\u001b[0m\u001b[0maggfunc\u001b[0m\u001b[1;33m=\u001b[0m\u001b[1;34m\"sum\"\u001b[0m\u001b[1;33m)\u001b[0m\u001b[1;33m\u001b[0m\u001b[1;33m\u001b[0m\u001b[0m\n\u001b[0m",
      "\u001b[1;31mNameError\u001b[0m: name 'presi_vice' is not defined"
     ]
    }
   ],
   "source": [
    "analisis_final= pd.pivot_table(presi_vice,values=\"VOTOS_AGRUPACION\",index=\"NOMBRE_REGION\",columns=\"NOMBRE_AGRUPACION\",aggfunc=\"sum\")"
   ]
  },
  {
   "cell_type": "code",
   "execution_count": 56,
   "id": "9fd8b060",
   "metadata": {},
   "outputs": [
    {
     "ename": "NameError",
     "evalue": "name 'analisis_final' is not defined",
     "output_type": "error",
     "traceback": [
      "\u001b[1;31m---------------------------------------------------------------------------\u001b[0m",
      "\u001b[1;31mNameError\u001b[0m                                 Traceback (most recent call last)",
      "\u001b[1;32m~\\AppData\\Local\\Temp/ipykernel_11532/1843160453.py\u001b[0m in \u001b[0;36m<module>\u001b[1;34m\u001b[0m\n\u001b[0;32m      1\u001b[0m \u001b[0mcolors\u001b[0m \u001b[1;33m=\u001b[0m \u001b[1;33m[\u001b[0m\u001b[1;34m\"gray\"\u001b[0m\u001b[1;33m,\u001b[0m\u001b[1;34m\"C12\"\u001b[0m\u001b[1;33m,\u001b[0m\u001b[1;34m\"red\"\u001b[0m\u001b[1;33m,\u001b[0m\u001b[1;34m\"b\"\u001b[0m\u001b[1;33m,\u001b[0m\u001b[1;34m\"C2\"\u001b[0m\u001b[1;33m,\u001b[0m\u001b[1;34m\"C3\"\u001b[0m\u001b[1;33m,\u001b[0m\u001b[1;34m\"orangered\"\u001b[0m\u001b[1;33m,\u001b[0m\u001b[1;34m\"yellow\"\u001b[0m\u001b[1;33m,\u001b[0m\u001b[1;34m\"C10\"\u001b[0m\u001b[1;33m,\u001b[0m\u001b[1;34m\"indigo\"\u001b[0m\u001b[1;33m,\u001b[0m\u001b[1;34m\"k\"\u001b[0m\u001b[1;33m,\u001b[0m\u001b[1;34m\"silver\"\u001b[0m\u001b[1;33m,\u001b[0m\u001b[1;34m\"C7\"\u001b[0m\u001b[1;33m,\u001b[0m\u001b[1;34m\"lightskyblue\"\u001b[0m\u001b[1;33m]\u001b[0m\u001b[1;33m\u001b[0m\u001b[1;33m\u001b[0m\u001b[0m\n\u001b[1;32m----> 2\u001b[1;33m \u001b[0manalisis_final\u001b[0m\u001b[1;33m.\u001b[0m\u001b[0mplot\u001b[0m\u001b[1;33m(\u001b[0m\u001b[0mkind\u001b[0m\u001b[1;33m=\u001b[0m\u001b[1;34m\"bar\"\u001b[0m\u001b[1;33m,\u001b[0m\u001b[0mstacked\u001b[0m\u001b[1;33m=\u001b[0m\u001b[1;32mTrue\u001b[0m\u001b[1;33m,\u001b[0m\u001b[0mfigsize\u001b[0m\u001b[1;33m=\u001b[0m\u001b[1;33m(\u001b[0m\u001b[1;36m15\u001b[0m\u001b[1;33m,\u001b[0m\u001b[1;36m15\u001b[0m\u001b[1;33m)\u001b[0m\u001b[1;33m,\u001b[0m\u001b[0mylim\u001b[0m\u001b[1;33m=\u001b[0m\u001b[1;33m(\u001b[0m\u001b[1;36m0\u001b[0m\u001b[1;33m,\u001b[0m\u001b[1;36m220000\u001b[0m\u001b[1;33m)\u001b[0m\u001b[1;33m,\u001b[0m\u001b[0mxlabel\u001b[0m\u001b[1;33m=\u001b[0m\u001b[1;34m\"\"\u001b[0m\u001b[1;33m,\u001b[0m\u001b[0mcolor\u001b[0m\u001b[1;33m=\u001b[0m\u001b[0mcolors\u001b[0m\u001b[1;33m)\u001b[0m\u001b[1;33m\u001b[0m\u001b[1;33m\u001b[0m\u001b[0m\n\u001b[0m\u001b[0;32m      3\u001b[0m \u001b[0mplt\u001b[0m\u001b[1;33m.\u001b[0m\u001b[0mtitle\u001b[0m\u001b[1;33m(\u001b[0m\u001b[1;34m\"3. Resultados finales: Votos por partido en cada comuna\"\u001b[0m\u001b[1;33m,\u001b[0m\u001b[0mfontsize\u001b[0m\u001b[1;33m=\u001b[0m\u001b[1;36m20\u001b[0m\u001b[1;33m)\u001b[0m\u001b[1;33m\u001b[0m\u001b[1;33m\u001b[0m\u001b[0m\n\u001b[0;32m      4\u001b[0m \u001b[0mplt\u001b[0m\u001b[1;33m.\u001b[0m\u001b[0mshow\u001b[0m\u001b[1;33m(\u001b[0m\u001b[1;33m)\u001b[0m\u001b[1;33m\u001b[0m\u001b[1;33m\u001b[0m\u001b[0m\n",
      "\u001b[1;31mNameError\u001b[0m: name 'analisis_final' is not defined"
     ]
    }
   ],
   "source": [
    "colors = [\"gray\",\"C12\",\"red\",\"b\",\"C2\",\"C3\",\"orangered\",\"yellow\",\"C10\",\"indigo\",\"k\",\"silver\",\"C7\",\"lightskyblue\"]\n",
    "analisis_final.plot(kind=\"bar\",stacked=True,figsize=(15,15),ylim=(0,220000),xlabel=\"\",color=colors)\n",
    "plt.title(\"3. Resultados finales: Votos por partido en cada comuna\",fontsize=20)\n",
    "plt.show()  "
   ]
  },
  {
   "cell_type": "markdown",
   "id": "1b04d1e9",
   "metadata": {},
   "source": [
    "# ANALISIS # \n",
    "\n",
    "El *gráfico N1* expone los resultados generales de las elecciones Primarias Abiertas Simultaneas Obligatorias del 2019\n",
    "para el cargo Ejecutivo Nacional. El partido Unite por la Libertad y la Dignidad se posicionó como la quinta fuerza más votada \n",
    "en la Ciudad Autónoma de Buenos Aires. Si profundizamos en los resultados, como muestra el *gráfico N2*, el partido representado por \n",
    "Jose Luis Espert concentró la mayoría de sus votos en la Comuna 13, que está conformada por los barrios del Noreste de la Ciudad, tales como Nuñez, Colegiales y \n",
    "Belgrano. Contrariamente, bien podría considerarse que en la Comuna 8 (ubicada en la zona Suroeste, entre los barrios Villa \n",
    "Lugano, Villa Soldati y Villa Riachuelo) era evidente que la agrupación no iba a hacer una gran elección. De hecho, así como lo \n",
    "expresa el *gráfico N2*, fue en la comuna que logró menos votos. Y si continuamos con los puntos débiles del partido, en la \n",
    "comuna 4 (Nueva Pompeya, Parque Patricios, Barracas y la Boca) y en la 5 (Almagro y Boedo) se repiten los resultados electorales bajos.\n",
    "\n",
    "Sin embargo, llama la atención que el segundo distrito donde menos votos recibió la nueva fuerza fue en la comuna 2, delimitada por el barrio de\n",
    "Recoleta. Esto puede verse en el *gráfico N3*, allí donde Juntos por el Cambio hizo su mejor performance.\n",
    "\n",
    "Siguiendo éste analisis creemos que la mejor estrategia a llevar adelante por Unite es la siguiente: por un lado, desistir de sus esfuerzos en la campaña electoral allí donde menos\n",
    "desempeño positivo obtuvo, es decir, en el cordón sur de CABA. Inversamente, se recomienda destinar dichos recursos materiales y humanos en aquellos sectores de la capital\n",
    "donde más votos cosechó. Esto, con el objetivo de obtener mas votos de cara a los proximos comicios, pues donde en las PASO le fue bien podría incluso aumentar su caudal. Como ya mencionamos, la comuna 13, más las secciones comprendidas en la comuna 14 (Palermo) y la 12 (Coghlan, Villa Urquiza, Villa Pueyredon y Saavedra), donde tambien tuvo un desempeño considerable.\n",
    "\n",
    "Cabe destacar tambien, como exhibe el *grafico N3* que la tasa de victoria de JxC coincide con el buen desempeño de Unite; esto significa que en las comunas donde JxC ganó, hay una alza en los votos del segundo. Y al posicionarse ambos partidos dentro del mismo espectro ideológico, Espert podría erosionar parte del voto cambiemista a su favor. Y teniendo en cuenta el partido representado por Macri ganó en la comuna 2, se sugiere hacer más hincapie en la campaña electoral y amentar las presencia en esa zona, puesto que es una región con alto potencial de votos en favor de Espert."
   ]
  },
  {
   "cell_type": "markdown",
   "id": "c6ea0253",
   "metadata": {},
   "source": [
    "# parte 2 #"
   ]
  },
  {
   "cell_type": "code",
   "execution_count": 57,
   "id": "749ac7c2",
   "metadata": {},
   "outputs": [
    {
     "data": {
      "text/html": [
       "<div>\n",
       "<style scoped>\n",
       "    .dataframe tbody tr th:only-of-type {\n",
       "        vertical-align: middle;\n",
       "    }\n",
       "\n",
       "    .dataframe tbody tr th {\n",
       "        vertical-align: top;\n",
       "    }\n",
       "\n",
       "    .dataframe thead th {\n",
       "        text-align: right;\n",
       "    }\n",
       "</style>\n",
       "<table border=\"1\" class=\"dataframe\">\n",
       "  <thead>\n",
       "    <tr style=\"text-align: right;\">\n",
       "      <th></th>\n",
       "      <th>AREA</th>\n",
       "      <th>PERIMETER</th>\n",
       "      <th>PAIS0210_</th>\n",
       "      <th>PAIS0210_I</th>\n",
       "      <th>PROV</th>\n",
       "      <th>DEPTO</th>\n",
       "      <th>FRAC</th>\n",
       "      <th>RADIO</th>\n",
       "      <th>TIPO</th>\n",
       "      <th>LINK</th>\n",
       "      <th>VARONES</th>\n",
       "      <th>MUJERES</th>\n",
       "      <th>TOT_POB</th>\n",
       "      <th>HOGARES</th>\n",
       "      <th>VIV_PART</th>\n",
       "      <th>VIV_PART_H</th>\n",
       "      <th>geometry</th>\n",
       "    </tr>\n",
       "  </thead>\n",
       "  <tbody>\n",
       "    <tr>\n",
       "      <th>0</th>\n",
       "      <td>1760908.00</td>\n",
       "      <td>7579.745</td>\n",
       "      <td>2</td>\n",
       "      <td>1</td>\n",
       "      <td>02</td>\n",
       "      <td>013</td>\n",
       "      <td>03</td>\n",
       "      <td>02</td>\n",
       "      <td>U</td>\n",
       "      <td>020130302</td>\n",
       "      <td>312.0</td>\n",
       "      <td>342.0</td>\n",
       "      <td>654.0</td>\n",
       "      <td>270.0</td>\n",
       "      <td>377.0</td>\n",
       "      <td>265.0</td>\n",
       "      <td>POLYGON ((4192267.085 6152975.831, 4192240.425...</td>\n",
       "    </tr>\n",
       "    <tr>\n",
       "      <th>1</th>\n",
       "      <td>2240206.00</td>\n",
       "      <td>14184.670</td>\n",
       "      <td>3</td>\n",
       "      <td>2</td>\n",
       "      <td>02</td>\n",
       "      <td>013</td>\n",
       "      <td>11</td>\n",
       "      <td>01</td>\n",
       "      <td>U</td>\n",
       "      <td>020131101</td>\n",
       "      <td>296.0</td>\n",
       "      <td>272.0</td>\n",
       "      <td>568.0</td>\n",
       "      <td>172.0</td>\n",
       "      <td>217.0</td>\n",
       "      <td>170.0</td>\n",
       "      <td>POLYGON ((4193005.531 6152773.045, 4193022.852...</td>\n",
       "    </tr>\n",
       "    <tr>\n",
       "      <th>2</th>\n",
       "      <td>28001.00</td>\n",
       "      <td>720.460</td>\n",
       "      <td>4</td>\n",
       "      <td>3</td>\n",
       "      <td>02</td>\n",
       "      <td>013</td>\n",
       "      <td>01</td>\n",
       "      <td>04</td>\n",
       "      <td>U</td>\n",
       "      <td>020130104</td>\n",
       "      <td>379.0</td>\n",
       "      <td>384.0</td>\n",
       "      <td>763.0</td>\n",
       "      <td>367.0</td>\n",
       "      <td>524.0</td>\n",
       "      <td>355.0</td>\n",
       "      <td>POLYGON ((4192119.600 6153045.088, 4192222.042...</td>\n",
       "    </tr>\n",
       "    <tr>\n",
       "      <th>3</th>\n",
       "      <td>68016.38</td>\n",
       "      <td>1084.790</td>\n",
       "      <td>5</td>\n",
       "      <td>4</td>\n",
       "      <td>02</td>\n",
       "      <td>013</td>\n",
       "      <td>01</td>\n",
       "      <td>03</td>\n",
       "      <td>U</td>\n",
       "      <td>020130103</td>\n",
       "      <td>286.0</td>\n",
       "      <td>326.0</td>\n",
       "      <td>612.0</td>\n",
       "      <td>258.0</td>\n",
       "      <td>314.0</td>\n",
       "      <td>254.0</td>\n",
       "      <td>POLYGON ((4192119.600 6153045.088, 4192124.424...</td>\n",
       "    </tr>\n",
       "    <tr>\n",
       "      <th>4</th>\n",
       "      <td>53839.88</td>\n",
       "      <td>948.102</td>\n",
       "      <td>6</td>\n",
       "      <td>5</td>\n",
       "      <td>02</td>\n",
       "      <td>013</td>\n",
       "      <td>01</td>\n",
       "      <td>02</td>\n",
       "      <td>U</td>\n",
       "      <td>020130102</td>\n",
       "      <td>373.0</td>\n",
       "      <td>397.0</td>\n",
       "      <td>770.0</td>\n",
       "      <td>343.0</td>\n",
       "      <td>408.0</td>\n",
       "      <td>340.0</td>\n",
       "      <td>POLYGON ((4191961.799 6152874.180, 4191960.076...</td>\n",
       "    </tr>\n",
       "    <tr>\n",
       "      <th>...</th>\n",
       "      <td>...</td>\n",
       "      <td>...</td>\n",
       "      <td>...</td>\n",
       "      <td>...</td>\n",
       "      <td>...</td>\n",
       "      <td>...</td>\n",
       "      <td>...</td>\n",
       "      <td>...</td>\n",
       "      <td>...</td>\n",
       "      <td>...</td>\n",
       "      <td>...</td>\n",
       "      <td>...</td>\n",
       "      <td>...</td>\n",
       "      <td>...</td>\n",
       "      <td>...</td>\n",
       "      <td>...</td>\n",
       "      <td>...</td>\n",
       "    </tr>\n",
       "    <tr>\n",
       "      <th>3550</th>\n",
       "      <td>91488.00</td>\n",
       "      <td>1209.676</td>\n",
       "      <td>3552</td>\n",
       "      <td>3537</td>\n",
       "      <td>02</td>\n",
       "      <td>008</td>\n",
       "      <td>12</td>\n",
       "      <td>02</td>\n",
       "      <td>U</td>\n",
       "      <td>020081202</td>\n",
       "      <td>461.0</td>\n",
       "      <td>543.0</td>\n",
       "      <td>1004.0</td>\n",
       "      <td>356.0</td>\n",
       "      <td>378.0</td>\n",
       "      <td>330.0</td>\n",
       "      <td>POLYGON ((4190496.745 6136003.489, 4190585.718...</td>\n",
       "    </tr>\n",
       "    <tr>\n",
       "      <th>3551</th>\n",
       "      <td>120426.10</td>\n",
       "      <td>1403.462</td>\n",
       "      <td>3553</td>\n",
       "      <td>3538</td>\n",
       "      <td>02</td>\n",
       "      <td>008</td>\n",
       "      <td>09</td>\n",
       "      <td>07</td>\n",
       "      <td>U</td>\n",
       "      <td>020080907</td>\n",
       "      <td>330.0</td>\n",
       "      <td>442.0</td>\n",
       "      <td>772.0</td>\n",
       "      <td>260.0</td>\n",
       "      <td>297.0</td>\n",
       "      <td>243.0</td>\n",
       "      <td>POLYGON ((4190063.362 6136008.824, 4190168.025...</td>\n",
       "    </tr>\n",
       "    <tr>\n",
       "      <th>3552</th>\n",
       "      <td>91443.13</td>\n",
       "      <td>1210.355</td>\n",
       "      <td>3554</td>\n",
       "      <td>3539</td>\n",
       "      <td>02</td>\n",
       "      <td>008</td>\n",
       "      <td>12</td>\n",
       "      <td>05</td>\n",
       "      <td>U</td>\n",
       "      <td>020081205</td>\n",
       "      <td>475.0</td>\n",
       "      <td>503.0</td>\n",
       "      <td>978.0</td>\n",
       "      <td>341.0</td>\n",
       "      <td>397.0</td>\n",
       "      <td>314.0</td>\n",
       "      <td>POLYGON ((4190699.346 6135786.829, 4190801.651...</td>\n",
       "    </tr>\n",
       "    <tr>\n",
       "      <th>3553</th>\n",
       "      <td>118110.30</td>\n",
       "      <td>1390.708</td>\n",
       "      <td>3555</td>\n",
       "      <td>3540</td>\n",
       "      <td>02</td>\n",
       "      <td>008</td>\n",
       "      <td>12</td>\n",
       "      <td>01</td>\n",
       "      <td>U</td>\n",
       "      <td>020081201</td>\n",
       "      <td>427.0</td>\n",
       "      <td>488.0</td>\n",
       "      <td>915.0</td>\n",
       "      <td>306.0</td>\n",
       "      <td>354.0</td>\n",
       "      <td>293.0</td>\n",
       "      <td>POLYGON ((4190269.797 6135788.912, 4190371.127...</td>\n",
       "    </tr>\n",
       "    <tr>\n",
       "      <th>3554</th>\n",
       "      <td>181737.10</td>\n",
       "      <td>1900.791</td>\n",
       "      <td>3556</td>\n",
       "      <td>3541</td>\n",
       "      <td>02</td>\n",
       "      <td>008</td>\n",
       "      <td>12</td>\n",
       "      <td>06</td>\n",
       "      <td>U</td>\n",
       "      <td>020081206</td>\n",
       "      <td>349.0</td>\n",
       "      <td>395.0</td>\n",
       "      <td>744.0</td>\n",
       "      <td>249.0</td>\n",
       "      <td>284.0</td>\n",
       "      <td>240.0</td>\n",
       "      <td>POLYGON ((4190472.457 6135573.256, 4190563.377...</td>\n",
       "    </tr>\n",
       "  </tbody>\n",
       "</table>\n",
       "<p>3555 rows × 17 columns</p>\n",
       "</div>"
      ],
      "text/plain": [
       "            AREA  PERIMETER  PAIS0210_  PAIS0210_I PROV DEPTO FRAC RADIO TIPO  \\\n",
       "0     1760908.00   7579.745          2           1   02   013   03    02    U   \n",
       "1     2240206.00  14184.670          3           2   02   013   11    01    U   \n",
       "2       28001.00    720.460          4           3   02   013   01    04    U   \n",
       "3       68016.38   1084.790          5           4   02   013   01    03    U   \n",
       "4       53839.88    948.102          6           5   02   013   01    02    U   \n",
       "...          ...        ...        ...         ...  ...   ...  ...   ...  ...   \n",
       "3550    91488.00   1209.676       3552        3537   02   008   12    02    U   \n",
       "3551   120426.10   1403.462       3553        3538   02   008   09    07    U   \n",
       "3552    91443.13   1210.355       3554        3539   02   008   12    05    U   \n",
       "3553   118110.30   1390.708       3555        3540   02   008   12    01    U   \n",
       "3554   181737.10   1900.791       3556        3541   02   008   12    06    U   \n",
       "\n",
       "           LINK  VARONES  MUJERES  TOT_POB  HOGARES  VIV_PART  VIV_PART_H  \\\n",
       "0     020130302    312.0    342.0    654.0    270.0     377.0       265.0   \n",
       "1     020131101    296.0    272.0    568.0    172.0     217.0       170.0   \n",
       "2     020130104    379.0    384.0    763.0    367.0     524.0       355.0   \n",
       "3     020130103    286.0    326.0    612.0    258.0     314.0       254.0   \n",
       "4     020130102    373.0    397.0    770.0    343.0     408.0       340.0   \n",
       "...         ...      ...      ...      ...      ...       ...         ...   \n",
       "3550  020081202    461.0    543.0   1004.0    356.0     378.0       330.0   \n",
       "3551  020080907    330.0    442.0    772.0    260.0     297.0       243.0   \n",
       "3552  020081205    475.0    503.0    978.0    341.0     397.0       314.0   \n",
       "3553  020081201    427.0    488.0    915.0    306.0     354.0       293.0   \n",
       "3554  020081206    349.0    395.0    744.0    249.0     284.0       240.0   \n",
       "\n",
       "                                               geometry  \n",
       "0     POLYGON ((4192267.085 6152975.831, 4192240.425...  \n",
       "1     POLYGON ((4193005.531 6152773.045, 4193022.852...  \n",
       "2     POLYGON ((4192119.600 6153045.088, 4192222.042...  \n",
       "3     POLYGON ((4192119.600 6153045.088, 4192124.424...  \n",
       "4     POLYGON ((4191961.799 6152874.180, 4191960.076...  \n",
       "...                                                 ...  \n",
       "3550  POLYGON ((4190496.745 6136003.489, 4190585.718...  \n",
       "3551  POLYGON ((4190063.362 6136008.824, 4190168.025...  \n",
       "3552  POLYGON ((4190699.346 6135786.829, 4190801.651...  \n",
       "3553  POLYGON ((4190269.797 6135788.912, 4190371.127...  \n",
       "3554  POLYGON ((4190472.457 6135573.256, 4190563.377...  \n",
       "\n",
       "[3555 rows x 17 columns]"
      ]
     },
     "execution_count": 57,
     "metadata": {},
     "output_type": "execute_result"
    }
   ],
   "source": [
    "censo2010 = gpd.read_file(\"/Users/cataa/Desktop/MET4OP/MET4OP/dataset/censo2010/radios_censales/Codgeo_CABA_con_datos/cabaxrdatos.shp\")\n",
    "       #acordarse de cambiar el path cuando importan\n",
    "\n",
    "censo2010"
   ]
  },
  {
   "cell_type": "code",
   "execution_count": 58,
   "id": "cefe9c6d",
   "metadata": {},
   "outputs": [
    {
     "ename": "KeyError",
     "evalue": "\"None of [Index(['CODIGO_CIRCUITO', 'CODIGO_CATEGORIA', 'NOMBRE_CATEGORIA',\\n       'NOMBRE_REGION', 'VOTOS_AGRUPACION', 'NOMBRE_AGRUPACION'],\\n      dtype='object')] are in the [columns]\"",
     "output_type": "error",
     "traceback": [
      "\u001b[1;31m---------------------------------------------------------------------------\u001b[0m",
      "\u001b[1;31mKeyError\u001b[0m                                  Traceback (most recent call last)",
      "\u001b[1;32m~\\AppData\\Local\\Temp/ipykernel_11532/3646883537.py\u001b[0m in \u001b[0;36m<module>\u001b[1;34m\u001b[0m\n\u001b[1;32m----> 1\u001b[1;33m \u001b[0mbase_1\u001b[0m\u001b[1;33m=\u001b[0m\u001b[0mbase_total\u001b[0m\u001b[1;33m[\u001b[0m\u001b[1;33m[\u001b[0m\u001b[1;34m\"CODIGO_CIRCUITO\"\u001b[0m\u001b[1;33m,\u001b[0m\u001b[1;34m\"CODIGO_CATEGORIA\"\u001b[0m\u001b[1;33m,\u001b[0m\u001b[1;34m\"NOMBRE_CATEGORIA\"\u001b[0m\u001b[1;33m,\u001b[0m\u001b[1;34m\"NOMBRE_REGION\"\u001b[0m\u001b[1;33m,\u001b[0m \u001b[1;34m\"VOTOS_AGRUPACION\"\u001b[0m\u001b[1;33m,\u001b[0m\u001b[1;34m\"NOMBRE_AGRUPACION\"\u001b[0m\u001b[1;33m,\u001b[0m\u001b[1;33m]\u001b[0m\u001b[1;33m]\u001b[0m\u001b[1;33m\u001b[0m\u001b[1;33m\u001b[0m\u001b[0m\n\u001b[0m\u001b[0;32m      2\u001b[0m \u001b[1;33m\u001b[0m\u001b[0m\n\u001b[0;32m      3\u001b[0m \u001b[0mbase_1\u001b[0m\u001b[1;33m\u001b[0m\u001b[1;33m\u001b[0m\u001b[0m\n",
      "\u001b[1;32m~\\anaconda3\\envs\\tpdos\\lib\\site-packages\\pandas\\core\\frame.py\u001b[0m in \u001b[0;36m__getitem__\u001b[1;34m(self, key)\u001b[0m\n\u001b[0;32m   3462\u001b[0m             \u001b[1;32mif\u001b[0m \u001b[0mis_iterator\u001b[0m\u001b[1;33m(\u001b[0m\u001b[0mkey\u001b[0m\u001b[1;33m)\u001b[0m\u001b[1;33m:\u001b[0m\u001b[1;33m\u001b[0m\u001b[1;33m\u001b[0m\u001b[0m\n\u001b[0;32m   3463\u001b[0m                 \u001b[0mkey\u001b[0m \u001b[1;33m=\u001b[0m \u001b[0mlist\u001b[0m\u001b[1;33m(\u001b[0m\u001b[0mkey\u001b[0m\u001b[1;33m)\u001b[0m\u001b[1;33m\u001b[0m\u001b[1;33m\u001b[0m\u001b[0m\n\u001b[1;32m-> 3464\u001b[1;33m             \u001b[0mindexer\u001b[0m \u001b[1;33m=\u001b[0m \u001b[0mself\u001b[0m\u001b[1;33m.\u001b[0m\u001b[0mloc\u001b[0m\u001b[1;33m.\u001b[0m\u001b[0m_get_listlike_indexer\u001b[0m\u001b[1;33m(\u001b[0m\u001b[0mkey\u001b[0m\u001b[1;33m,\u001b[0m \u001b[0maxis\u001b[0m\u001b[1;33m=\u001b[0m\u001b[1;36m1\u001b[0m\u001b[1;33m)\u001b[0m\u001b[1;33m[\u001b[0m\u001b[1;36m1\u001b[0m\u001b[1;33m]\u001b[0m\u001b[1;33m\u001b[0m\u001b[1;33m\u001b[0m\u001b[0m\n\u001b[0m\u001b[0;32m   3465\u001b[0m \u001b[1;33m\u001b[0m\u001b[0m\n\u001b[0;32m   3466\u001b[0m         \u001b[1;31m# take() does not accept boolean indexers\u001b[0m\u001b[1;33m\u001b[0m\u001b[1;33m\u001b[0m\u001b[1;33m\u001b[0m\u001b[0m\n",
      "\u001b[1;32m~\\anaconda3\\envs\\tpdos\\lib\\site-packages\\pandas\\core\\indexing.py\u001b[0m in \u001b[0;36m_get_listlike_indexer\u001b[1;34m(self, key, axis)\u001b[0m\n\u001b[0;32m   1312\u001b[0m             \u001b[0mkeyarr\u001b[0m\u001b[1;33m,\u001b[0m \u001b[0mindexer\u001b[0m\u001b[1;33m,\u001b[0m \u001b[0mnew_indexer\u001b[0m \u001b[1;33m=\u001b[0m \u001b[0max\u001b[0m\u001b[1;33m.\u001b[0m\u001b[0m_reindex_non_unique\u001b[0m\u001b[1;33m(\u001b[0m\u001b[0mkeyarr\u001b[0m\u001b[1;33m)\u001b[0m\u001b[1;33m\u001b[0m\u001b[1;33m\u001b[0m\u001b[0m\n\u001b[0;32m   1313\u001b[0m \u001b[1;33m\u001b[0m\u001b[0m\n\u001b[1;32m-> 1314\u001b[1;33m         \u001b[0mself\u001b[0m\u001b[1;33m.\u001b[0m\u001b[0m_validate_read_indexer\u001b[0m\u001b[1;33m(\u001b[0m\u001b[0mkeyarr\u001b[0m\u001b[1;33m,\u001b[0m \u001b[0mindexer\u001b[0m\u001b[1;33m,\u001b[0m \u001b[0maxis\u001b[0m\u001b[1;33m)\u001b[0m\u001b[1;33m\u001b[0m\u001b[1;33m\u001b[0m\u001b[0m\n\u001b[0m\u001b[0;32m   1315\u001b[0m \u001b[1;33m\u001b[0m\u001b[0m\n\u001b[0;32m   1316\u001b[0m         if needs_i8_conversion(ax.dtype) or isinstance(\n",
      "\u001b[1;32m~\\anaconda3\\envs\\tpdos\\lib\\site-packages\\pandas\\core\\indexing.py\u001b[0m in \u001b[0;36m_validate_read_indexer\u001b[1;34m(self, key, indexer, axis)\u001b[0m\n\u001b[0;32m   1372\u001b[0m                 \u001b[1;32mif\u001b[0m \u001b[0muse_interval_msg\u001b[0m\u001b[1;33m:\u001b[0m\u001b[1;33m\u001b[0m\u001b[1;33m\u001b[0m\u001b[0m\n\u001b[0;32m   1373\u001b[0m                     \u001b[0mkey\u001b[0m \u001b[1;33m=\u001b[0m \u001b[0mlist\u001b[0m\u001b[1;33m(\u001b[0m\u001b[0mkey\u001b[0m\u001b[1;33m)\u001b[0m\u001b[1;33m\u001b[0m\u001b[1;33m\u001b[0m\u001b[0m\n\u001b[1;32m-> 1374\u001b[1;33m                 \u001b[1;32mraise\u001b[0m \u001b[0mKeyError\u001b[0m\u001b[1;33m(\u001b[0m\u001b[1;34mf\"None of [{key}] are in the [{axis_name}]\"\u001b[0m\u001b[1;33m)\u001b[0m\u001b[1;33m\u001b[0m\u001b[1;33m\u001b[0m\u001b[0m\n\u001b[0m\u001b[0;32m   1375\u001b[0m \u001b[1;33m\u001b[0m\u001b[0m\n\u001b[0;32m   1376\u001b[0m             \u001b[0mnot_found\u001b[0m \u001b[1;33m=\u001b[0m \u001b[0mlist\u001b[0m\u001b[1;33m(\u001b[0m\u001b[0mensure_index\u001b[0m\u001b[1;33m(\u001b[0m\u001b[0mkey\u001b[0m\u001b[1;33m)\u001b[0m\u001b[1;33m[\u001b[0m\u001b[0mmissing_mask\u001b[0m\u001b[1;33m.\u001b[0m\u001b[0mnonzero\u001b[0m\u001b[1;33m(\u001b[0m\u001b[1;33m)\u001b[0m\u001b[1;33m[\u001b[0m\u001b[1;36m0\u001b[0m\u001b[1;33m]\u001b[0m\u001b[1;33m]\u001b[0m\u001b[1;33m.\u001b[0m\u001b[0munique\u001b[0m\u001b[1;33m(\u001b[0m\u001b[1;33m)\u001b[0m\u001b[1;33m)\u001b[0m\u001b[1;33m\u001b[0m\u001b[1;33m\u001b[0m\u001b[0m\n",
      "\u001b[1;31mKeyError\u001b[0m: \"None of [Index(['CODIGO_CIRCUITO', 'CODIGO_CATEGORIA', 'NOMBRE_CATEGORIA',\\n       'NOMBRE_REGION', 'VOTOS_AGRUPACION', 'NOMBRE_AGRUPACION'],\\n      dtype='object')] are in the [columns]\""
     ]
    }
   ],
   "source": [
    "base_1=base_total[[\"CODIGO_CIRCUITO\",\"CODIGO_CATEGORIA\",\"NOMBRE_CATEGORIA\",\"NOMBRE_REGION\", \"VOTOS_AGRUPACION\",\"NOMBRE_AGRUPACION\",]]\n",
    "\n",
    "base_1\n"
   ]
  },
  {
   "cell_type": "code",
   "execution_count": 59,
   "id": "adfba5dd",
   "metadata": {},
   "outputs": [
    {
     "ename": "NameError",
     "evalue": "name 'base_1' is not defined",
     "output_type": "error",
     "traceback": [
      "\u001b[1;31m---------------------------------------------------------------------------\u001b[0m",
      "\u001b[1;31mNameError\u001b[0m                                 Traceback (most recent call last)",
      "\u001b[1;32m~\\AppData\\Local\\Temp/ipykernel_11532/87942197.py\u001b[0m in \u001b[0;36m<module>\u001b[1;34m\u001b[0m\n\u001b[1;32m----> 1\u001b[1;33m \u001b[0mbase_circuito\u001b[0m\u001b[1;33m=\u001b[0m\u001b[0mbase_1\u001b[0m\u001b[1;33m[\u001b[0m\u001b[0mbase_1\u001b[0m\u001b[1;33m[\u001b[0m\u001b[1;34m\"NOMBRE_CATEGORIA\"\u001b[0m\u001b[1;33m]\u001b[0m\u001b[1;33m==\u001b[0m \u001b[1;34m'Presidente y Vicepresidente de la República'\u001b[0m\u001b[1;33m]\u001b[0m\u001b[1;33m\u001b[0m\u001b[1;33m\u001b[0m\u001b[0m\n\u001b[0m\u001b[0;32m      2\u001b[0m \u001b[0mbase_circuito\u001b[0m\u001b[1;33m\u001b[0m\u001b[1;33m\u001b[0m\u001b[0m\n",
      "\u001b[1;31mNameError\u001b[0m: name 'base_1' is not defined"
     ]
    }
   ],
   "source": [
    "base_circuito=base_1[base_1[\"NOMBRE_CATEGORIA\"]== 'Presidente y Vicepresidente de la República']\n",
    "base_circuito"
   ]
  },
  {
   "cell_type": "code",
   "execution_count": 89,
   "id": "671da9d6",
   "metadata": {},
   "outputs": [
    {
     "data": {
      "text/html": [
       "<div>\n",
       "<style scoped>\n",
       "    .dataframe tbody tr th:only-of-type {\n",
       "        vertical-align: middle;\n",
       "    }\n",
       "\n",
       "    .dataframe tbody tr th {\n",
       "        vertical-align: top;\n",
       "    }\n",
       "\n",
       "    .dataframe thead th {\n",
       "        text-align: right;\n",
       "    }\n",
       "</style>\n",
       "<table border=\"1\" class=\"dataframe\">\n",
       "  <thead>\n",
       "    <tr style=\"text-align: right;\">\n",
       "      <th></th>\n",
       "      <th>CODIGO_MESA_2019</th>\n",
       "      <th>CODIGO_CIRCUITO_2017</th>\n",
       "    </tr>\n",
       "  </thead>\n",
       "  <tbody>\n",
       "    <tr>\n",
       "      <th>0</th>\n",
       "      <td>0100100001X</td>\n",
       "      <td>1001000001</td>\n",
       "    </tr>\n",
       "    <tr>\n",
       "      <th>1</th>\n",
       "      <td>0100100002X</td>\n",
       "      <td>1001000001</td>\n",
       "    </tr>\n",
       "    <tr>\n",
       "      <th>2</th>\n",
       "      <td>0100100003X</td>\n",
       "      <td>1001000001</td>\n",
       "    </tr>\n",
       "    <tr>\n",
       "      <th>3</th>\n",
       "      <td>0100100004X</td>\n",
       "      <td>1001000001</td>\n",
       "    </tr>\n",
       "    <tr>\n",
       "      <th>4</th>\n",
       "      <td>0100100005X</td>\n",
       "      <td>1001000001</td>\n",
       "    </tr>\n",
       "    <tr>\n",
       "      <th>...</th>\n",
       "      <td>...</td>\n",
       "      <td>...</td>\n",
       "    </tr>\n",
       "    <tr>\n",
       "      <th>7408</th>\n",
       "      <td>0101507409X</td>\n",
       "      <td>1015000167</td>\n",
       "    </tr>\n",
       "    <tr>\n",
       "      <th>7409</th>\n",
       "      <td>0101507410X</td>\n",
       "      <td>1015000167</td>\n",
       "    </tr>\n",
       "    <tr>\n",
       "      <th>7410</th>\n",
       "      <td>0101507411X</td>\n",
       "      <td>1015000167</td>\n",
       "    </tr>\n",
       "    <tr>\n",
       "      <th>7411</th>\n",
       "      <td>0101507412X</td>\n",
       "      <td>1015000167</td>\n",
       "    </tr>\n",
       "    <tr>\n",
       "      <th>7412</th>\n",
       "      <td>0101507413X</td>\n",
       "      <td>1015000167</td>\n",
       "    </tr>\n",
       "  </tbody>\n",
       "</table>\n",
       "<p>7413 rows × 2 columns</p>\n",
       "</div>"
      ],
      "text/plain": [
       "     CODIGO_MESA_2019  CODIGO_CIRCUITO_2017\n",
       "0         0100100001X            1001000001\n",
       "1         0100100002X            1001000001\n",
       "2         0100100003X            1001000001\n",
       "3         0100100004X            1001000001\n",
       "4         0100100005X            1001000001\n",
       "...               ...                   ...\n",
       "7408      0101507409X            1015000167\n",
       "7409      0101507410X            1015000167\n",
       "7410      0101507411X            1015000167\n",
       "7411      0101507412X            1015000167\n",
       "7412      0101507413X            1015000167\n",
       "\n",
       "[7413 rows x 2 columns]"
      ]
     },
     "execution_count": 89,
     "metadata": {},
     "output_type": "execute_result"
    }
   ],
   "source": [
    "rosetta=base_total = pd.read_csv ('https://raw.githubusercontent.com/MET4OP-UBA/MET4OP/master/dataset/elecciones_2019/rosetta.csv')\n",
    "rosetta"
   ]
  },
  {
   "cell_type": "code",
   "execution_count": 61,
   "id": "4b1064b7",
   "metadata": {},
   "outputs": [
    {
     "data": {
      "text/html": [
       "<div>\n",
       "<style scoped>\n",
       "    .dataframe tbody tr th:only-of-type {\n",
       "        vertical-align: middle;\n",
       "    }\n",
       "\n",
       "    .dataframe tbody tr th {\n",
       "        vertical-align: top;\n",
       "    }\n",
       "\n",
       "    .dataframe thead th {\n",
       "        text-align: right;\n",
       "    }\n",
       "</style>\n",
       "<table border=\"1\" class=\"dataframe\">\n",
       "  <thead>\n",
       "    <tr style=\"text-align: right;\">\n",
       "      <th></th>\n",
       "      <th>AREA</th>\n",
       "      <th>PERIMETER</th>\n",
       "      <th>PAIS0210_</th>\n",
       "      <th>PAIS0210_I</th>\n",
       "      <th>PROV</th>\n",
       "      <th>DEPTO</th>\n",
       "      <th>FRAC</th>\n",
       "      <th>RADIO</th>\n",
       "      <th>TIPO</th>\n",
       "      <th>LINK</th>\n",
       "      <th>VARONES</th>\n",
       "      <th>MUJERES</th>\n",
       "      <th>TOT_POB</th>\n",
       "      <th>HOGARES</th>\n",
       "      <th>VIV_PART</th>\n",
       "      <th>VIV_PART_H</th>\n",
       "      <th>geometry</th>\n",
       "    </tr>\n",
       "  </thead>\n",
       "  <tbody>\n",
       "    <tr>\n",
       "      <th>0</th>\n",
       "      <td>1760908.00</td>\n",
       "      <td>7579.745</td>\n",
       "      <td>2</td>\n",
       "      <td>1</td>\n",
       "      <td>02</td>\n",
       "      <td>013</td>\n",
       "      <td>03</td>\n",
       "      <td>02</td>\n",
       "      <td>U</td>\n",
       "      <td>020130302</td>\n",
       "      <td>312.0</td>\n",
       "      <td>342.0</td>\n",
       "      <td>654.0</td>\n",
       "      <td>270.0</td>\n",
       "      <td>377.0</td>\n",
       "      <td>265.0</td>\n",
       "      <td>POLYGON ((4192267.085 6152975.831, 4192240.425...</td>\n",
       "    </tr>\n",
       "    <tr>\n",
       "      <th>1</th>\n",
       "      <td>2240206.00</td>\n",
       "      <td>14184.670</td>\n",
       "      <td>3</td>\n",
       "      <td>2</td>\n",
       "      <td>02</td>\n",
       "      <td>013</td>\n",
       "      <td>11</td>\n",
       "      <td>01</td>\n",
       "      <td>U</td>\n",
       "      <td>020131101</td>\n",
       "      <td>296.0</td>\n",
       "      <td>272.0</td>\n",
       "      <td>568.0</td>\n",
       "      <td>172.0</td>\n",
       "      <td>217.0</td>\n",
       "      <td>170.0</td>\n",
       "      <td>POLYGON ((4193005.531 6152773.045, 4193022.852...</td>\n",
       "    </tr>\n",
       "    <tr>\n",
       "      <th>2</th>\n",
       "      <td>28001.00</td>\n",
       "      <td>720.460</td>\n",
       "      <td>4</td>\n",
       "      <td>3</td>\n",
       "      <td>02</td>\n",
       "      <td>013</td>\n",
       "      <td>01</td>\n",
       "      <td>04</td>\n",
       "      <td>U</td>\n",
       "      <td>020130104</td>\n",
       "      <td>379.0</td>\n",
       "      <td>384.0</td>\n",
       "      <td>763.0</td>\n",
       "      <td>367.0</td>\n",
       "      <td>524.0</td>\n",
       "      <td>355.0</td>\n",
       "      <td>POLYGON ((4192119.600 6153045.088, 4192222.042...</td>\n",
       "    </tr>\n",
       "    <tr>\n",
       "      <th>3</th>\n",
       "      <td>68016.38</td>\n",
       "      <td>1084.790</td>\n",
       "      <td>5</td>\n",
       "      <td>4</td>\n",
       "      <td>02</td>\n",
       "      <td>013</td>\n",
       "      <td>01</td>\n",
       "      <td>03</td>\n",
       "      <td>U</td>\n",
       "      <td>020130103</td>\n",
       "      <td>286.0</td>\n",
       "      <td>326.0</td>\n",
       "      <td>612.0</td>\n",
       "      <td>258.0</td>\n",
       "      <td>314.0</td>\n",
       "      <td>254.0</td>\n",
       "      <td>POLYGON ((4192119.600 6153045.088, 4192124.424...</td>\n",
       "    </tr>\n",
       "    <tr>\n",
       "      <th>4</th>\n",
       "      <td>53839.88</td>\n",
       "      <td>948.102</td>\n",
       "      <td>6</td>\n",
       "      <td>5</td>\n",
       "      <td>02</td>\n",
       "      <td>013</td>\n",
       "      <td>01</td>\n",
       "      <td>02</td>\n",
       "      <td>U</td>\n",
       "      <td>020130102</td>\n",
       "      <td>373.0</td>\n",
       "      <td>397.0</td>\n",
       "      <td>770.0</td>\n",
       "      <td>343.0</td>\n",
       "      <td>408.0</td>\n",
       "      <td>340.0</td>\n",
       "      <td>POLYGON ((4191961.799 6152874.180, 4191960.076...</td>\n",
       "    </tr>\n",
       "    <tr>\n",
       "      <th>...</th>\n",
       "      <td>...</td>\n",
       "      <td>...</td>\n",
       "      <td>...</td>\n",
       "      <td>...</td>\n",
       "      <td>...</td>\n",
       "      <td>...</td>\n",
       "      <td>...</td>\n",
       "      <td>...</td>\n",
       "      <td>...</td>\n",
       "      <td>...</td>\n",
       "      <td>...</td>\n",
       "      <td>...</td>\n",
       "      <td>...</td>\n",
       "      <td>...</td>\n",
       "      <td>...</td>\n",
       "      <td>...</td>\n",
       "      <td>...</td>\n",
       "    </tr>\n",
       "    <tr>\n",
       "      <th>3550</th>\n",
       "      <td>91488.00</td>\n",
       "      <td>1209.676</td>\n",
       "      <td>3552</td>\n",
       "      <td>3537</td>\n",
       "      <td>02</td>\n",
       "      <td>008</td>\n",
       "      <td>12</td>\n",
       "      <td>02</td>\n",
       "      <td>U</td>\n",
       "      <td>020081202</td>\n",
       "      <td>461.0</td>\n",
       "      <td>543.0</td>\n",
       "      <td>1004.0</td>\n",
       "      <td>356.0</td>\n",
       "      <td>378.0</td>\n",
       "      <td>330.0</td>\n",
       "      <td>POLYGON ((4190496.745 6136003.489, 4190585.718...</td>\n",
       "    </tr>\n",
       "    <tr>\n",
       "      <th>3551</th>\n",
       "      <td>120426.10</td>\n",
       "      <td>1403.462</td>\n",
       "      <td>3553</td>\n",
       "      <td>3538</td>\n",
       "      <td>02</td>\n",
       "      <td>008</td>\n",
       "      <td>09</td>\n",
       "      <td>07</td>\n",
       "      <td>U</td>\n",
       "      <td>020080907</td>\n",
       "      <td>330.0</td>\n",
       "      <td>442.0</td>\n",
       "      <td>772.0</td>\n",
       "      <td>260.0</td>\n",
       "      <td>297.0</td>\n",
       "      <td>243.0</td>\n",
       "      <td>POLYGON ((4190063.362 6136008.824, 4190168.025...</td>\n",
       "    </tr>\n",
       "    <tr>\n",
       "      <th>3552</th>\n",
       "      <td>91443.13</td>\n",
       "      <td>1210.355</td>\n",
       "      <td>3554</td>\n",
       "      <td>3539</td>\n",
       "      <td>02</td>\n",
       "      <td>008</td>\n",
       "      <td>12</td>\n",
       "      <td>05</td>\n",
       "      <td>U</td>\n",
       "      <td>020081205</td>\n",
       "      <td>475.0</td>\n",
       "      <td>503.0</td>\n",
       "      <td>978.0</td>\n",
       "      <td>341.0</td>\n",
       "      <td>397.0</td>\n",
       "      <td>314.0</td>\n",
       "      <td>POLYGON ((4190699.346 6135786.829, 4190801.651...</td>\n",
       "    </tr>\n",
       "    <tr>\n",
       "      <th>3553</th>\n",
       "      <td>118110.30</td>\n",
       "      <td>1390.708</td>\n",
       "      <td>3555</td>\n",
       "      <td>3540</td>\n",
       "      <td>02</td>\n",
       "      <td>008</td>\n",
       "      <td>12</td>\n",
       "      <td>01</td>\n",
       "      <td>U</td>\n",
       "      <td>020081201</td>\n",
       "      <td>427.0</td>\n",
       "      <td>488.0</td>\n",
       "      <td>915.0</td>\n",
       "      <td>306.0</td>\n",
       "      <td>354.0</td>\n",
       "      <td>293.0</td>\n",
       "      <td>POLYGON ((4190269.797 6135788.912, 4190371.127...</td>\n",
       "    </tr>\n",
       "    <tr>\n",
       "      <th>3554</th>\n",
       "      <td>181737.10</td>\n",
       "      <td>1900.791</td>\n",
       "      <td>3556</td>\n",
       "      <td>3541</td>\n",
       "      <td>02</td>\n",
       "      <td>008</td>\n",
       "      <td>12</td>\n",
       "      <td>06</td>\n",
       "      <td>U</td>\n",
       "      <td>020081206</td>\n",
       "      <td>349.0</td>\n",
       "      <td>395.0</td>\n",
       "      <td>744.0</td>\n",
       "      <td>249.0</td>\n",
       "      <td>284.0</td>\n",
       "      <td>240.0</td>\n",
       "      <td>POLYGON ((4190472.457 6135573.256, 4190563.377...</td>\n",
       "    </tr>\n",
       "  </tbody>\n",
       "</table>\n",
       "<p>3555 rows × 17 columns</p>\n",
       "</div>"
      ],
      "text/plain": [
       "            AREA  PERIMETER  PAIS0210_  PAIS0210_I PROV DEPTO FRAC RADIO TIPO  \\\n",
       "0     1760908.00   7579.745          2           1   02   013   03    02    U   \n",
       "1     2240206.00  14184.670          3           2   02   013   11    01    U   \n",
       "2       28001.00    720.460          4           3   02   013   01    04    U   \n",
       "3       68016.38   1084.790          5           4   02   013   01    03    U   \n",
       "4       53839.88    948.102          6           5   02   013   01    02    U   \n",
       "...          ...        ...        ...         ...  ...   ...  ...   ...  ...   \n",
       "3550    91488.00   1209.676       3552        3537   02   008   12    02    U   \n",
       "3551   120426.10   1403.462       3553        3538   02   008   09    07    U   \n",
       "3552    91443.13   1210.355       3554        3539   02   008   12    05    U   \n",
       "3553   118110.30   1390.708       3555        3540   02   008   12    01    U   \n",
       "3554   181737.10   1900.791       3556        3541   02   008   12    06    U   \n",
       "\n",
       "           LINK  VARONES  MUJERES  TOT_POB  HOGARES  VIV_PART  VIV_PART_H  \\\n",
       "0     020130302    312.0    342.0    654.0    270.0     377.0       265.0   \n",
       "1     020131101    296.0    272.0    568.0    172.0     217.0       170.0   \n",
       "2     020130104    379.0    384.0    763.0    367.0     524.0       355.0   \n",
       "3     020130103    286.0    326.0    612.0    258.0     314.0       254.0   \n",
       "4     020130102    373.0    397.0    770.0    343.0     408.0       340.0   \n",
       "...         ...      ...      ...      ...      ...       ...         ...   \n",
       "3550  020081202    461.0    543.0   1004.0    356.0     378.0       330.0   \n",
       "3551  020080907    330.0    442.0    772.0    260.0     297.0       243.0   \n",
       "3552  020081205    475.0    503.0    978.0    341.0     397.0       314.0   \n",
       "3553  020081201    427.0    488.0    915.0    306.0     354.0       293.0   \n",
       "3554  020081206    349.0    395.0    744.0    249.0     284.0       240.0   \n",
       "\n",
       "                                               geometry  \n",
       "0     POLYGON ((4192267.085 6152975.831, 4192240.425...  \n",
       "1     POLYGON ((4193005.531 6152773.045, 4193022.852...  \n",
       "2     POLYGON ((4192119.600 6153045.088, 4192222.042...  \n",
       "3     POLYGON ((4192119.600 6153045.088, 4192124.424...  \n",
       "4     POLYGON ((4191961.799 6152874.180, 4191960.076...  \n",
       "...                                                 ...  \n",
       "3550  POLYGON ((4190496.745 6136003.489, 4190585.718...  \n",
       "3551  POLYGON ((4190063.362 6136008.824, 4190168.025...  \n",
       "3552  POLYGON ((4190699.346 6135786.829, 4190801.651...  \n",
       "3553  POLYGON ((4190269.797 6135788.912, 4190371.127...  \n",
       "3554  POLYGON ((4190472.457 6135573.256, 4190563.377...  \n",
       "\n",
       "[3555 rows x 17 columns]"
      ]
     },
     "execution_count": 61,
     "metadata": {},
     "output_type": "execute_result"
    }
   ],
   "source": [
    "geo_censo= gpd.read_file (\"/Users/cataa/Desktop/MET4OP/MET4OP/dataset/censo2010/radios_censales/Codgeo_CABA_con_datos/cabaxrdatos.shp\")\n",
    "geo_censo"
   ]
  },
  {
   "cell_type": "code",
   "execution_count": 62,
   "id": "d7619587",
   "metadata": {},
   "outputs": [
    {
     "data": {
      "text/html": [
       "<div>\n",
       "<style scoped>\n",
       "    .dataframe tbody tr th:only-of-type {\n",
       "        vertical-align: middle;\n",
       "    }\n",
       "\n",
       "    .dataframe tbody tr th {\n",
       "        vertical-align: top;\n",
       "    }\n",
       "\n",
       "    .dataframe thead th {\n",
       "        text-align: right;\n",
       "    }\n",
       "</style>\n",
       "<table border=\"1\" class=\"dataframe\">\n",
       "  <thead>\n",
       "    <tr style=\"text-align: right;\">\n",
       "      <th></th>\n",
       "      <th>distrito</th>\n",
       "      <th>provincia</th>\n",
       "      <th>departamen</th>\n",
       "      <th>cabecera</th>\n",
       "      <th>circuito</th>\n",
       "      <th>indec_p</th>\n",
       "      <th>indec_d</th>\n",
       "      <th>geometry</th>\n",
       "    </tr>\n",
       "  </thead>\n",
       "  <tbody>\n",
       "    <tr>\n",
       "      <th>0</th>\n",
       "      <td>01</td>\n",
       "      <td>Ciudad Autónoma de Buenos Aires</td>\n",
       "      <td>Comuna 1</td>\n",
       "      <td>Comuna 1</td>\n",
       "      <td>0003</td>\n",
       "      <td>02</td>\n",
       "      <td>001</td>\n",
       "      <td>POLYGON Z ((-6496304.252 -4084732.697 0.000, -...</td>\n",
       "    </tr>\n",
       "    <tr>\n",
       "      <th>1</th>\n",
       "      <td>01</td>\n",
       "      <td>Ciudad Autónoma de Buenos Aires</td>\n",
       "      <td>Comuna 4</td>\n",
       "      <td>Comuna 4</td>\n",
       "      <td>0045</td>\n",
       "      <td>02</td>\n",
       "      <td>004</td>\n",
       "      <td>POLYGON Z ((-6501230.474 -4091702.182 0.000, -...</td>\n",
       "    </tr>\n",
       "    <tr>\n",
       "      <th>2</th>\n",
       "      <td>01</td>\n",
       "      <td>Ciudad Autónoma de Buenos Aires</td>\n",
       "      <td>Comuna 3</td>\n",
       "      <td>Comuna 3</td>\n",
       "      <td>0037</td>\n",
       "      <td>02</td>\n",
       "      <td>003</td>\n",
       "      <td>POLYGON Z ((-6501166.688 -4087904.826 0.000, -...</td>\n",
       "    </tr>\n",
       "    <tr>\n",
       "      <th>3</th>\n",
       "      <td>01</td>\n",
       "      <td>Ciudad Autónoma de Buenos Aires</td>\n",
       "      <td>Comuna 1</td>\n",
       "      <td>Comuna 1</td>\n",
       "      <td>0018</td>\n",
       "      <td>02</td>\n",
       "      <td>001</td>\n",
       "      <td>POLYGON Z ((-6498832.986 -4088373.028 0.000, -...</td>\n",
       "    </tr>\n",
       "    <tr>\n",
       "      <th>4</th>\n",
       "      <td>01</td>\n",
       "      <td>Ciudad Autónoma de Buenos Aires</td>\n",
       "      <td>Comuna 13</td>\n",
       "      <td>Comuna 13</td>\n",
       "      <td>0141</td>\n",
       "      <td>02</td>\n",
       "      <td>013</td>\n",
       "      <td>POLYGON Z ((-6503862.400 -4078547.361 0.000, -...</td>\n",
       "    </tr>\n",
       "    <tr>\n",
       "      <th>...</th>\n",
       "      <td>...</td>\n",
       "      <td>...</td>\n",
       "      <td>...</td>\n",
       "      <td>...</td>\n",
       "      <td>...</td>\n",
       "      <td>...</td>\n",
       "      <td>...</td>\n",
       "      <td>...</td>\n",
       "    </tr>\n",
       "    <tr>\n",
       "      <th>162</th>\n",
       "      <td>01</td>\n",
       "      <td>Ciudad Autónoma de Buenos Aires</td>\n",
       "      <td>Comuna 13</td>\n",
       "      <td>Comuna 13</td>\n",
       "      <td>0135</td>\n",
       "      <td>02</td>\n",
       "      <td>013</td>\n",
       "      <td>POLYGON Z ((-6507834.614 -4077215.626 0.000, -...</td>\n",
       "    </tr>\n",
       "    <tr>\n",
       "      <th>163</th>\n",
       "      <td>01</td>\n",
       "      <td>Ciudad Autónoma de Buenos Aires</td>\n",
       "      <td>Comuna 14</td>\n",
       "      <td>Comuna 14</td>\n",
       "      <td>0149</td>\n",
       "      <td>02</td>\n",
       "      <td>014</td>\n",
       "      <td>POLYGON Z ((-6503253.371 -4080723.227 0.000, -...</td>\n",
       "    </tr>\n",
       "    <tr>\n",
       "      <th>164</th>\n",
       "      <td>01</td>\n",
       "      <td>Ciudad Autónoma de Buenos Aires</td>\n",
       "      <td>Comuna 9</td>\n",
       "      <td>Comuna 9</td>\n",
       "      <td>0101</td>\n",
       "      <td>02</td>\n",
       "      <td>009</td>\n",
       "      <td>POLYGON Z ((-6515182.479 -4090061.116 0.000, -...</td>\n",
       "    </tr>\n",
       "    <tr>\n",
       "      <th>165</th>\n",
       "      <td>01</td>\n",
       "      <td>Ciudad Autónoma de Buenos Aires</td>\n",
       "      <td>Comuna 10</td>\n",
       "      <td>Comuna 10</td>\n",
       "      <td>0102</td>\n",
       "      <td>02</td>\n",
       "      <td>010</td>\n",
       "      <td>POLYGON Z ((-6514598.831 -4088679.114 0.000, -...</td>\n",
       "    </tr>\n",
       "    <tr>\n",
       "      <th>166</th>\n",
       "      <td>01</td>\n",
       "      <td>Ciudad Autónoma de Buenos Aires</td>\n",
       "      <td>Comuna 8</td>\n",
       "      <td>Comuna 8</td>\n",
       "      <td>0088</td>\n",
       "      <td>02</td>\n",
       "      <td>008</td>\n",
       "      <td>POLYGON Z ((-6509495.834 -4096454.887 0.000, -...</td>\n",
       "    </tr>\n",
       "  </tbody>\n",
       "</table>\n",
       "<p>167 rows × 8 columns</p>\n",
       "</div>"
      ],
      "text/plain": [
       "    distrito                        provincia departamen   cabecera circuito  \\\n",
       "0         01  Ciudad Autónoma de Buenos Aires   Comuna 1   Comuna 1     0003   \n",
       "1         01  Ciudad Autónoma de Buenos Aires   Comuna 4   Comuna 4     0045   \n",
       "2         01  Ciudad Autónoma de Buenos Aires   Comuna 3   Comuna 3     0037   \n",
       "3         01  Ciudad Autónoma de Buenos Aires   Comuna 1   Comuna 1     0018   \n",
       "4         01  Ciudad Autónoma de Buenos Aires  Comuna 13  Comuna 13     0141   \n",
       "..       ...                              ...        ...        ...      ...   \n",
       "162       01  Ciudad Autónoma de Buenos Aires  Comuna 13  Comuna 13     0135   \n",
       "163       01  Ciudad Autónoma de Buenos Aires  Comuna 14  Comuna 14     0149   \n",
       "164       01  Ciudad Autónoma de Buenos Aires   Comuna 9   Comuna 9     0101   \n",
       "165       01  Ciudad Autónoma de Buenos Aires  Comuna 10  Comuna 10     0102   \n",
       "166       01  Ciudad Autónoma de Buenos Aires   Comuna 8   Comuna 8     0088   \n",
       "\n",
       "    indec_p indec_d                                           geometry  \n",
       "0        02     001  POLYGON Z ((-6496304.252 -4084732.697 0.000, -...  \n",
       "1        02     004  POLYGON Z ((-6501230.474 -4091702.182 0.000, -...  \n",
       "2        02     003  POLYGON Z ((-6501166.688 -4087904.826 0.000, -...  \n",
       "3        02     001  POLYGON Z ((-6498832.986 -4088373.028 0.000, -...  \n",
       "4        02     013  POLYGON Z ((-6503862.400 -4078547.361 0.000, -...  \n",
       "..      ...     ...                                                ...  \n",
       "162      02     013  POLYGON Z ((-6507834.614 -4077215.626 0.000, -...  \n",
       "163      02     014  POLYGON Z ((-6503253.371 -4080723.227 0.000, -...  \n",
       "164      02     009  POLYGON Z ((-6515182.479 -4090061.116 0.000, -...  \n",
       "165      02     010  POLYGON Z ((-6514598.831 -4088679.114 0.000, -...  \n",
       "166      02     008  POLYGON Z ((-6509495.834 -4096454.887 0.000, -...  \n",
       "\n",
       "[167 rows x 8 columns]"
      ]
     },
     "execution_count": 62,
     "metadata": {},
     "output_type": "execute_result"
    }
   ],
   "source": [
    "geo_caba=gpd.read_file(\"/Users/cataa/Desktop/MET4OP/MET4OP/dataset/elecciones_2019/CABA.shp\") #CAMBIAR EL LINK\n",
    "geo_caba\n"
   ]
  },
  {
   "cell_type": "code",
   "execution_count": 63,
   "id": "f72de6fb",
   "metadata": {},
   "outputs": [
    {
     "ename": "KeyError",
     "evalue": "'geometry'",
     "output_type": "error",
     "traceback": [
      "\u001b[1;31m---------------------------------------------------------------------------\u001b[0m",
      "\u001b[1;31mKeyError\u001b[0m                                  Traceback (most recent call last)",
      "\u001b[1;32m~\\AppData\\Local\\Temp/ipykernel_11532/3495309304.py\u001b[0m in \u001b[0;36m<module>\u001b[1;34m\u001b[0m\n\u001b[1;32m----> 1\u001b[1;33m \u001b[0mmerged_left\u001b[0m \u001b[1;33m=\u001b[0m \u001b[0mpd\u001b[0m\u001b[1;33m.\u001b[0m\u001b[0mmerge\u001b[0m\u001b[1;33m(\u001b[0m\u001b[0mleft\u001b[0m\u001b[1;33m=\u001b[0m\u001b[0mgeo_censo\u001b[0m\u001b[1;33m,\u001b[0m\u001b[0mright\u001b[0m\u001b[1;33m=\u001b[0m\u001b[0mrosetta\u001b[0m\u001b[1;33m,\u001b[0m\u001b[0mhow\u001b[0m\u001b[1;33m=\u001b[0m\u001b[1;34m'left'\u001b[0m\u001b[1;33m,\u001b[0m \u001b[0mleft_on\u001b[0m\u001b[1;33m=\u001b[0m\u001b[1;34m'geometry'\u001b[0m\u001b[1;33m,\u001b[0m \u001b[0mright_on\u001b[0m\u001b[1;33m=\u001b[0m\u001b[1;34m'geometry'\u001b[0m\u001b[1;33m)\u001b[0m\u001b[1;33m\u001b[0m\u001b[1;33m\u001b[0m\u001b[0m\n\u001b[0m\u001b[0;32m      2\u001b[0m \u001b[0mmerged_left\u001b[0m\u001b[1;33m\u001b[0m\u001b[1;33m\u001b[0m\u001b[0m\n",
      "\u001b[1;32m~\\anaconda3\\envs\\tpdos\\lib\\site-packages\\pandas\\core\\reshape\\merge.py\u001b[0m in \u001b[0;36mmerge\u001b[1;34m(left, right, how, on, left_on, right_on, left_index, right_index, sort, suffixes, copy, indicator, validate)\u001b[0m\n\u001b[0;32m    104\u001b[0m     \u001b[0mvalidate\u001b[0m\u001b[1;33m:\u001b[0m \u001b[0mstr\u001b[0m \u001b[1;33m|\u001b[0m \u001b[1;32mNone\u001b[0m \u001b[1;33m=\u001b[0m \u001b[1;32mNone\u001b[0m\u001b[1;33m,\u001b[0m\u001b[1;33m\u001b[0m\u001b[1;33m\u001b[0m\u001b[0m\n\u001b[0;32m    105\u001b[0m ) -> DataFrame:\n\u001b[1;32m--> 106\u001b[1;33m     op = _MergeOperation(\n\u001b[0m\u001b[0;32m    107\u001b[0m         \u001b[0mleft\u001b[0m\u001b[1;33m,\u001b[0m\u001b[1;33m\u001b[0m\u001b[1;33m\u001b[0m\u001b[0m\n\u001b[0;32m    108\u001b[0m         \u001b[0mright\u001b[0m\u001b[1;33m,\u001b[0m\u001b[1;33m\u001b[0m\u001b[1;33m\u001b[0m\u001b[0m\n",
      "\u001b[1;32m~\\anaconda3\\envs\\tpdos\\lib\\site-packages\\pandas\\core\\reshape\\merge.py\u001b[0m in \u001b[0;36m__init__\u001b[1;34m(self, left, right, how, on, left_on, right_on, axis, left_index, right_index, sort, suffixes, copy, indicator, validate)\u001b[0m\n\u001b[0;32m    697\u001b[0m             \u001b[0mself\u001b[0m\u001b[1;33m.\u001b[0m\u001b[0mright_join_keys\u001b[0m\u001b[1;33m,\u001b[0m\u001b[1;33m\u001b[0m\u001b[1;33m\u001b[0m\u001b[0m\n\u001b[0;32m    698\u001b[0m             \u001b[0mself\u001b[0m\u001b[1;33m.\u001b[0m\u001b[0mjoin_names\u001b[0m\u001b[1;33m,\u001b[0m\u001b[1;33m\u001b[0m\u001b[1;33m\u001b[0m\u001b[0m\n\u001b[1;32m--> 699\u001b[1;33m         ) = self._get_merge_keys()\n\u001b[0m\u001b[0;32m    700\u001b[0m \u001b[1;33m\u001b[0m\u001b[0m\n\u001b[0;32m    701\u001b[0m         \u001b[1;31m# validate the merge keys dtypes. We may need to coerce\u001b[0m\u001b[1;33m\u001b[0m\u001b[1;33m\u001b[0m\u001b[1;33m\u001b[0m\u001b[0m\n",
      "\u001b[1;32m~\\anaconda3\\envs\\tpdos\\lib\\site-packages\\pandas\\core\\reshape\\merge.py\u001b[0m in \u001b[0;36m_get_merge_keys\u001b[1;34m(self)\u001b[0m\n\u001b[0;32m   1094\u001b[0m                     \u001b[1;32mif\u001b[0m \u001b[1;32mnot\u001b[0m \u001b[0mis_rkey\u001b[0m\u001b[1;33m(\u001b[0m\u001b[0mrk\u001b[0m\u001b[1;33m)\u001b[0m\u001b[1;33m:\u001b[0m\u001b[1;33m\u001b[0m\u001b[1;33m\u001b[0m\u001b[0m\n\u001b[0;32m   1095\u001b[0m                         \u001b[1;32mif\u001b[0m \u001b[0mrk\u001b[0m \u001b[1;32mis\u001b[0m \u001b[1;32mnot\u001b[0m \u001b[1;32mNone\u001b[0m\u001b[1;33m:\u001b[0m\u001b[1;33m\u001b[0m\u001b[1;33m\u001b[0m\u001b[0m\n\u001b[1;32m-> 1096\u001b[1;33m                             \u001b[0mright_keys\u001b[0m\u001b[1;33m.\u001b[0m\u001b[0mappend\u001b[0m\u001b[1;33m(\u001b[0m\u001b[0mright\u001b[0m\u001b[1;33m.\u001b[0m\u001b[0m_get_label_or_level_values\u001b[0m\u001b[1;33m(\u001b[0m\u001b[0mrk\u001b[0m\u001b[1;33m)\u001b[0m\u001b[1;33m)\u001b[0m\u001b[1;33m\u001b[0m\u001b[1;33m\u001b[0m\u001b[0m\n\u001b[0m\u001b[0;32m   1097\u001b[0m                         \u001b[1;32melse\u001b[0m\u001b[1;33m:\u001b[0m\u001b[1;33m\u001b[0m\u001b[1;33m\u001b[0m\u001b[0m\n\u001b[0;32m   1098\u001b[0m                             \u001b[1;31m# work-around for merge_asof(right_index=True)\u001b[0m\u001b[1;33m\u001b[0m\u001b[1;33m\u001b[0m\u001b[1;33m\u001b[0m\u001b[0m\n",
      "\u001b[1;32m~\\anaconda3\\envs\\tpdos\\lib\\site-packages\\pandas\\core\\generic.py\u001b[0m in \u001b[0;36m_get_label_or_level_values\u001b[1;34m(self, key, axis)\u001b[0m\n\u001b[0;32m   1777\u001b[0m             \u001b[0mvalues\u001b[0m \u001b[1;33m=\u001b[0m \u001b[0mself\u001b[0m\u001b[1;33m.\u001b[0m\u001b[0maxes\u001b[0m\u001b[1;33m[\u001b[0m\u001b[0maxis\u001b[0m\u001b[1;33m]\u001b[0m\u001b[1;33m.\u001b[0m\u001b[0mget_level_values\u001b[0m\u001b[1;33m(\u001b[0m\u001b[0mkey\u001b[0m\u001b[1;33m)\u001b[0m\u001b[1;33m.\u001b[0m\u001b[0m_values\u001b[0m\u001b[1;33m\u001b[0m\u001b[1;33m\u001b[0m\u001b[0m\n\u001b[0;32m   1778\u001b[0m         \u001b[1;32melse\u001b[0m\u001b[1;33m:\u001b[0m\u001b[1;33m\u001b[0m\u001b[1;33m\u001b[0m\u001b[0m\n\u001b[1;32m-> 1779\u001b[1;33m             \u001b[1;32mraise\u001b[0m \u001b[0mKeyError\u001b[0m\u001b[1;33m(\u001b[0m\u001b[0mkey\u001b[0m\u001b[1;33m)\u001b[0m\u001b[1;33m\u001b[0m\u001b[1;33m\u001b[0m\u001b[0m\n\u001b[0m\u001b[0;32m   1780\u001b[0m \u001b[1;33m\u001b[0m\u001b[0m\n\u001b[0;32m   1781\u001b[0m         \u001b[1;31m# Check for duplicates\u001b[0m\u001b[1;33m\u001b[0m\u001b[1;33m\u001b[0m\u001b[1;33m\u001b[0m\u001b[0m\n",
      "\u001b[1;31mKeyError\u001b[0m: 'geometry'"
     ]
    }
   ],
   "source": [
    "merged_left = pd.merge(left=geo_censo,right=rosetta,how='left', left_on='geometry', right_on='geometry')\n",
    "merged_left"
   ]
  },
  {
   "cell_type": "code",
   "execution_count": 90,
   "id": "5d04c519",
   "metadata": {},
   "outputs": [
    {
     "data": {
      "text/html": [
       "<div>\n",
       "<style scoped>\n",
       "    .dataframe tbody tr th:only-of-type {\n",
       "        vertical-align: middle;\n",
       "    }\n",
       "\n",
       "    .dataframe tbody tr th {\n",
       "        vertical-align: top;\n",
       "    }\n",
       "\n",
       "    .dataframe thead th {\n",
       "        text-align: right;\n",
       "    }\n",
       "</style>\n",
       "<table border=\"1\" class=\"dataframe\">\n",
       "  <thead>\n",
       "    <tr style=\"text-align: right;\">\n",
       "      <th></th>\n",
       "      <th>distrito</th>\n",
       "      <th>provincia</th>\n",
       "      <th>departamen</th>\n",
       "      <th>cabecera</th>\n",
       "      <th>circuito</th>\n",
       "      <th>indec_p</th>\n",
       "      <th>indec_d</th>\n",
       "      <th>geometry</th>\n",
       "    </tr>\n",
       "  </thead>\n",
       "  <tbody>\n",
       "    <tr>\n",
       "      <th>0</th>\n",
       "      <td>01</td>\n",
       "      <td>Ciudad Autónoma de Buenos Aires</td>\n",
       "      <td>Comuna 1</td>\n",
       "      <td>Comuna 1</td>\n",
       "      <td>0003</td>\n",
       "      <td>02</td>\n",
       "      <td>001</td>\n",
       "      <td>POLYGON Z ((-6496304.252 -4084732.697 0.000, -...</td>\n",
       "    </tr>\n",
       "    <tr>\n",
       "      <th>1</th>\n",
       "      <td>01</td>\n",
       "      <td>Ciudad Autónoma de Buenos Aires</td>\n",
       "      <td>Comuna 4</td>\n",
       "      <td>Comuna 4</td>\n",
       "      <td>0045</td>\n",
       "      <td>02</td>\n",
       "      <td>004</td>\n",
       "      <td>POLYGON Z ((-6501230.474 -4091702.182 0.000, -...</td>\n",
       "    </tr>\n",
       "    <tr>\n",
       "      <th>2</th>\n",
       "      <td>01</td>\n",
       "      <td>Ciudad Autónoma de Buenos Aires</td>\n",
       "      <td>Comuna 3</td>\n",
       "      <td>Comuna 3</td>\n",
       "      <td>0037</td>\n",
       "      <td>02</td>\n",
       "      <td>003</td>\n",
       "      <td>POLYGON Z ((-6501166.688 -4087904.826 0.000, -...</td>\n",
       "    </tr>\n",
       "    <tr>\n",
       "      <th>3</th>\n",
       "      <td>01</td>\n",
       "      <td>Ciudad Autónoma de Buenos Aires</td>\n",
       "      <td>Comuna 1</td>\n",
       "      <td>Comuna 1</td>\n",
       "      <td>0018</td>\n",
       "      <td>02</td>\n",
       "      <td>001</td>\n",
       "      <td>POLYGON Z ((-6498832.986 -4088373.028 0.000, -...</td>\n",
       "    </tr>\n",
       "    <tr>\n",
       "      <th>4</th>\n",
       "      <td>01</td>\n",
       "      <td>Ciudad Autónoma de Buenos Aires</td>\n",
       "      <td>Comuna 13</td>\n",
       "      <td>Comuna 13</td>\n",
       "      <td>0141</td>\n",
       "      <td>02</td>\n",
       "      <td>013</td>\n",
       "      <td>POLYGON Z ((-6503862.400 -4078547.361 0.000, -...</td>\n",
       "    </tr>\n",
       "  </tbody>\n",
       "</table>\n",
       "</div>"
      ],
      "text/plain": [
       "  distrito                        provincia departamen   cabecera circuito  \\\n",
       "0       01  Ciudad Autónoma de Buenos Aires   Comuna 1   Comuna 1     0003   \n",
       "1       01  Ciudad Autónoma de Buenos Aires   Comuna 4   Comuna 4     0045   \n",
       "2       01  Ciudad Autónoma de Buenos Aires   Comuna 3   Comuna 3     0037   \n",
       "3       01  Ciudad Autónoma de Buenos Aires   Comuna 1   Comuna 1     0018   \n",
       "4       01  Ciudad Autónoma de Buenos Aires  Comuna 13  Comuna 13     0141   \n",
       "\n",
       "  indec_p indec_d                                           geometry  \n",
       "0      02     001  POLYGON Z ((-6496304.252 -4084732.697 0.000, -...  \n",
       "1      02     004  POLYGON Z ((-6501230.474 -4091702.182 0.000, -...  \n",
       "2      02     003  POLYGON Z ((-6501166.688 -4087904.826 0.000, -...  \n",
       "3      02     001  POLYGON Z ((-6498832.986 -4088373.028 0.000, -...  \n",
       "4      02     013  POLYGON Z ((-6503862.400 -4078547.361 0.000, -...  "
      ]
     },
     "execution_count": 90,
     "metadata": {},
     "output_type": "execute_result"
    }
   ],
   "source": [
    "geo_caba.head()"
   ]
  },
  {
   "cell_type": "code",
   "execution_count": 91,
   "id": "f9003fd5",
   "metadata": {
    "scrolled": true
   },
   "outputs": [
    {
     "data": {
      "text/html": [
       "<div>\n",
       "<style scoped>\n",
       "    .dataframe tbody tr th:only-of-type {\n",
       "        vertical-align: middle;\n",
       "    }\n",
       "\n",
       "    .dataframe tbody tr th {\n",
       "        vertical-align: top;\n",
       "    }\n",
       "\n",
       "    .dataframe thead th {\n",
       "        text-align: right;\n",
       "    }\n",
       "</style>\n",
       "<table border=\"1\" class=\"dataframe\">\n",
       "  <thead>\n",
       "    <tr style=\"text-align: right;\">\n",
       "      <th></th>\n",
       "      <th>CODIGO_MESA_2019</th>\n",
       "      <th>CODIGO_CIRCUITO_2017</th>\n",
       "    </tr>\n",
       "  </thead>\n",
       "  <tbody>\n",
       "    <tr>\n",
       "      <th>0</th>\n",
       "      <td>0100100001X</td>\n",
       "      <td>1001000001</td>\n",
       "    </tr>\n",
       "    <tr>\n",
       "      <th>1</th>\n",
       "      <td>0100100002X</td>\n",
       "      <td>1001000001</td>\n",
       "    </tr>\n",
       "    <tr>\n",
       "      <th>2</th>\n",
       "      <td>0100100003X</td>\n",
       "      <td>1001000001</td>\n",
       "    </tr>\n",
       "    <tr>\n",
       "      <th>3</th>\n",
       "      <td>0100100004X</td>\n",
       "      <td>1001000001</td>\n",
       "    </tr>\n",
       "    <tr>\n",
       "      <th>4</th>\n",
       "      <td>0100100005X</td>\n",
       "      <td>1001000001</td>\n",
       "    </tr>\n",
       "  </tbody>\n",
       "</table>\n",
       "</div>"
      ],
      "text/plain": [
       "  CODIGO_MESA_2019  CODIGO_CIRCUITO_2017\n",
       "0      0100100001X            1001000001\n",
       "1      0100100002X            1001000001\n",
       "2      0100100003X            1001000001\n",
       "3      0100100004X            1001000001\n",
       "4      0100100005X            1001000001"
      ]
     },
     "execution_count": 91,
     "metadata": {},
     "output_type": "execute_result"
    }
   ],
   "source": [
    "rosetta.head()"
   ]
  },
  {
   "cell_type": "raw",
   "id": "1a819e53",
   "metadata": {},
   "source": [
    "caba_geo=geo_caba.merge(rosetta, on=\"codigo_circuito_2017\")\n"
   ]
  },
  {
   "cell_type": "code",
   "execution_count": 81,
   "id": "2d232bd4",
   "metadata": {},
   "outputs": [
    {
     "data": {
      "text/plain": [
       "<AxesSubplot:>"
      ]
     },
     "execution_count": 81,
     "metadata": {},
     "output_type": "execute_result"
    },
    {
     "data": {
      "image/png": "[encoded data removed]",
      "text/plain": [
       "<Figure size 720x720 with 1 Axes>"
      ]
     },
     "metadata": {
      "needs_background": "light"
     },
     "output_type": "display_data"
    }
   ],
   "source": [
    "geo_censo.plot(figsize=(10, 10))\n"
   ]
  },
  {
   "cell_type": "code",
   "execution_count": 102,
   "id": "46fb4f97",
   "metadata": {},
   "outputs": [
    {
     "ename": "FileNotFoundError",
     "evalue": "[Errno 2] No such file or directory: '/Users/cataa/Desktop/MET4OP/MET4OP/dataset.censo/persona.csv'",
     "output_type": "error",
     "traceback": [
      "\u001b[1;31m---------------------------------------------------------------------------\u001b[0m",
      "\u001b[1;31mFileNotFoundError\u001b[0m                         Traceback (most recent call last)",
      "\u001b[1;32m~\\AppData\\Local\\Temp/ipykernel_11532/2110859333.py\u001b[0m in \u001b[0;36m<module>\u001b[1;34m\u001b[0m\n\u001b[1;32m----> 1\u001b[1;33m \u001b[0mniveleducativo\u001b[0m \u001b[1;33m=\u001b[0m \u001b[0mpd\u001b[0m\u001b[1;33m.\u001b[0m\u001b[0mread_csv\u001b[0m\u001b[1;33m(\u001b[0m\u001b[1;34m'/Users/cataa/Desktop/MET4OP/MET4OP/dataset.censo/persona.csv'\u001b[0m\u001b[1;33m)\u001b[0m\u001b[1;33m\u001b[0m\u001b[1;33m\u001b[0m\u001b[0m\n\u001b[0m\u001b[0;32m      2\u001b[0m \u001b[0mniveleducativo\u001b[0m\u001b[1;33m\u001b[0m\u001b[1;33m\u001b[0m\u001b[0m\n",
      "\u001b[1;32m~\\anaconda3\\envs\\tpdos\\lib\\site-packages\\pandas\\util\\_decorators.py\u001b[0m in \u001b[0;36mwrapper\u001b[1;34m(*args, **kwargs)\u001b[0m\n\u001b[0;32m    309\u001b[0m                     \u001b[0mstacklevel\u001b[0m\u001b[1;33m=\u001b[0m\u001b[0mstacklevel\u001b[0m\u001b[1;33m,\u001b[0m\u001b[1;33m\u001b[0m\u001b[1;33m\u001b[0m\u001b[0m\n\u001b[0;32m    310\u001b[0m                 )\n\u001b[1;32m--> 311\u001b[1;33m             \u001b[1;32mreturn\u001b[0m \u001b[0mfunc\u001b[0m\u001b[1;33m(\u001b[0m\u001b[1;33m*\u001b[0m\u001b[0margs\u001b[0m\u001b[1;33m,\u001b[0m \u001b[1;33m**\u001b[0m\u001b[0mkwargs\u001b[0m\u001b[1;33m)\u001b[0m\u001b[1;33m\u001b[0m\u001b[1;33m\u001b[0m\u001b[0m\n\u001b[0m\u001b[0;32m    312\u001b[0m \u001b[1;33m\u001b[0m\u001b[0m\n\u001b[0;32m    313\u001b[0m         \u001b[1;32mreturn\u001b[0m \u001b[0mwrapper\u001b[0m\u001b[1;33m\u001b[0m\u001b[1;33m\u001b[0m\u001b[0m\n",
      "\u001b[1;32m~\\anaconda3\\envs\\tpdos\\lib\\site-packages\\pandas\\io\\parsers\\readers.py\u001b[0m in \u001b[0;36mread_csv\u001b[1;34m(filepath_or_buffer, sep, delimiter, header, names, index_col, usecols, squeeze, prefix, mangle_dupe_cols, dtype, engine, converters, true_values, false_values, skipinitialspace, skiprows, skipfooter, nrows, na_values, keep_default_na, na_filter, verbose, skip_blank_lines, parse_dates, infer_datetime_format, keep_date_col, date_parser, dayfirst, cache_dates, iterator, chunksize, compression, thousands, decimal, lineterminator, quotechar, quoting, doublequote, escapechar, comment, encoding, encoding_errors, dialect, error_bad_lines, warn_bad_lines, on_bad_lines, delim_whitespace, low_memory, memory_map, float_precision, storage_options)\u001b[0m\n\u001b[0;32m    584\u001b[0m     \u001b[0mkwds\u001b[0m\u001b[1;33m.\u001b[0m\u001b[0mupdate\u001b[0m\u001b[1;33m(\u001b[0m\u001b[0mkwds_defaults\u001b[0m\u001b[1;33m)\u001b[0m\u001b[1;33m\u001b[0m\u001b[1;33m\u001b[0m\u001b[0m\n\u001b[0;32m    585\u001b[0m \u001b[1;33m\u001b[0m\u001b[0m\n\u001b[1;32m--> 586\u001b[1;33m     \u001b[1;32mreturn\u001b[0m \u001b[0m_read\u001b[0m\u001b[1;33m(\u001b[0m\u001b[0mfilepath_or_buffer\u001b[0m\u001b[1;33m,\u001b[0m \u001b[0mkwds\u001b[0m\u001b[1;33m)\u001b[0m\u001b[1;33m\u001b[0m\u001b[1;33m\u001b[0m\u001b[0m\n\u001b[0m\u001b[0;32m    587\u001b[0m \u001b[1;33m\u001b[0m\u001b[0m\n\u001b[0;32m    588\u001b[0m \u001b[1;33m\u001b[0m\u001b[0m\n",
      "\u001b[1;32m~\\anaconda3\\envs\\tpdos\\lib\\site-packages\\pandas\\io\\parsers\\readers.py\u001b[0m in \u001b[0;36m_read\u001b[1;34m(filepath_or_buffer, kwds)\u001b[0m\n\u001b[0;32m    480\u001b[0m \u001b[1;33m\u001b[0m\u001b[0m\n\u001b[0;32m    481\u001b[0m     \u001b[1;31m# Create the parser.\u001b[0m\u001b[1;33m\u001b[0m\u001b[1;33m\u001b[0m\u001b[1;33m\u001b[0m\u001b[0m\n\u001b[1;32m--> 482\u001b[1;33m     \u001b[0mparser\u001b[0m \u001b[1;33m=\u001b[0m \u001b[0mTextFileReader\u001b[0m\u001b[1;33m(\u001b[0m\u001b[0mfilepath_or_buffer\u001b[0m\u001b[1;33m,\u001b[0m \u001b[1;33m**\u001b[0m\u001b[0mkwds\u001b[0m\u001b[1;33m)\u001b[0m\u001b[1;33m\u001b[0m\u001b[1;33m\u001b[0m\u001b[0m\n\u001b[0m\u001b[0;32m    483\u001b[0m \u001b[1;33m\u001b[0m\u001b[0m\n\u001b[0;32m    484\u001b[0m     \u001b[1;32mif\u001b[0m \u001b[0mchunksize\u001b[0m \u001b[1;32mor\u001b[0m \u001b[0miterator\u001b[0m\u001b[1;33m:\u001b[0m\u001b[1;33m\u001b[0m\u001b[1;33m\u001b[0m\u001b[0m\n",
      "\u001b[1;32m~\\anaconda3\\envs\\tpdos\\lib\\site-packages\\pandas\\io\\parsers\\readers.py\u001b[0m in \u001b[0;36m__init__\u001b[1;34m(self, f, engine, **kwds)\u001b[0m\n\u001b[0;32m    809\u001b[0m             \u001b[0mself\u001b[0m\u001b[1;33m.\u001b[0m\u001b[0moptions\u001b[0m\u001b[1;33m[\u001b[0m\u001b[1;34m\"has_index_names\"\u001b[0m\u001b[1;33m]\u001b[0m \u001b[1;33m=\u001b[0m \u001b[0mkwds\u001b[0m\u001b[1;33m[\u001b[0m\u001b[1;34m\"has_index_names\"\u001b[0m\u001b[1;33m]\u001b[0m\u001b[1;33m\u001b[0m\u001b[1;33m\u001b[0m\u001b[0m\n\u001b[0;32m    810\u001b[0m \u001b[1;33m\u001b[0m\u001b[0m\n\u001b[1;32m--> 811\u001b[1;33m         \u001b[0mself\u001b[0m\u001b[1;33m.\u001b[0m\u001b[0m_engine\u001b[0m \u001b[1;33m=\u001b[0m \u001b[0mself\u001b[0m\u001b[1;33m.\u001b[0m\u001b[0m_make_engine\u001b[0m\u001b[1;33m(\u001b[0m\u001b[0mself\u001b[0m\u001b[1;33m.\u001b[0m\u001b[0mengine\u001b[0m\u001b[1;33m)\u001b[0m\u001b[1;33m\u001b[0m\u001b[1;33m\u001b[0m\u001b[0m\n\u001b[0m\u001b[0;32m    812\u001b[0m \u001b[1;33m\u001b[0m\u001b[0m\n\u001b[0;32m    813\u001b[0m     \u001b[1;32mdef\u001b[0m \u001b[0mclose\u001b[0m\u001b[1;33m(\u001b[0m\u001b[0mself\u001b[0m\u001b[1;33m)\u001b[0m\u001b[1;33m:\u001b[0m\u001b[1;33m\u001b[0m\u001b[1;33m\u001b[0m\u001b[0m\n",
      "\u001b[1;32m~\\anaconda3\\envs\\tpdos\\lib\\site-packages\\pandas\\io\\parsers\\readers.py\u001b[0m in \u001b[0;36m_make_engine\u001b[1;34m(self, engine)\u001b[0m\n\u001b[0;32m   1038\u001b[0m             )\n\u001b[0;32m   1039\u001b[0m         \u001b[1;31m# error: Too many arguments for \"ParserBase\"\u001b[0m\u001b[1;33m\u001b[0m\u001b[1;33m\u001b[0m\u001b[1;33m\u001b[0m\u001b[0m\n\u001b[1;32m-> 1040\u001b[1;33m         \u001b[1;32mreturn\u001b[0m \u001b[0mmapping\u001b[0m\u001b[1;33m[\u001b[0m\u001b[0mengine\u001b[0m\u001b[1;33m]\u001b[0m\u001b[1;33m(\u001b[0m\u001b[0mself\u001b[0m\u001b[1;33m.\u001b[0m\u001b[0mf\u001b[0m\u001b[1;33m,\u001b[0m \u001b[1;33m**\u001b[0m\u001b[0mself\u001b[0m\u001b[1;33m.\u001b[0m\u001b[0moptions\u001b[0m\u001b[1;33m)\u001b[0m  \u001b[1;31m# type: ignore[call-arg]\u001b[0m\u001b[1;33m\u001b[0m\u001b[1;33m\u001b[0m\u001b[0m\n\u001b[0m\u001b[0;32m   1041\u001b[0m \u001b[1;33m\u001b[0m\u001b[0m\n\u001b[0;32m   1042\u001b[0m     \u001b[1;32mdef\u001b[0m \u001b[0m_failover_to_python\u001b[0m\u001b[1;33m(\u001b[0m\u001b[0mself\u001b[0m\u001b[1;33m)\u001b[0m\u001b[1;33m:\u001b[0m\u001b[1;33m\u001b[0m\u001b[1;33m\u001b[0m\u001b[0m\n",
      "\u001b[1;32m~\\anaconda3\\envs\\tpdos\\lib\\site-packages\\pandas\\io\\parsers\\c_parser_wrapper.py\u001b[0m in \u001b[0;36m__init__\u001b[1;34m(self, src, **kwds)\u001b[0m\n\u001b[0;32m     49\u001b[0m \u001b[1;33m\u001b[0m\u001b[0m\n\u001b[0;32m     50\u001b[0m         \u001b[1;31m# open handles\u001b[0m\u001b[1;33m\u001b[0m\u001b[1;33m\u001b[0m\u001b[1;33m\u001b[0m\u001b[0m\n\u001b[1;32m---> 51\u001b[1;33m         \u001b[0mself\u001b[0m\u001b[1;33m.\u001b[0m\u001b[0m_open_handles\u001b[0m\u001b[1;33m(\u001b[0m\u001b[0msrc\u001b[0m\u001b[1;33m,\u001b[0m \u001b[0mkwds\u001b[0m\u001b[1;33m)\u001b[0m\u001b[1;33m\u001b[0m\u001b[1;33m\u001b[0m\u001b[0m\n\u001b[0m\u001b[0;32m     52\u001b[0m         \u001b[1;32massert\u001b[0m \u001b[0mself\u001b[0m\u001b[1;33m.\u001b[0m\u001b[0mhandles\u001b[0m \u001b[1;32mis\u001b[0m \u001b[1;32mnot\u001b[0m \u001b[1;32mNone\u001b[0m\u001b[1;33m\u001b[0m\u001b[1;33m\u001b[0m\u001b[0m\n\u001b[0;32m     53\u001b[0m \u001b[1;33m\u001b[0m\u001b[0m\n",
      "\u001b[1;32m~\\anaconda3\\envs\\tpdos\\lib\\site-packages\\pandas\\io\\parsers\\base_parser.py\u001b[0m in \u001b[0;36m_open_handles\u001b[1;34m(self, src, kwds)\u001b[0m\n\u001b[0;32m    220\u001b[0m         \u001b[0mLet\u001b[0m \u001b[0mthe\u001b[0m \u001b[0mreaders\u001b[0m \u001b[0mopen\u001b[0m \u001b[0mIOHandles\u001b[0m \u001b[0mafter\u001b[0m \u001b[0mthey\u001b[0m \u001b[0mare\u001b[0m \u001b[0mdone\u001b[0m \u001b[1;32mwith\u001b[0m \u001b[0mtheir\u001b[0m \u001b[0mpotential\u001b[0m \u001b[0mraises\u001b[0m\u001b[1;33m.\u001b[0m\u001b[1;33m\u001b[0m\u001b[1;33m\u001b[0m\u001b[0m\n\u001b[0;32m    221\u001b[0m         \"\"\"\n\u001b[1;32m--> 222\u001b[1;33m         self.handles = get_handle(\n\u001b[0m\u001b[0;32m    223\u001b[0m             \u001b[0msrc\u001b[0m\u001b[1;33m,\u001b[0m\u001b[1;33m\u001b[0m\u001b[1;33m\u001b[0m\u001b[0m\n\u001b[0;32m    224\u001b[0m             \u001b[1;34m\"r\"\u001b[0m\u001b[1;33m,\u001b[0m\u001b[1;33m\u001b[0m\u001b[1;33m\u001b[0m\u001b[0m\n",
      "\u001b[1;32m~\\anaconda3\\envs\\tpdos\\lib\\site-packages\\pandas\\io\\common.py\u001b[0m in \u001b[0;36mget_handle\u001b[1;34m(path_or_buf, mode, encoding, compression, memory_map, is_text, errors, storage_options)\u001b[0m\n\u001b[0;32m    700\u001b[0m         \u001b[1;32mif\u001b[0m \u001b[0mioargs\u001b[0m\u001b[1;33m.\u001b[0m\u001b[0mencoding\u001b[0m \u001b[1;32mand\u001b[0m \u001b[1;34m\"b\"\u001b[0m \u001b[1;32mnot\u001b[0m \u001b[1;32min\u001b[0m \u001b[0mioargs\u001b[0m\u001b[1;33m.\u001b[0m\u001b[0mmode\u001b[0m\u001b[1;33m:\u001b[0m\u001b[1;33m\u001b[0m\u001b[1;33m\u001b[0m\u001b[0m\n\u001b[0;32m    701\u001b[0m             \u001b[1;31m# Encoding\u001b[0m\u001b[1;33m\u001b[0m\u001b[1;33m\u001b[0m\u001b[1;33m\u001b[0m\u001b[0m\n\u001b[1;32m--> 702\u001b[1;33m             handle = open(\n\u001b[0m\u001b[0;32m    703\u001b[0m                 \u001b[0mhandle\u001b[0m\u001b[1;33m,\u001b[0m\u001b[1;33m\u001b[0m\u001b[1;33m\u001b[0m\u001b[0m\n\u001b[0;32m    704\u001b[0m                 \u001b[0mioargs\u001b[0m\u001b[1;33m.\u001b[0m\u001b[0mmode\u001b[0m\u001b[1;33m,\u001b[0m\u001b[1;33m\u001b[0m\u001b[1;33m\u001b[0m\u001b[0m\n",
      "\u001b[1;31mFileNotFoundError\u001b[0m: [Errno 2] No such file or directory: '/Users/cataa/Desktop/MET4OP/MET4OP/dataset.censo/persona.csv'"
     ]
    }
   ],
   "source": [
    "niveleducativo = pd.read_csv('/Users/cataa/Desktop/MET4OP/MET4OP/data.censo/persona.csv')\n",
    "niveleducativo"
   ]
  },
  {
   "cell_type": "code",
   "execution_count": null,
   "id": "a0d7c795",
   "metadata": {},
   "outputs": [],
   "source": []
  }
 ],
 "metadata": {
  "interpreter": {
   "hash": "5d8cf5cda38d1e9e0067aab16a8a7260a1a6ade48c3b9588a1cd186fa0d7c928"
  },
  "kernelspec": {
   "display_name": "Python [conda env:tpdos]",
   "language": "python",
   "name": "conda-env-tpdos-py"
  },
  "language_info": {
   "codemirror_mode": {
    "name": "ipython",
    "version": 3
   },
   "file_extension": ".py",
   "mimetype": "text/x-python",
   "name": "python",
   "nbconvert_exporter": "python",
   "pygments_lexer": "ipython3",
   "version": "3.8.12"
  }
 },
 "nbformat": 4,
 "nbformat_minor": 5
}
