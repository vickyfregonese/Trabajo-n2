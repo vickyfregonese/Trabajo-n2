{
 "cells": [
  {
   "cell_type": "code",
   "execution_count": 5,
   "id": "c4978662",
   "metadata": {
    "scrolled": true
   },
   "outputs": [
    {
     "data": {
      "text/html": [
       "<div>\n",
       "<style scoped>\n",
       "    .dataframe tbody tr th:only-of-type {\n",
       "        vertical-align: middle;\n",
       "    }\n",
       "\n",
       "    .dataframe tbody tr th {\n",
       "        vertical-align: top;\n",
       "    }\n",
       "\n",
       "    .dataframe thead th {\n",
       "        text-align: right;\n",
       "    }\n",
       "</style>\n",
       "<table border=\"1\" class=\"dataframe\">\n",
       "  <thead>\n",
       "    <tr style=\"text-align: right;\">\n",
       "      <th></th>\n",
       "      <th>CODIGO_DISTRITO</th>\n",
       "      <th>CODIGO_SECCION</th>\n",
       "      <th>CODIGO_CIRCUITO</th>\n",
       "      <th>CODIGO_MESA</th>\n",
       "      <th>CODIGO_CATEGORIA</th>\n",
       "      <th>CODIGO_AGRUPACION</th>\n",
       "      <th>VOTOS_AGRUPACION</th>\n",
       "      <th>NOMBRE_CATEGORIA</th>\n",
       "      <th>NOMBRE_REGION</th>\n",
       "      <th>NOMBRE_AGRUPACION</th>\n",
       "    </tr>\n",
       "  </thead>\n",
       "  <tbody>\n",
       "    <tr>\n",
       "      <th>0</th>\n",
       "      <td>1</td>\n",
       "      <td>1001</td>\n",
       "      <td>1001000001</td>\n",
       "      <td>0100100001X</td>\n",
       "      <td>100000000000</td>\n",
       "      <td>13</td>\n",
       "      <td>1</td>\n",
       "      <td>Presidente y Vicepresidente de la República</td>\n",
       "      <td>COMUNA 01</td>\n",
       "      <td>MOVIMIENTO AL SOCIALISMO</td>\n",
       "    </tr>\n",
       "    <tr>\n",
       "      <th>1</th>\n",
       "      <td>1</td>\n",
       "      <td>1001</td>\n",
       "      <td>1001000001</td>\n",
       "      <td>0100100001X</td>\n",
       "      <td>100000000000</td>\n",
       "      <td>131</td>\n",
       "      <td>5</td>\n",
       "      <td>Presidente y Vicepresidente de la República</td>\n",
       "      <td>COMUNA 01</td>\n",
       "      <td>FRENTE NOS</td>\n",
       "    </tr>\n",
       "    <tr>\n",
       "      <th>2</th>\n",
       "      <td>1</td>\n",
       "      <td>1001</td>\n",
       "      <td>1001000001</td>\n",
       "      <td>0100100001X</td>\n",
       "      <td>100000000000</td>\n",
       "      <td>132</td>\n",
       "      <td>2</td>\n",
       "      <td>Presidente y Vicepresidente de la República</td>\n",
       "      <td>COMUNA 01</td>\n",
       "      <td>FRENTE PATRIOTA</td>\n",
       "    </tr>\n",
       "    <tr>\n",
       "      <th>3</th>\n",
       "      <td>1</td>\n",
       "      <td>1001</td>\n",
       "      <td>1001000001</td>\n",
       "      <td>0100100001X</td>\n",
       "      <td>100000000000</td>\n",
       "      <td>133</td>\n",
       "      <td>15</td>\n",
       "      <td>Presidente y Vicepresidente de la República</td>\n",
       "      <td>COMUNA 01</td>\n",
       "      <td>FRENTE DE IZQUIERDA Y DE TRABAJADORES - UNIDAD</td>\n",
       "    </tr>\n",
       "    <tr>\n",
       "      <th>4</th>\n",
       "      <td>1</td>\n",
       "      <td>1001</td>\n",
       "      <td>1001000001</td>\n",
       "      <td>0100100001X</td>\n",
       "      <td>100000000000</td>\n",
       "      <td>135</td>\n",
       "      <td>85</td>\n",
       "      <td>Presidente y Vicepresidente de la República</td>\n",
       "      <td>COMUNA 01</td>\n",
       "      <td>JUNTOS POR EL CAMBIO</td>\n",
       "    </tr>\n",
       "    <tr>\n",
       "      <th>...</th>\n",
       "      <td>...</td>\n",
       "      <td>...</td>\n",
       "      <td>...</td>\n",
       "      <td>...</td>\n",
       "      <td>...</td>\n",
       "      <td>...</td>\n",
       "      <td>...</td>\n",
       "      <td>...</td>\n",
       "      <td>...</td>\n",
       "      <td>...</td>\n",
       "    </tr>\n",
       "    <tr>\n",
       "      <th>616673</th>\n",
       "      <td>1</td>\n",
       "      <td>1015</td>\n",
       "      <td>1015000167</td>\n",
       "      <td>0101507413X</td>\n",
       "      <td>901015000000</td>\n",
       "      <td>87</td>\n",
       "      <td>7</td>\n",
       "      <td>Junta Comunal Ciudad Autónoma de Buenos Aires ...</td>\n",
       "      <td>COMUNA 15</td>\n",
       "      <td>UNITE POR LA LIBERTAD Y LA DIGNIDAD</td>\n",
       "    </tr>\n",
       "    <tr>\n",
       "      <th>616674</th>\n",
       "      <td>1</td>\n",
       "      <td>1015</td>\n",
       "      <td>1015000167</td>\n",
       "      <td>0101507413X</td>\n",
       "      <td>901015000000</td>\n",
       "      <td>VB</td>\n",
       "      <td>25</td>\n",
       "      <td>Junta Comunal Ciudad Autónoma de Buenos Aires ...</td>\n",
       "      <td>COMUNA 15</td>\n",
       "      <td>BLANCO</td>\n",
       "    </tr>\n",
       "    <tr>\n",
       "      <th>616675</th>\n",
       "      <td>1</td>\n",
       "      <td>1015</td>\n",
       "      <td>1015000167</td>\n",
       "      <td>0101507413X</td>\n",
       "      <td>901015000000</td>\n",
       "      <td>VII</td>\n",
       "      <td>0</td>\n",
       "      <td>Junta Comunal Ciudad Autónoma de Buenos Aires ...</td>\n",
       "      <td>COMUNA 15</td>\n",
       "      <td>IMPUGNADO</td>\n",
       "    </tr>\n",
       "    <tr>\n",
       "      <th>616676</th>\n",
       "      <td>1</td>\n",
       "      <td>1015</td>\n",
       "      <td>1015000167</td>\n",
       "      <td>0101507413X</td>\n",
       "      <td>901015000000</td>\n",
       "      <td>VN</td>\n",
       "      <td>0</td>\n",
       "      <td>Junta Comunal Ciudad Autónoma de Buenos Aires ...</td>\n",
       "      <td>COMUNA 15</td>\n",
       "      <td>NULO</td>\n",
       "    </tr>\n",
       "    <tr>\n",
       "      <th>616677</th>\n",
       "      <td>1</td>\n",
       "      <td>1015</td>\n",
       "      <td>1015000167</td>\n",
       "      <td>0101507413X</td>\n",
       "      <td>901015000000</td>\n",
       "      <td>VR</td>\n",
       "      <td>0</td>\n",
       "      <td>Junta Comunal Ciudad Autónoma de Buenos Aires ...</td>\n",
       "      <td>COMUNA 15</td>\n",
       "      <td>RECURRIDO</td>\n",
       "    </tr>\n",
       "  </tbody>\n",
       "</table>\n",
       "<p>616678 rows × 10 columns</p>\n",
       "</div>"
      ],
      "text/plain": [
       "        CODIGO_DISTRITO  CODIGO_SECCION  CODIGO_CIRCUITO  CODIGO_MESA  \\\n",
       "0                     1            1001       1001000001  0100100001X   \n",
       "1                     1            1001       1001000001  0100100001X   \n",
       "2                     1            1001       1001000001  0100100001X   \n",
       "3                     1            1001       1001000001  0100100001X   \n",
       "4                     1            1001       1001000001  0100100001X   \n",
       "...                 ...             ...              ...          ...   \n",
       "616673                1            1015       1015000167  0101507413X   \n",
       "616674                1            1015       1015000167  0101507413X   \n",
       "616675                1            1015       1015000167  0101507413X   \n",
       "616676                1            1015       1015000167  0101507413X   \n",
       "616677                1            1015       1015000167  0101507413X   \n",
       "\n",
       "        CODIGO_CATEGORIA CODIGO_AGRUPACION  VOTOS_AGRUPACION  \\\n",
       "0           100000000000                13                 1   \n",
       "1           100000000000               131                 5   \n",
       "2           100000000000               132                 2   \n",
       "3           100000000000               133                15   \n",
       "4           100000000000               135                85   \n",
       "...                  ...               ...               ...   \n",
       "616673      901015000000                87                 7   \n",
       "616674      901015000000                VB                25   \n",
       "616675      901015000000               VII                 0   \n",
       "616676      901015000000                VN                 0   \n",
       "616677      901015000000                VR                 0   \n",
       "\n",
       "                                         NOMBRE_CATEGORIA NOMBRE_REGION  \\\n",
       "0             Presidente y Vicepresidente de la República     COMUNA 01   \n",
       "1             Presidente y Vicepresidente de la República     COMUNA 01   \n",
       "2             Presidente y Vicepresidente de la República     COMUNA 01   \n",
       "3             Presidente y Vicepresidente de la República     COMUNA 01   \n",
       "4             Presidente y Vicepresidente de la República     COMUNA 01   \n",
       "...                                                   ...           ...   \n",
       "616673  Junta Comunal Ciudad Autónoma de Buenos Aires ...     COMUNA 15   \n",
       "616674  Junta Comunal Ciudad Autónoma de Buenos Aires ...     COMUNA 15   \n",
       "616675  Junta Comunal Ciudad Autónoma de Buenos Aires ...     COMUNA 15   \n",
       "616676  Junta Comunal Ciudad Autónoma de Buenos Aires ...     COMUNA 15   \n",
       "616677  Junta Comunal Ciudad Autónoma de Buenos Aires ...     COMUNA 15   \n",
       "\n",
       "                                     NOMBRE_AGRUPACION  \n",
       "0                             MOVIMIENTO AL SOCIALISMO  \n",
       "1                                           FRENTE NOS  \n",
       "2                                      FRENTE PATRIOTA  \n",
       "3       FRENTE DE IZQUIERDA Y DE TRABAJADORES - UNIDAD  \n",
       "4                                 JUNTOS POR EL CAMBIO  \n",
       "...                                                ...  \n",
       "616673             UNITE POR LA LIBERTAD Y LA DIGNIDAD  \n",
       "616674                                          BLANCO  \n",
       "616675                                       IMPUGNADO  \n",
       "616676                                            NULO  \n",
       "616677                                       RECURRIDO  \n",
       "\n",
       "[616678 rows x 10 columns]"
      ]
     },
     "execution_count": 5,
     "metadata": {},
     "output_type": "execute_result"
    }
   ],
   "source": [
    "import pandas as pd \n",
    "import numpy as np\n",
    "\n",
    "base_total = pd.read_csv('/Users/cataa/Desktop/MET4OP/MET4OP/dataset/elecciones_2019/resultados/120819-054029/datos_agrup.csv')\n",
    "base_total\n"
   ]
  },
  {
   "cell_type": "code",
   "execution_count": 6,
   "id": "f2135466",
   "metadata": {},
   "outputs": [
    {
     "data": {
      "text/html": [
       "<div>\n",
       "<style scoped>\n",
       "    .dataframe tbody tr th:only-of-type {\n",
       "        vertical-align: middle;\n",
       "    }\n",
       "\n",
       "    .dataframe tbody tr th {\n",
       "        vertical-align: top;\n",
       "    }\n",
       "\n",
       "    .dataframe thead th {\n",
       "        text-align: right;\n",
       "    }\n",
       "</style>\n",
       "<table border=\"1\" class=\"dataframe\">\n",
       "  <thead>\n",
       "    <tr style=\"text-align: right;\">\n",
       "      <th></th>\n",
       "      <th>VOTOS_AGRUPACION</th>\n",
       "      <th>NOMBRE_CATEGORIA</th>\n",
       "      <th>NOMBRE_REGION</th>\n",
       "      <th>NOMBRE_AGRUPACION</th>\n",
       "    </tr>\n",
       "  </thead>\n",
       "  <tbody>\n",
       "    <tr>\n",
       "      <th>0</th>\n",
       "      <td>1</td>\n",
       "      <td>Presidente y Vicepresidente de la República</td>\n",
       "      <td>COMUNA 01</td>\n",
       "      <td>MOVIMIENTO AL SOCIALISMO</td>\n",
       "    </tr>\n",
       "    <tr>\n",
       "      <th>1</th>\n",
       "      <td>5</td>\n",
       "      <td>Presidente y Vicepresidente de la República</td>\n",
       "      <td>COMUNA 01</td>\n",
       "      <td>FRENTE NOS</td>\n",
       "    </tr>\n",
       "    <tr>\n",
       "      <th>2</th>\n",
       "      <td>2</td>\n",
       "      <td>Presidente y Vicepresidente de la República</td>\n",
       "      <td>COMUNA 01</td>\n",
       "      <td>FRENTE PATRIOTA</td>\n",
       "    </tr>\n",
       "    <tr>\n",
       "      <th>3</th>\n",
       "      <td>15</td>\n",
       "      <td>Presidente y Vicepresidente de la República</td>\n",
       "      <td>COMUNA 01</td>\n",
       "      <td>FRENTE DE IZQUIERDA Y DE TRABAJADORES - UNIDAD</td>\n",
       "    </tr>\n",
       "    <tr>\n",
       "      <th>4</th>\n",
       "      <td>85</td>\n",
       "      <td>Presidente y Vicepresidente de la República</td>\n",
       "      <td>COMUNA 01</td>\n",
       "      <td>JUNTOS POR EL CAMBIO</td>\n",
       "    </tr>\n",
       "    <tr>\n",
       "      <th>...</th>\n",
       "      <td>...</td>\n",
       "      <td>...</td>\n",
       "      <td>...</td>\n",
       "      <td>...</td>\n",
       "    </tr>\n",
       "    <tr>\n",
       "      <th>616673</th>\n",
       "      <td>7</td>\n",
       "      <td>Junta Comunal Ciudad Autónoma de Buenos Aires ...</td>\n",
       "      <td>COMUNA 15</td>\n",
       "      <td>UNITE POR LA LIBERTAD Y LA DIGNIDAD</td>\n",
       "    </tr>\n",
       "    <tr>\n",
       "      <th>616674</th>\n",
       "      <td>25</td>\n",
       "      <td>Junta Comunal Ciudad Autónoma de Buenos Aires ...</td>\n",
       "      <td>COMUNA 15</td>\n",
       "      <td>BLANCO</td>\n",
       "    </tr>\n",
       "    <tr>\n",
       "      <th>616675</th>\n",
       "      <td>0</td>\n",
       "      <td>Junta Comunal Ciudad Autónoma de Buenos Aires ...</td>\n",
       "      <td>COMUNA 15</td>\n",
       "      <td>IMPUGNADO</td>\n",
       "    </tr>\n",
       "    <tr>\n",
       "      <th>616676</th>\n",
       "      <td>0</td>\n",
       "      <td>Junta Comunal Ciudad Autónoma de Buenos Aires ...</td>\n",
       "      <td>COMUNA 15</td>\n",
       "      <td>NULO</td>\n",
       "    </tr>\n",
       "    <tr>\n",
       "      <th>616677</th>\n",
       "      <td>0</td>\n",
       "      <td>Junta Comunal Ciudad Autónoma de Buenos Aires ...</td>\n",
       "      <td>COMUNA 15</td>\n",
       "      <td>RECURRIDO</td>\n",
       "    </tr>\n",
       "  </tbody>\n",
       "</table>\n",
       "<p>616678 rows × 4 columns</p>\n",
       "</div>"
      ],
      "text/plain": [
       "        VOTOS_AGRUPACION                                   NOMBRE_CATEGORIA  \\\n",
       "0                      1        Presidente y Vicepresidente de la República   \n",
       "1                      5        Presidente y Vicepresidente de la República   \n",
       "2                      2        Presidente y Vicepresidente de la República   \n",
       "3                     15        Presidente y Vicepresidente de la República   \n",
       "4                     85        Presidente y Vicepresidente de la República   \n",
       "...                  ...                                                ...   \n",
       "616673                 7  Junta Comunal Ciudad Autónoma de Buenos Aires ...   \n",
       "616674                25  Junta Comunal Ciudad Autónoma de Buenos Aires ...   \n",
       "616675                 0  Junta Comunal Ciudad Autónoma de Buenos Aires ...   \n",
       "616676                 0  Junta Comunal Ciudad Autónoma de Buenos Aires ...   \n",
       "616677                 0  Junta Comunal Ciudad Autónoma de Buenos Aires ...   \n",
       "\n",
       "       NOMBRE_REGION                               NOMBRE_AGRUPACION  \n",
       "0          COMUNA 01                        MOVIMIENTO AL SOCIALISMO  \n",
       "1          COMUNA 01                                      FRENTE NOS  \n",
       "2          COMUNA 01                                 FRENTE PATRIOTA  \n",
       "3          COMUNA 01  FRENTE DE IZQUIERDA Y DE TRABAJADORES - UNIDAD  \n",
       "4          COMUNA 01                            JUNTOS POR EL CAMBIO  \n",
       "...              ...                                             ...  \n",
       "616673     COMUNA 15             UNITE POR LA LIBERTAD Y LA DIGNIDAD  \n",
       "616674     COMUNA 15                                          BLANCO  \n",
       "616675     COMUNA 15                                       IMPUGNADO  \n",
       "616676     COMUNA 15                                            NULO  \n",
       "616677     COMUNA 15                                       RECURRIDO  \n",
       "\n",
       "[616678 rows x 4 columns]"
      ]
     },
     "execution_count": 6,
     "metadata": {},
     "output_type": "execute_result"
    }
   ],
   "source": [
    "base_limpia = base_total[[\"VOTOS_AGRUPACION\", \"NOMBRE_CATEGORIA\", \"NOMBRE_REGION\", \"NOMBRE_AGRUPACION\"]]   #creamos una nueva base solo con los datos que necesitamos\n",
    "base_limpia"
   ]
  },
  {
   "cell_type": "code",
   "execution_count": 7,
   "id": "68f9e37b",
   "metadata": {},
   "outputs": [
    {
     "data": {
      "text/html": [
       "<div>\n",
       "<style scoped>\n",
       "    .dataframe tbody tr th:only-of-type {\n",
       "        vertical-align: middle;\n",
       "    }\n",
       "\n",
       "    .dataframe tbody tr th {\n",
       "        vertical-align: top;\n",
       "    }\n",
       "\n",
       "    .dataframe thead th {\n",
       "        text-align: right;\n",
       "    }\n",
       "</style>\n",
       "<table border=\"1\" class=\"dataframe\">\n",
       "  <thead>\n",
       "    <tr style=\"text-align: right;\">\n",
       "      <th></th>\n",
       "      <th>VOTOS_AGRUPACION</th>\n",
       "      <th>NOMBRE_CATEGORIA</th>\n",
       "      <th>NOMBRE_REGION</th>\n",
       "      <th>NOMBRE_AGRUPACION</th>\n",
       "    </tr>\n",
       "  </thead>\n",
       "  <tbody>\n",
       "    <tr>\n",
       "      <th>9</th>\n",
       "      <td>4</td>\n",
       "      <td>Presidente y Vicepresidente de la República</td>\n",
       "      <td>COMUNA 01</td>\n",
       "      <td>UNITE POR LA LIBERTAD Y LA DIGNIDAD</td>\n",
       "    </tr>\n",
       "    <tr>\n",
       "      <th>23</th>\n",
       "      <td>9</td>\n",
       "      <td>Presidente y Vicepresidente de la República</td>\n",
       "      <td>COMUNA 01</td>\n",
       "      <td>UNITE POR LA LIBERTAD Y LA DIGNIDAD</td>\n",
       "    </tr>\n",
       "    <tr>\n",
       "      <th>37</th>\n",
       "      <td>6</td>\n",
       "      <td>Presidente y Vicepresidente de la República</td>\n",
       "      <td>COMUNA 01</td>\n",
       "      <td>UNITE POR LA LIBERTAD Y LA DIGNIDAD</td>\n",
       "    </tr>\n",
       "    <tr>\n",
       "      <th>51</th>\n",
       "      <td>16</td>\n",
       "      <td>Presidente y Vicepresidente de la República</td>\n",
       "      <td>COMUNA 01</td>\n",
       "      <td>UNITE POR LA LIBERTAD Y LA DIGNIDAD</td>\n",
       "    </tr>\n",
       "    <tr>\n",
       "      <th>65</th>\n",
       "      <td>10</td>\n",
       "      <td>Presidente y Vicepresidente de la República</td>\n",
       "      <td>COMUNA 01</td>\n",
       "      <td>UNITE POR LA LIBERTAD Y LA DIGNIDAD</td>\n",
       "    </tr>\n",
       "    <tr>\n",
       "      <th>...</th>\n",
       "      <td>...</td>\n",
       "      <td>...</td>\n",
       "      <td>...</td>\n",
       "      <td>...</td>\n",
       "    </tr>\n",
       "    <tr>\n",
       "      <th>616625</th>\n",
       "      <td>5</td>\n",
       "      <td>Junta Comunal Ciudad Autónoma de Buenos Aires ...</td>\n",
       "      <td>COMUNA 15</td>\n",
       "      <td>UNITE POR LA LIBERTAD Y LA DIGNIDAD</td>\n",
       "    </tr>\n",
       "    <tr>\n",
       "      <th>616637</th>\n",
       "      <td>4</td>\n",
       "      <td>Junta Comunal Ciudad Autónoma de Buenos Aires ...</td>\n",
       "      <td>COMUNA 15</td>\n",
       "      <td>UNITE POR LA LIBERTAD Y LA DIGNIDAD</td>\n",
       "    </tr>\n",
       "    <tr>\n",
       "      <th>616649</th>\n",
       "      <td>14</td>\n",
       "      <td>Junta Comunal Ciudad Autónoma de Buenos Aires ...</td>\n",
       "      <td>COMUNA 15</td>\n",
       "      <td>UNITE POR LA LIBERTAD Y LA DIGNIDAD</td>\n",
       "    </tr>\n",
       "    <tr>\n",
       "      <th>616661</th>\n",
       "      <td>6</td>\n",
       "      <td>Junta Comunal Ciudad Autónoma de Buenos Aires ...</td>\n",
       "      <td>COMUNA 15</td>\n",
       "      <td>UNITE POR LA LIBERTAD Y LA DIGNIDAD</td>\n",
       "    </tr>\n",
       "    <tr>\n",
       "      <th>616673</th>\n",
       "      <td>7</td>\n",
       "      <td>Junta Comunal Ciudad Autónoma de Buenos Aires ...</td>\n",
       "      <td>COMUNA 15</td>\n",
       "      <td>UNITE POR LA LIBERTAD Y LA DIGNIDAD</td>\n",
       "    </tr>\n",
       "  </tbody>\n",
       "</table>\n",
       "<p>47957 rows × 4 columns</p>\n",
       "</div>"
      ],
      "text/plain": [
       "        VOTOS_AGRUPACION                                   NOMBRE_CATEGORIA  \\\n",
       "9                      4        Presidente y Vicepresidente de la República   \n",
       "23                     9        Presidente y Vicepresidente de la República   \n",
       "37                     6        Presidente y Vicepresidente de la República   \n",
       "51                    16        Presidente y Vicepresidente de la República   \n",
       "65                    10        Presidente y Vicepresidente de la República   \n",
       "...                  ...                                                ...   \n",
       "616625                 5  Junta Comunal Ciudad Autónoma de Buenos Aires ...   \n",
       "616637                 4  Junta Comunal Ciudad Autónoma de Buenos Aires ...   \n",
       "616649                14  Junta Comunal Ciudad Autónoma de Buenos Aires ...   \n",
       "616661                 6  Junta Comunal Ciudad Autónoma de Buenos Aires ...   \n",
       "616673                 7  Junta Comunal Ciudad Autónoma de Buenos Aires ...   \n",
       "\n",
       "       NOMBRE_REGION                    NOMBRE_AGRUPACION  \n",
       "9          COMUNA 01  UNITE POR LA LIBERTAD Y LA DIGNIDAD  \n",
       "23         COMUNA 01  UNITE POR LA LIBERTAD Y LA DIGNIDAD  \n",
       "37         COMUNA 01  UNITE POR LA LIBERTAD Y LA DIGNIDAD  \n",
       "51         COMUNA 01  UNITE POR LA LIBERTAD Y LA DIGNIDAD  \n",
       "65         COMUNA 01  UNITE POR LA LIBERTAD Y LA DIGNIDAD  \n",
       "...              ...                                  ...  \n",
       "616625     COMUNA 15  UNITE POR LA LIBERTAD Y LA DIGNIDAD  \n",
       "616637     COMUNA 15  UNITE POR LA LIBERTAD Y LA DIGNIDAD  \n",
       "616649     COMUNA 15  UNITE POR LA LIBERTAD Y LA DIGNIDAD  \n",
       "616661     COMUNA 15  UNITE POR LA LIBERTAD Y LA DIGNIDAD  \n",
       "616673     COMUNA 15  UNITE POR LA LIBERTAD Y LA DIGNIDAD  \n",
       "\n",
       "[47957 rows x 4 columns]"
      ]
     },
     "execution_count": 7,
     "metadata": {},
     "output_type": "execute_result"
    }
   ],
   "source": [
    "base_limpia[base_limpia['NOMBRE_AGRUPACION']==\"UNITE POR LA LIBERTAD Y LA DIGNIDAD\"]    #filtramos por partido\n",
    "\n"
   ]
  },
  {
   "cell_type": "code",
   "execution_count": 8,
   "id": "2a5aab4f",
   "metadata": {},
   "outputs": [
    {
     "data": {
      "text/plain": [
       "[0         False\n",
       " 1         False\n",
       " 2         False\n",
       " 3         False\n",
       " 4         False\n",
       "           ...  \n",
       " 616673     True\n",
       " 616674    False\n",
       " 616675    False\n",
       " 616676    False\n",
       " 616677    False\n",
       " Name: NOMBRE_AGRUPACION, Length: 616678, dtype: bool,\n",
       " False]"
      ]
     },
     "execution_count": 8,
     "metadata": {},
     "output_type": "execute_result"
    }
   ],
   "source": [
    "a = [base_limpia['NOMBRE_AGRUPACION']==\"UNITE POR LA LIBERTAD Y LA DIGNIDAD\", [\"NOMBRE_REGION\"]==\"COMUNA 01\"]\n",
    "a"
   ]
  },
  {
   "cell_type": "code",
   "execution_count": 9,
   "id": "ba261430",
   "metadata": {},
   "outputs": [
    {
     "data": {
      "text/plain": [
       "0          True\n",
       "1          True\n",
       "2          True\n",
       "3          True\n",
       "4          True\n",
       "          ...  \n",
       "616673    False\n",
       "616674    False\n",
       "616675    False\n",
       "616676    False\n",
       "616677    False\n",
       "Name: NOMBRE_REGION, Length: 616678, dtype: bool"
      ]
     },
     "execution_count": 9,
     "metadata": {},
     "output_type": "execute_result"
    }
   ],
   "source": [
    "Comuna1 = base_limpia [\"NOMBRE_REGION\"]==\"COMUNA 01\"\n",
    "Comuna1"
   ]
  },
  {
   "cell_type": "code",
   "execution_count": 10,
   "id": "111945a1",
   "metadata": {},
   "outputs": [
    {
     "data": {
      "text/html": [
       "<div>\n",
       "<style scoped>\n",
       "    .dataframe tbody tr th:only-of-type {\n",
       "        vertical-align: middle;\n",
       "    }\n",
       "\n",
       "    .dataframe tbody tr th {\n",
       "        vertical-align: top;\n",
       "    }\n",
       "\n",
       "    .dataframe thead th {\n",
       "        text-align: right;\n",
       "    }\n",
       "</style>\n",
       "<table border=\"1\" class=\"dataframe\">\n",
       "  <thead>\n",
       "    <tr style=\"text-align: right;\">\n",
       "      <th></th>\n",
       "      <th></th>\n",
       "      <th></th>\n",
       "      <th></th>\n",
       "      <th>count</th>\n",
       "    </tr>\n",
       "    <tr>\n",
       "      <th>NOMBRE_AGRUPACION</th>\n",
       "      <th>NOMBRE_CATEGORIA</th>\n",
       "      <th>NOMBRE_REGION</th>\n",
       "      <th>VOTOS_AGRUPACION</th>\n",
       "      <th></th>\n",
       "    </tr>\n",
       "  </thead>\n",
       "  <tbody>\n",
       "    <tr>\n",
       "      <th rowspan=\"5\" valign=\"top\">AUTODETERMINACION Y LIBERTAD</th>\n",
       "      <th rowspan=\"5\" valign=\"top\">Diputados Ciudad Autónoma de Buenos Aires</th>\n",
       "      <th rowspan=\"5\" valign=\"top\">COMUNA 01</th>\n",
       "      <th>0</th>\n",
       "      <td>81</td>\n",
       "    </tr>\n",
       "    <tr>\n",
       "      <th>1</th>\n",
       "      <td>90</td>\n",
       "    </tr>\n",
       "    <tr>\n",
       "      <th>2</th>\n",
       "      <td>105</td>\n",
       "    </tr>\n",
       "    <tr>\n",
       "      <th>3</th>\n",
       "      <td>100</td>\n",
       "    </tr>\n",
       "    <tr>\n",
       "      <th>4</th>\n",
       "      <td>67</td>\n",
       "    </tr>\n",
       "    <tr>\n",
       "      <th>...</th>\n",
       "      <th>...</th>\n",
       "      <th>...</th>\n",
       "      <th>...</th>\n",
       "      <td>...</td>\n",
       "    </tr>\n",
       "    <tr>\n",
       "      <th rowspan=\"5\" valign=\"top\">UNITE POR LA LIBERTAD Y LA DIGNIDAD</th>\n",
       "      <th rowspan=\"5\" valign=\"top\">Senadores Nacionales Ciudad Autónoma de Buenos Aires</th>\n",
       "      <th rowspan=\"5\" valign=\"top\">COMUNA 15</th>\n",
       "      <th>16</th>\n",
       "      <td>5</td>\n",
       "    </tr>\n",
       "    <tr>\n",
       "      <th>17</th>\n",
       "      <td>2</td>\n",
       "    </tr>\n",
       "    <tr>\n",
       "      <th>18</th>\n",
       "      <td>4</td>\n",
       "    </tr>\n",
       "    <tr>\n",
       "      <th>19</th>\n",
       "      <td>2</td>\n",
       "    </tr>\n",
       "    <tr>\n",
       "      <th>20</th>\n",
       "      <td>1</td>\n",
       "    </tr>\n",
       "  </tbody>\n",
       "</table>\n",
       "<p>30030 rows × 1 columns</p>\n",
       "</div>"
      ],
      "text/plain": [
       "                                                                                                                       count\n",
       "NOMBRE_AGRUPACION                   NOMBRE_CATEGORIA                                   NOMBRE_REGION VOTOS_AGRUPACION       \n",
       "AUTODETERMINACION Y LIBERTAD        Diputados Ciudad Autónoma de Buenos Aires          COMUNA 01     0                    81\n",
       "                                                                                                     1                    90\n",
       "                                                                                                     2                   105\n",
       "                                                                                                     3                   100\n",
       "                                                                                                     4                    67\n",
       "...                                                                                                                      ...\n",
       "UNITE POR LA LIBERTAD Y LA DIGNIDAD Senadores Nacionales Ciudad Autónoma de Buenos ... COMUNA 15     16                    5\n",
       "                                                                                                     17                    2\n",
       "                                                                                                     18                    4\n",
       "                                                                                                     19                    2\n",
       "                                                                                                     20                    1\n",
       "\n",
       "[30030 rows x 1 columns]"
      ]
     },
     "execution_count": 10,
     "metadata": {},
     "output_type": "execute_result"
    }
   ],
   "source": [
    "base_agrupada = (base_limpia.groupby([\"NOMBRE_AGRUPACION\", \"NOMBRE_CATEGORIA\",\"NOMBRE_REGION\", \"VOTOS_AGRUPACION\"])\n",
    "    .size()\n",
    "    .to_frame(name=\"count\") #Para que devuelva un df en lugar de una serie así es más legible\n",
    ")\n",
    "base_agrupada"
   ]
  },
  {
   "cell_type": "code",
   "execution_count": 11,
   "id": "4772c002",
   "metadata": {},
   "outputs": [
    {
     "name": "stdout",
     "output_type": "stream",
     "text": [
      "        VOTOS_AGRUPACION                             NOMBRE_CATEGORIA  \\\n",
      "0                      1  Presidente y Vicepresidente de la República   \n",
      "1                      5  Presidente y Vicepresidente de la República   \n",
      "2                      2  Presidente y Vicepresidente de la República   \n",
      "3                     15  Presidente y Vicepresidente de la República   \n",
      "4                     85  Presidente y Vicepresidente de la República   \n",
      "...                  ...                                          ...   \n",
      "103721                10  Presidente y Vicepresidente de la República   \n",
      "103722                13  Presidente y Vicepresidente de la República   \n",
      "103723                 0  Presidente y Vicepresidente de la República   \n",
      "103724                 0  Presidente y Vicepresidente de la República   \n",
      "103725                 0  Presidente y Vicepresidente de la República   \n",
      "\n",
      "       NOMBRE_REGION                               NOMBRE_AGRUPACION  \n",
      "0          COMUNA 01                        MOVIMIENTO AL SOCIALISMO  \n",
      "1          COMUNA 01                                      FRENTE NOS  \n",
      "2          COMUNA 01                                 FRENTE PATRIOTA  \n",
      "3          COMUNA 01  FRENTE DE IZQUIERDA Y DE TRABAJADORES - UNIDAD  \n",
      "4          COMUNA 01                            JUNTOS POR EL CAMBIO  \n",
      "...              ...                                             ...  \n",
      "103721     COMUNA 15             UNITE POR LA LIBERTAD Y LA DIGNIDAD  \n",
      "103722     COMUNA 15                                          BLANCO  \n",
      "103723     COMUNA 15                                       IMPUGNADO  \n",
      "103724     COMUNA 15                                            NULO  \n",
      "103725     COMUNA 15                                       RECURRIDO  \n",
      "\n",
      "[103726 rows x 4 columns]\n"
     ]
    }
   ],
   "source": [
    "#base_limpia[base_limpia[\"NOMBRE_CATEGORIA\"]== 'Presidente y Vicepresidente de la República']\n",
    "#Filtramos las variables de vice y presi\n",
    "presi_vice = base_limpia[base_limpia[\"NOMBRE_CATEGORIA\"]== 'Presidente y Vicepresidente de la República']\n",
    "print(presi_vice)"
   ]
  },
  {
   "cell_type": "code",
   "execution_count": 12,
   "id": "ea723525",
   "metadata": {},
   "outputs": [
    {
     "data": {
      "text/html": [
       "<div>\n",
       "<style scoped>\n",
       "    .dataframe tbody tr th:only-of-type {\n",
       "        vertical-align: middle;\n",
       "    }\n",
       "\n",
       "    .dataframe tbody tr th {\n",
       "        vertical-align: top;\n",
       "    }\n",
       "\n",
       "    .dataframe thead th {\n",
       "        text-align: right;\n",
       "    }\n",
       "</style>\n",
       "<table border=\"1\" class=\"dataframe\">\n",
       "  <thead>\n",
       "    <tr style=\"text-align: right;\">\n",
       "      <th></th>\n",
       "      <th>VOTOS_AGRUPACION</th>\n",
       "      <th>NOMBRE_CATEGORIA</th>\n",
       "      <th>NOMBRE_REGION</th>\n",
       "      <th>NOMBRE_AGRUPACION</th>\n",
       "    </tr>\n",
       "  </thead>\n",
       "  <tbody>\n",
       "    <tr>\n",
       "      <th>0</th>\n",
       "      <td>1</td>\n",
       "      <td>Presidente y Vicepresidente de la República</td>\n",
       "      <td>COMUNA 01</td>\n",
       "      <td>MOVIMIENTO AL SOCIALISMO</td>\n",
       "    </tr>\n",
       "    <tr>\n",
       "      <th>1</th>\n",
       "      <td>5</td>\n",
       "      <td>Presidente y Vicepresidente de la República</td>\n",
       "      <td>COMUNA 01</td>\n",
       "      <td>FRENTE NOS</td>\n",
       "    </tr>\n",
       "    <tr>\n",
       "      <th>2</th>\n",
       "      <td>2</td>\n",
       "      <td>Presidente y Vicepresidente de la República</td>\n",
       "      <td>COMUNA 01</td>\n",
       "      <td>FRENTE PATRIOTA</td>\n",
       "    </tr>\n",
       "    <tr>\n",
       "      <th>3</th>\n",
       "      <td>15</td>\n",
       "      <td>Presidente y Vicepresidente de la República</td>\n",
       "      <td>COMUNA 01</td>\n",
       "      <td>FRENTE DE IZQUIERDA Y DE TRABAJADORES - UNIDAD</td>\n",
       "    </tr>\n",
       "    <tr>\n",
       "      <th>4</th>\n",
       "      <td>85</td>\n",
       "      <td>Presidente y Vicepresidente de la República</td>\n",
       "      <td>COMUNA 01</td>\n",
       "      <td>JUNTOS POR EL CAMBIO</td>\n",
       "    </tr>\n",
       "    <tr>\n",
       "      <th>...</th>\n",
       "      <td>...</td>\n",
       "      <td>...</td>\n",
       "      <td>...</td>\n",
       "      <td>...</td>\n",
       "    </tr>\n",
       "    <tr>\n",
       "      <th>7233</th>\n",
       "      <td>4</td>\n",
       "      <td>Presidente y Vicepresidente de la República</td>\n",
       "      <td>COMUNA 01</td>\n",
       "      <td>UNITE POR LA LIBERTAD Y LA DIGNIDAD</td>\n",
       "    </tr>\n",
       "    <tr>\n",
       "      <th>7234</th>\n",
       "      <td>9</td>\n",
       "      <td>Presidente y Vicepresidente de la República</td>\n",
       "      <td>COMUNA 01</td>\n",
       "      <td>BLANCO</td>\n",
       "    </tr>\n",
       "    <tr>\n",
       "      <th>7235</th>\n",
       "      <td>0</td>\n",
       "      <td>Presidente y Vicepresidente de la República</td>\n",
       "      <td>COMUNA 01</td>\n",
       "      <td>IMPUGNADO</td>\n",
       "    </tr>\n",
       "    <tr>\n",
       "      <th>7236</th>\n",
       "      <td>2</td>\n",
       "      <td>Presidente y Vicepresidente de la República</td>\n",
       "      <td>COMUNA 01</td>\n",
       "      <td>NULO</td>\n",
       "    </tr>\n",
       "    <tr>\n",
       "      <th>7237</th>\n",
       "      <td>0</td>\n",
       "      <td>Presidente y Vicepresidente de la República</td>\n",
       "      <td>COMUNA 01</td>\n",
       "      <td>RECURRIDO</td>\n",
       "    </tr>\n",
       "  </tbody>\n",
       "</table>\n",
       "<p>7238 rows × 4 columns</p>\n",
       "</div>"
      ],
      "text/plain": [
       "      VOTOS_AGRUPACION                             NOMBRE_CATEGORIA  \\\n",
       "0                    1  Presidente y Vicepresidente de la República   \n",
       "1                    5  Presidente y Vicepresidente de la República   \n",
       "2                    2  Presidente y Vicepresidente de la República   \n",
       "3                   15  Presidente y Vicepresidente de la República   \n",
       "4                   85  Presidente y Vicepresidente de la República   \n",
       "...                ...                                          ...   \n",
       "7233                 4  Presidente y Vicepresidente de la República   \n",
       "7234                 9  Presidente y Vicepresidente de la República   \n",
       "7235                 0  Presidente y Vicepresidente de la República   \n",
       "7236                 2  Presidente y Vicepresidente de la República   \n",
       "7237                 0  Presidente y Vicepresidente de la República   \n",
       "\n",
       "     NOMBRE_REGION                               NOMBRE_AGRUPACION  \n",
       "0        COMUNA 01                        MOVIMIENTO AL SOCIALISMO  \n",
       "1        COMUNA 01                                      FRENTE NOS  \n",
       "2        COMUNA 01                                 FRENTE PATRIOTA  \n",
       "3        COMUNA 01  FRENTE DE IZQUIERDA Y DE TRABAJADORES - UNIDAD  \n",
       "4        COMUNA 01                            JUNTOS POR EL CAMBIO  \n",
       "...            ...                                             ...  \n",
       "7233     COMUNA 01             UNITE POR LA LIBERTAD Y LA DIGNIDAD  \n",
       "7234     COMUNA 01                                          BLANCO  \n",
       "7235     COMUNA 01                                       IMPUGNADO  \n",
       "7236     COMUNA 01                                            NULO  \n",
       "7237     COMUNA 01                                       RECURRIDO  \n",
       "\n",
       "[7238 rows x 4 columns]"
      ]
     },
     "execution_count": 12,
     "metadata": {},
     "output_type": "execute_result"
    }
   ],
   "source": [
    "#Filtro comuna 1\n",
    "comuna1 = presi_vice[presi_vice[\"NOMBRE_REGION\"]=='COMUNA 01']\n",
    "comuna1"
   ]
  },
  {
   "cell_type": "code",
   "execution_count": 13,
   "id": "08cb3444",
   "metadata": {},
   "outputs": [
    {
     "data": {
      "text/plain": [
       "NOMBRE_AGRUPACION\n",
       "BLANCO                                             3674\n",
       "CONSENSO FEDERAL                                   8305\n",
       "FRENTE DE IZQUIERDA Y DE TRABAJADORES - UNIDAD     4368\n",
       "FRENTE DE TODOS                                   42299\n",
       "FRENTE NOS                                         1763\n",
       "FRENTE PATRIOTA                                     379\n",
       "IMPUGNADO                                            14\n",
       "JUNTOS POR EL CAMBIO                              54568\n",
       "MOVIMIENTO AL SOCIALISMO                           1186\n",
       "MOVIMIENTO DE ACCION VECINAL                        159\n",
       "NULO                                               1010\n",
       "PARTIDO AUTONOMISTA                                 141\n",
       "RECURRIDO                                            62\n",
       "UNITE POR LA LIBERTAD Y LA DIGNIDAD                4106\n",
       "Name: VOTOS_AGRUPACION, dtype: int64"
      ]
     },
     "execution_count": 13,
     "metadata": {},
     "output_type": "execute_result"
    }
   ],
   "source": [
    "#Sumo todos los votos de cada agrupación en la comuna 1\n",
    "vot1 = comuna1.groupby([\"NOMBRE_AGRUPACION\"])[\"VOTOS_AGRUPACION\"].sum()\n",
    "vot1"
   ]
  },
  {
   "cell_type": "code",
   "execution_count": 14,
   "id": "13d2ef86",
   "metadata": {},
   "outputs": [
    {
     "data": {
      "text/plain": [
       "NOMBRE_AGRUPACION\n",
       "BLANCO                                             2493\n",
       "CONSENSO FEDERAL                                   6604\n",
       "FRENTE DE IZQUIERDA Y DE TRABAJADORES - UNIDAD     2620\n",
       "FRENTE DE TODOS                                   19615\n",
       "FRENTE NOS                                         1841\n",
       "FRENTE PATRIOTA                                     178\n",
       "IMPUGNADO                                            21\n",
       "JUNTOS POR EL CAMBIO                              65519\n",
       "MOVIMIENTO AL SOCIALISMO                            840\n",
       "MOVIMIENTO DE ACCION VECINAL                         68\n",
       "NULO                                                756\n",
       "PARTIDO AUTONOMISTA                                  73\n",
       "RECURRIDO                                            39\n",
       "UNITE POR LA LIBERTAD Y LA DIGNIDAD                3627\n",
       "Name: VOTOS_AGRUPACION, dtype: int64"
      ]
     },
     "execution_count": 14,
     "metadata": {},
     "output_type": "execute_result"
    }
   ],
   "source": [
    "#Hacemos lo mismo con cada una de las comunas.\n",
    "comuna2 = presi_vice[presi_vice[\"NOMBRE_REGION\"]=='COMUNA 02'] #Comuna 2\n",
    "vot2 = comuna2.groupby([\"NOMBRE_AGRUPACION\"])[\"VOTOS_AGRUPACION\"].sum()\n",
    "vot2"
   ]
  },
  {
   "cell_type": "code",
   "execution_count": 15,
   "id": "a63b0933",
   "metadata": {},
   "outputs": [
    {
     "data": {
      "text/plain": [
       "NOMBRE_AGRUPACION\n",
       "BLANCO                                             3790\n",
       "CONSENSO FEDERAL                                   9685\n",
       "FRENTE DE IZQUIERDA Y DE TRABAJADORES - UNIDAD     5124\n",
       "FRENTE DE TODOS                                   43139\n",
       "FRENTE NOS                                         1419\n",
       "FRENTE PATRIOTA                                     402\n",
       "IMPUGNADO                                             7\n",
       "JUNTOS POR EL CAMBIO                              46502\n",
       "MOVIMIENTO AL SOCIALISMO                           1380\n",
       "MOVIMIENTO DE ACCION VECINAL                        145\n",
       "NULO                                               1299\n",
       "PARTIDO AUTONOMISTA                                 189\n",
       "RECURRIDO                                            25\n",
       "UNITE POR LA LIBERTAD Y LA DIGNIDAD                4051\n",
       "Name: VOTOS_AGRUPACION, dtype: int64"
      ]
     },
     "execution_count": 15,
     "metadata": {},
     "output_type": "execute_result"
    }
   ],
   "source": [
    "comuna3 = presi_vice[presi_vice[\"NOMBRE_REGION\"]=='COMUNA 03'] #Comuna 3\n",
    "vot3 = comuna3.groupby([\"NOMBRE_AGRUPACION\"])[\"VOTOS_AGRUPACION\"].sum()\n",
    "vot3"
   ]
  },
  {
   "cell_type": "code",
   "execution_count": 16,
   "id": "f2189f2b",
   "metadata": {},
   "outputs": [
    {
     "data": {
      "text/plain": [
       "NOMBRE_AGRUPACION\n",
       "BLANCO                                             5801\n",
       "CONSENSO FEDERAL                                  10671\n",
       "FRENTE DE IZQUIERDA Y DE TRABAJADORES - UNIDAD     5798\n",
       "FRENTE DE TODOS                                   57837\n",
       "FRENTE NOS                                         1622\n",
       "FRENTE PATRIOTA                                     443\n",
       "IMPUGNADO                                            35\n",
       "JUNTOS POR EL CAMBIO                              47191\n",
       "MOVIMIENTO AL SOCIALISMO                           1473\n",
       "MOVIMIENTO DE ACCION VECINAL                        234\n",
       "NULO                                               1426\n",
       "PARTIDO AUTONOMISTA                                 198\n",
       "RECURRIDO                                            36\n",
       "UNITE POR LA LIBERTAD Y LA DIGNIDAD                4134\n",
       "Name: VOTOS_AGRUPACION, dtype: int64"
      ]
     },
     "execution_count": 16,
     "metadata": {},
     "output_type": "execute_result"
    }
   ],
   "source": [
    "comuna4 = presi_vice[presi_vice[\"NOMBRE_REGION\"]=='COMUNA 04'] #Comuna 4\n",
    "vot4 = comuna4.groupby([\"NOMBRE_AGRUPACION\"])[\"VOTOS_AGRUPACION\"].sum()\n",
    "vot4"
   ]
  },
  {
   "cell_type": "code",
   "execution_count": 17,
   "id": "dd1dc1a5",
   "metadata": {},
   "outputs": [
    {
     "data": {
      "text/plain": [
       "NOMBRE_AGRUPACION\n",
       "BLANCO                                             2493\n",
       "CONSENSO FEDERAL                                   6604\n",
       "FRENTE DE IZQUIERDA Y DE TRABAJADORES - UNIDAD     2620\n",
       "FRENTE DE TODOS                                   19615\n",
       "FRENTE NOS                                         1841\n",
       "FRENTE PATRIOTA                                     178\n",
       "IMPUGNADO                                            21\n",
       "JUNTOS POR EL CAMBIO                              65519\n",
       "MOVIMIENTO AL SOCIALISMO                            840\n",
       "MOVIMIENTO DE ACCION VECINAL                         68\n",
       "NULO                                                756\n",
       "PARTIDO AUTONOMISTA                                  73\n",
       "RECURRIDO                                            39\n",
       "UNITE POR LA LIBERTAD Y LA DIGNIDAD                3627\n",
       "Name: VOTOS_AGRUPACION, dtype: int64"
      ]
     },
     "execution_count": 17,
     "metadata": {},
     "output_type": "execute_result"
    }
   ],
   "source": [
    "comuna5 = presi_vice[presi_vice[\"NOMBRE_REGION\"]=='COMUNA 05'] #Comuna 5\n",
    "vot5 = comuna2.groupby([\"NOMBRE_AGRUPACION\"])[\"VOTOS_AGRUPACION\"].sum()\n",
    "vot5"
   ]
  },
  {
   "cell_type": "code",
   "execution_count": 18,
   "id": "637d791f",
   "metadata": {},
   "outputs": [
    {
     "data": {
      "text/plain": [
       "NOMBRE_AGRUPACION\n",
       "BLANCO                                             3968\n",
       "CONSENSO FEDERAL                                  12071\n",
       "FRENTE DE IZQUIERDA Y DE TRABAJADORES - UNIDAD     5248\n",
       "FRENTE DE TODOS                                   38548\n",
       "FRENTE NOS                                         1084\n",
       "FRENTE PATRIOTA                                     279\n",
       "IMPUGNADO                                             9\n",
       "JUNTOS POR EL CAMBIO                              58450\n",
       "MOVIMIENTO AL SOCIALISMO                           1721\n",
       "MOVIMIENTO DE ACCION VECINAL                        123\n",
       "NULO                                               1199\n",
       "PARTIDO AUTONOMISTA                                  95\n",
       "RECURRIDO                                            40\n",
       "UNITE POR LA LIBERTAD Y LA DIGNIDAD                4759\n",
       "Name: VOTOS_AGRUPACION, dtype: int64"
      ]
     },
     "execution_count": 18,
     "metadata": {},
     "output_type": "execute_result"
    }
   ],
   "source": [
    "comuna6 = presi_vice[presi_vice[\"NOMBRE_REGION\"]=='COMUNA 06'] #Comuna 6\n",
    "vot6 = comuna6.groupby([\"NOMBRE_AGRUPACION\"])[\"VOTOS_AGRUPACION\"].sum()\n",
    "vot6"
   ]
  },
  {
   "cell_type": "code",
   "execution_count": 19,
   "id": "7e2d4809",
   "metadata": {},
   "outputs": [
    {
     "data": {
      "text/plain": [
       "NOMBRE_AGRUPACION\n",
       "BLANCO                                             4631\n",
       "CONSENSO FEDERAL                                  12772\n",
       "FRENTE DE IZQUIERDA Y DE TRABAJADORES - UNIDAD     5247\n",
       "FRENTE DE TODOS                                   47901\n",
       "FRENTE NOS                                         1444\n",
       "FRENTE PATRIOTA                                     358\n",
       "IMPUGNADO                                            55\n",
       "JUNTOS POR EL CAMBIO                              53251\n",
       "MOVIMIENTO AL SOCIALISMO                           1641\n",
       "MOVIMIENTO DE ACCION VECINAL                        181\n",
       "NULO                                               1325\n",
       "PARTIDO AUTONOMISTA                                 164\n",
       "RECURRIDO                                            52\n",
       "UNITE POR LA LIBERTAD Y LA DIGNIDAD                5099\n",
       "Name: VOTOS_AGRUPACION, dtype: int64"
      ]
     },
     "execution_count": 19,
     "metadata": {},
     "output_type": "execute_result"
    }
   ],
   "source": [
    "comuna7 = presi_vice[presi_vice[\"NOMBRE_REGION\"]=='COMUNA 07'] #Comuna 7\n",
    "vot7 = comuna7.groupby([\"NOMBRE_AGRUPACION\"])[\"VOTOS_AGRUPACION\"].sum()\n",
    "vot7"
   ]
  },
  {
   "cell_type": "code",
   "execution_count": 20,
   "id": "2351681c",
   "metadata": {},
   "outputs": [
    {
     "data": {
      "text/plain": [
       "NOMBRE_AGRUPACION\n",
       "BLANCO                                             3792\n",
       "CONSENSO FEDERAL                                   8297\n",
       "FRENTE DE IZQUIERDA Y DE TRABAJADORES - UNIDAD     4018\n",
       "FRENTE DE TODOS                                   51803\n",
       "FRENTE NOS                                         1421\n",
       "FRENTE PATRIOTA                                     354\n",
       "IMPUGNADO                                            68\n",
       "JUNTOS POR EL CAMBIO                              31848\n",
       "MOVIMIENTO AL SOCIALISMO                            847\n",
       "MOVIMIENTO DE ACCION VECINAL                        224\n",
       "NULO                                               1246\n",
       "PARTIDO AUTONOMISTA                                 193\n",
       "RECURRIDO                                            45\n",
       "UNITE POR LA LIBERTAD Y LA DIGNIDAD                2964\n",
       "Name: VOTOS_AGRUPACION, dtype: int64"
      ]
     },
     "execution_count": 20,
     "metadata": {},
     "output_type": "execute_result"
    }
   ],
   "source": [
    "comuna8 = presi_vice[presi_vice[\"NOMBRE_REGION\"]=='COMUNA 08'] #Comuna 8\n",
    "vot8 = comuna8.groupby([\"NOMBRE_AGRUPACION\"])[\"VOTOS_AGRUPACION\"].sum()\n",
    "vot8"
   ]
  },
  {
   "cell_type": "code",
   "execution_count": 21,
   "id": "4c9a21ca",
   "metadata": {},
   "outputs": [
    {
     "data": {
      "text/plain": [
       "NOMBRE_AGRUPACION\n",
       "BLANCO                                             3818\n",
       "CONSENSO FEDERAL                                  11999\n",
       "FRENTE DE IZQUIERDA Y DE TRABAJADORES - UNIDAD     4568\n",
       "FRENTE DE TODOS                                   44797\n",
       "FRENTE NOS                                         1395\n",
       "FRENTE PATRIOTA                                     389\n",
       "IMPUGNADO                                            30\n",
       "JUNTOS POR EL CAMBIO                              42504\n",
       "MOVIMIENTO AL SOCIALISMO                           1198\n",
       "MOVIMIENTO DE ACCION VECINAL                        160\n",
       "NULO                                               1253\n",
       "PARTIDO AUTONOMISTA                                 138\n",
       "RECURRIDO                                            28\n",
       "UNITE POR LA LIBERTAD Y LA DIGNIDAD                4355\n",
       "Name: VOTOS_AGRUPACION, dtype: int64"
      ]
     },
     "execution_count": 21,
     "metadata": {},
     "output_type": "execute_result"
    }
   ],
   "source": [
    "comuna9 = presi_vice[presi_vice[\"NOMBRE_REGION\"]=='COMUNA 09'] #Comuna 9\n",
    "vot9 = comuna9.groupby([\"NOMBRE_AGRUPACION\"])[\"VOTOS_AGRUPACION\"].sum()\n",
    "vot9"
   ]
  },
  {
   "cell_type": "code",
   "execution_count": 22,
   "id": "2830e76e",
   "metadata": {},
   "outputs": [
    {
     "data": {
      "text/plain": [
       "NOMBRE_AGRUPACION\n",
       "BLANCO                                             2493\n",
       "CONSENSO FEDERAL                                   6604\n",
       "FRENTE DE IZQUIERDA Y DE TRABAJADORES - UNIDAD     2620\n",
       "FRENTE DE TODOS                                   19615\n",
       "FRENTE NOS                                         1841\n",
       "FRENTE PATRIOTA                                     178\n",
       "IMPUGNADO                                            21\n",
       "JUNTOS POR EL CAMBIO                              65519\n",
       "MOVIMIENTO AL SOCIALISMO                            840\n",
       "MOVIMIENTO DE ACCION VECINAL                         68\n",
       "NULO                                                756\n",
       "PARTIDO AUTONOMISTA                                  73\n",
       "RECURRIDO                                            39\n",
       "UNITE POR LA LIBERTAD Y LA DIGNIDAD                3627\n",
       "Name: VOTOS_AGRUPACION, dtype: int64"
      ]
     },
     "execution_count": 22,
     "metadata": {},
     "output_type": "execute_result"
    }
   ],
   "source": [
    "comuna10 = presi_vice[presi_vice[\"NOMBRE_REGION\"]=='COMUNA 10'] #Comuna 10\n",
    "vot10 = comuna2.groupby([\"NOMBRE_AGRUPACION\"])[\"VOTOS_AGRUPACION\"].sum()\n",
    "vot10"
   ]
  },
  {
   "cell_type": "code",
   "execution_count": 23,
   "id": "bb0cb5bf",
   "metadata": {},
   "outputs": [
    {
     "data": {
      "text/plain": [
       "NOMBRE_AGRUPACION\n",
       "BLANCO                                             4363\n",
       "CONSENSO FEDERAL                                  14253\n",
       "FRENTE DE IZQUIERDA Y DE TRABAJADORES - UNIDAD     5461\n",
       "FRENTE DE TODOS                                   42788\n",
       "FRENTE NOS                                         1546\n",
       "FRENTE PATRIOTA                                     393\n",
       "IMPUGNADO                                            21\n",
       "JUNTOS POR EL CAMBIO                              60101\n",
       "MOVIMIENTO AL SOCIALISMO                           1557\n",
       "MOVIMIENTO DE ACCION VECINAL                        185\n",
       "NULO                                               1541\n",
       "PARTIDO AUTONOMISTA                                 156\n",
       "RECURRIDO                                            42\n",
       "UNITE POR LA LIBERTAD Y LA DIGNIDAD                5329\n",
       "Name: VOTOS_AGRUPACION, dtype: int64"
      ]
     },
     "execution_count": 23,
     "metadata": {},
     "output_type": "execute_result"
    }
   ],
   "source": [
    "comuna11 = presi_vice[presi_vice[\"NOMBRE_REGION\"]=='COMUNA 11'] #Comuna 11\n",
    "vot11 = comuna11.groupby([\"NOMBRE_AGRUPACION\"])[\"VOTOS_AGRUPACION\"].sum()\n",
    "vot11"
   ]
  },
  {
   "cell_type": "code",
   "execution_count": 24,
   "id": "b039cc30",
   "metadata": {},
   "outputs": [
    {
     "data": {
      "text/plain": [
       "NOMBRE_AGRUPACION\n",
       "BLANCO                                             4720\n",
       "CONSENSO FEDERAL                                  14814\n",
       "FRENTE DE IZQUIERDA Y DE TRABAJADORES - UNIDAD     6180\n",
       "FRENTE DE TODOS                                   45793\n",
       "FRENTE NOS                                         1621\n",
       "FRENTE PATRIOTA                                     383\n",
       "IMPUGNADO                                            27\n",
       "JUNTOS POR EL CAMBIO                              69058\n",
       "MOVIMIENTO AL SOCIALISMO                           1759\n",
       "MOVIMIENTO DE ACCION VECINAL                        194\n",
       "NULO                                               1527\n",
       "PARTIDO AUTONOMISTA                                 148\n",
       "RECURRIDO                                            33\n",
       "UNITE POR LA LIBERTAD Y LA DIGNIDAD                5902\n",
       "Name: VOTOS_AGRUPACION, dtype: int64"
      ]
     },
     "execution_count": 24,
     "metadata": {},
     "output_type": "execute_result"
    }
   ],
   "source": [
    "comuna12 = presi_vice[presi_vice[\"NOMBRE_REGION\"]=='COMUNA 12'] #Comuna 12\n",
    "vot12 = comuna12.groupby([\"NOMBRE_AGRUPACION\"])[\"VOTOS_AGRUPACION\"].sum()\n",
    "vot12"
   ]
  },
  {
   "cell_type": "code",
   "execution_count": 25,
   "id": "03d867e4",
   "metadata": {},
   "outputs": [
    {
     "data": {
      "text/plain": [
       "NOMBRE_AGRUPACION\n",
       "BLANCO                                             2493\n",
       "CONSENSO FEDERAL                                   6604\n",
       "FRENTE DE IZQUIERDA Y DE TRABAJADORES - UNIDAD     2620\n",
       "FRENTE DE TODOS                                   19615\n",
       "FRENTE NOS                                         1841\n",
       "FRENTE PATRIOTA                                     178\n",
       "IMPUGNADO                                            21\n",
       "JUNTOS POR EL CAMBIO                              65519\n",
       "MOVIMIENTO AL SOCIALISMO                            840\n",
       "MOVIMIENTO DE ACCION VECINAL                         68\n",
       "NULO                                                756\n",
       "PARTIDO AUTONOMISTA                                  73\n",
       "RECURRIDO                                            39\n",
       "UNITE POR LA LIBERTAD Y LA DIGNIDAD                3627\n",
       "Name: VOTOS_AGRUPACION, dtype: int64"
      ]
     },
     "execution_count": 25,
     "metadata": {},
     "output_type": "execute_result"
    }
   ],
   "source": [
    "comuna13 = presi_vice[presi_vice[\"NOMBRE_REGION\"]=='COMUNA 13'] #Comuna 13\n",
    "vot13 = comuna2.groupby([\"NOMBRE_AGRUPACION\"])[\"VOTOS_AGRUPACION\"].sum()\n",
    "vot13"
   ]
  },
  {
   "cell_type": "code",
   "execution_count": 26,
   "id": "d9c1e5fc",
   "metadata": {},
   "outputs": [
    {
     "data": {
      "text/plain": [
       "NOMBRE_AGRUPACION\n",
       "BLANCO                                             4102\n",
       "CONSENSO FEDERAL                                  11017\n",
       "FRENTE DE IZQUIERDA Y DE TRABAJADORES - UNIDAD     4675\n",
       "FRENTE DE TODOS                                   35605\n",
       "FRENTE NOS                                         1777\n",
       "FRENTE PATRIOTA                                     298\n",
       "IMPUGNADO                                            26\n",
       "JUNTOS POR EL CAMBIO                              90998\n",
       "MOVIMIENTO AL SOCIALISMO                           1453\n",
       "MOVIMIENTO DE ACCION VECINAL                        126\n",
       "NULO                                               1222\n",
       "PARTIDO AUTONOMISTA                                 112\n",
       "RECURRIDO                                            39\n",
       "UNITE POR LA LIBERTAD Y LA DIGNIDAD                5334\n",
       "Name: VOTOS_AGRUPACION, dtype: int64"
      ]
     },
     "execution_count": 26,
     "metadata": {},
     "output_type": "execute_result"
    }
   ],
   "source": [
    "comuna14 = presi_vice[presi_vice[\"NOMBRE_REGION\"]=='COMUNA 14'] #Comuna 14\n",
    "vot14 = comuna14.groupby([\"NOMBRE_AGRUPACION\"])[\"VOTOS_AGRUPACION\"].sum()\n",
    "vot14"
   ]
  },
  {
   "cell_type": "code",
   "execution_count": 27,
   "id": "3726defd",
   "metadata": {},
   "outputs": [
    {
     "data": {
      "text/plain": [
       "NOMBRE_AGRUPACION\n",
       "BLANCO                                             4509\n",
       "CONSENSO FEDERAL                                  11488\n",
       "FRENTE DE IZQUIERDA Y DE TRABAJADORES - UNIDAD     6094\n",
       "FRENTE DE TODOS                                   47133\n",
       "FRENTE NOS                                         1074\n",
       "FRENTE PATRIOTA                                     335\n",
       "IMPUGNADO                                            16\n",
       "JUNTOS POR EL CAMBIO                              50344\n",
       "MOVIMIENTO AL SOCIALISMO                           1648\n",
       "MOVIMIENTO DE ACCION VECINAL                        159\n",
       "NULO                                               1358\n",
       "PARTIDO AUTONOMISTA                                 125\n",
       "RECURRIDO                                            61\n",
       "UNITE POR LA LIBERTAD Y LA DIGNIDAD                4203\n",
       "Name: VOTOS_AGRUPACION, dtype: int64"
      ]
     },
     "execution_count": 27,
     "metadata": {},
     "output_type": "execute_result"
    }
   ],
   "source": [
    "comuna15 = presi_vice[presi_vice[\"NOMBRE_REGION\"]=='COMUNA 15'] #Comuna 15\n",
    "vot15 = comuna15.groupby([\"NOMBRE_AGRUPACION\"])[\"VOTOS_AGRUPACION\"].sum()\n",
    "vot15"
   ]
  },
  {
   "cell_type": "code",
   "execution_count": 28,
   "id": "014b362b",
   "metadata": {},
   "outputs": [
    {
     "name": "stderr",
     "output_type": "stream",
     "text": [
      "Matplotlib is building the font cache; this may take a moment.\n"
     ]
    }
   ],
   "source": [
    "import os\n",
    "import seaborn as sns\n",
    "import matplotlib.pyplot as plt"
   ]
  },
  {
   "cell_type": "code",
   "execution_count": 66,
   "id": "2b998d81",
   "metadata": {},
   "outputs": [
    {
     "ename": "KeyError",
     "evalue": "'VOTOS_AGRUPACION'",
     "output_type": "error",
     "traceback": [
      "\u001b[1;31m---------------------------------------------------------------------------\u001b[0m",
      "\u001b[1;31mKeyError\u001b[0m                                  Traceback (most recent call last)",
      "\u001b[1;32m~\\anaconda3\\lib\\site-packages\\pandas\\core\\indexes\\base.py\u001b[0m in \u001b[0;36mget_loc\u001b[1;34m(self, key, method, tolerance)\u001b[0m\n\u001b[0;32m   3079\u001b[0m             \u001b[1;32mtry\u001b[0m\u001b[1;33m:\u001b[0m\u001b[1;33m\u001b[0m\u001b[1;33m\u001b[0m\u001b[0m\n\u001b[1;32m-> 3080\u001b[1;33m                 \u001b[1;32mreturn\u001b[0m \u001b[0mself\u001b[0m\u001b[1;33m.\u001b[0m\u001b[0m_engine\u001b[0m\u001b[1;33m.\u001b[0m\u001b[0mget_loc\u001b[0m\u001b[1;33m(\u001b[0m\u001b[0mcasted_key\u001b[0m\u001b[1;33m)\u001b[0m\u001b[1;33m\u001b[0m\u001b[1;33m\u001b[0m\u001b[0m\n\u001b[0m\u001b[0;32m   3081\u001b[0m             \u001b[1;32mexcept\u001b[0m \u001b[0mKeyError\u001b[0m \u001b[1;32mas\u001b[0m \u001b[0merr\u001b[0m\u001b[1;33m:\u001b[0m\u001b[1;33m\u001b[0m\u001b[1;33m\u001b[0m\u001b[0m\n",
      "\u001b[1;32mpandas\\_libs\\index.pyx\u001b[0m in \u001b[0;36mpandas._libs.index.IndexEngine.get_loc\u001b[1;34m()\u001b[0m\n",
      "\u001b[1;32mpandas\\_libs\\index.pyx\u001b[0m in \u001b[0;36mpandas._libs.index.IndexEngine.get_loc\u001b[1;34m()\u001b[0m\n",
      "\u001b[1;32mpandas\\_libs\\hashtable_class_helper.pxi\u001b[0m in \u001b[0;36mpandas._libs.hashtable.PyObjectHashTable.get_item\u001b[1;34m()\u001b[0m\n",
      "\u001b[1;32mpandas\\_libs\\hashtable_class_helper.pxi\u001b[0m in \u001b[0;36mpandas._libs.hashtable.PyObjectHashTable.get_item\u001b[1;34m()\u001b[0m\n",
      "\u001b[1;31mKeyError\u001b[0m: 'VOTOS_AGRUPACION'",
      "\nThe above exception was the direct cause of the following exception:\n",
      "\u001b[1;31mKeyError\u001b[0m                                  Traceback (most recent call last)",
      "\u001b[1;32m<ipython-input-66-8b450f87e27b>\u001b[0m in \u001b[0;36m<module>\u001b[1;34m\u001b[0m\n\u001b[0;32m      1\u001b[0m \u001b[0mfig\u001b[0m\u001b[1;33m,\u001b[0m \u001b[0maxes\u001b[0m \u001b[1;33m=\u001b[0m \u001b[0mplt\u001b[0m\u001b[1;33m.\u001b[0m\u001b[0msubplots\u001b[0m\u001b[1;33m(\u001b[0m\u001b[1;36m2\u001b[0m\u001b[1;33m,\u001b[0m \u001b[1;36m2\u001b[0m\u001b[1;33m,\u001b[0m \u001b[0mfigsize\u001b[0m\u001b[1;33m=\u001b[0m\u001b[1;33m(\u001b[0m\u001b[1;36m12\u001b[0m\u001b[1;33m,\u001b[0m \u001b[1;36m7\u001b[0m\u001b[1;33m)\u001b[0m\u001b[1;33m)\u001b[0m\u001b[1;33m\u001b[0m\u001b[1;33m\u001b[0m\u001b[0m\n\u001b[0;32m      2\u001b[0m \u001b[1;33m\u001b[0m\u001b[0m\n\u001b[1;32m----> 3\u001b[1;33m \u001b[0ma\u001b[0m \u001b[1;33m=\u001b[0m \u001b[0mvot1\u001b[0m\u001b[1;33m[\u001b[0m\u001b[1;34m'VOTOS_AGRUPACION'\u001b[0m\u001b[1;33m]\u001b[0m\u001b[1;33m.\u001b[0m\u001b[0mvalues\u001b[0m\u001b[1;33m\u001b[0m\u001b[1;33m\u001b[0m\u001b[0m\n\u001b[0m\u001b[0;32m      4\u001b[0m \u001b[0mb\u001b[0m \u001b[1;33m=\u001b[0m \u001b[0mvot1\u001b[0m\u001b[1;33m[\u001b[0m\u001b[1;34m'inversion_relativa'\u001b[0m\u001b[1;33m]\u001b[0m\u001b[1;33m.\u001b[0m\u001b[0mvalues\u001b[0m\u001b[1;33m\u001b[0m\u001b[1;33m\u001b[0m\u001b[0m\n\u001b[0;32m      5\u001b[0m \u001b[0mc\u001b[0m \u001b[1;33m=\u001b[0m \u001b[0mvot1\u001b[0m\u001b[1;33m[\u001b[0m\u001b[1;34m'inversion_abs'\u001b[0m\u001b[1;33m]\u001b[0m\u001b[1;33m.\u001b[0m\u001b[0mvalues\u001b[0m\u001b[1;33m\u001b[0m\u001b[1;33m\u001b[0m\u001b[0m\n",
      "\u001b[1;32m~\\anaconda3\\lib\\site-packages\\pandas\\core\\series.py\u001b[0m in \u001b[0;36m__getitem__\u001b[1;34m(self, key)\u001b[0m\n\u001b[0;32m    851\u001b[0m \u001b[1;33m\u001b[0m\u001b[0m\n\u001b[0;32m    852\u001b[0m         \u001b[1;32melif\u001b[0m \u001b[0mkey_is_scalar\u001b[0m\u001b[1;33m:\u001b[0m\u001b[1;33m\u001b[0m\u001b[1;33m\u001b[0m\u001b[0m\n\u001b[1;32m--> 853\u001b[1;33m             \u001b[1;32mreturn\u001b[0m \u001b[0mself\u001b[0m\u001b[1;33m.\u001b[0m\u001b[0m_get_value\u001b[0m\u001b[1;33m(\u001b[0m\u001b[0mkey\u001b[0m\u001b[1;33m)\u001b[0m\u001b[1;33m\u001b[0m\u001b[1;33m\u001b[0m\u001b[0m\n\u001b[0m\u001b[0;32m    854\u001b[0m \u001b[1;33m\u001b[0m\u001b[0m\n\u001b[0;32m    855\u001b[0m         \u001b[1;32mif\u001b[0m \u001b[0mis_hashable\u001b[0m\u001b[1;33m(\u001b[0m\u001b[0mkey\u001b[0m\u001b[1;33m)\u001b[0m\u001b[1;33m:\u001b[0m\u001b[1;33m\u001b[0m\u001b[1;33m\u001b[0m\u001b[0m\n",
      "\u001b[1;32m~\\anaconda3\\lib\\site-packages\\pandas\\core\\series.py\u001b[0m in \u001b[0;36m_get_value\u001b[1;34m(self, label, takeable)\u001b[0m\n\u001b[0;32m    959\u001b[0m \u001b[1;33m\u001b[0m\u001b[0m\n\u001b[0;32m    960\u001b[0m         \u001b[1;31m# Similar to Index.get_value, but we do not fall back to positional\u001b[0m\u001b[1;33m\u001b[0m\u001b[1;33m\u001b[0m\u001b[1;33m\u001b[0m\u001b[0m\n\u001b[1;32m--> 961\u001b[1;33m         \u001b[0mloc\u001b[0m \u001b[1;33m=\u001b[0m \u001b[0mself\u001b[0m\u001b[1;33m.\u001b[0m\u001b[0mindex\u001b[0m\u001b[1;33m.\u001b[0m\u001b[0mget_loc\u001b[0m\u001b[1;33m(\u001b[0m\u001b[0mlabel\u001b[0m\u001b[1;33m)\u001b[0m\u001b[1;33m\u001b[0m\u001b[1;33m\u001b[0m\u001b[0m\n\u001b[0m\u001b[0;32m    962\u001b[0m         \u001b[1;32mreturn\u001b[0m \u001b[0mself\u001b[0m\u001b[1;33m.\u001b[0m\u001b[0mindex\u001b[0m\u001b[1;33m.\u001b[0m\u001b[0m_get_values_for_loc\u001b[0m\u001b[1;33m(\u001b[0m\u001b[0mself\u001b[0m\u001b[1;33m,\u001b[0m \u001b[0mloc\u001b[0m\u001b[1;33m,\u001b[0m \u001b[0mlabel\u001b[0m\u001b[1;33m)\u001b[0m\u001b[1;33m\u001b[0m\u001b[1;33m\u001b[0m\u001b[0m\n\u001b[0;32m    963\u001b[0m \u001b[1;33m\u001b[0m\u001b[0m\n",
      "\u001b[1;32m~\\anaconda3\\lib\\site-packages\\pandas\\core\\indexes\\base.py\u001b[0m in \u001b[0;36mget_loc\u001b[1;34m(self, key, method, tolerance)\u001b[0m\n\u001b[0;32m   3080\u001b[0m                 \u001b[1;32mreturn\u001b[0m \u001b[0mself\u001b[0m\u001b[1;33m.\u001b[0m\u001b[0m_engine\u001b[0m\u001b[1;33m.\u001b[0m\u001b[0mget_loc\u001b[0m\u001b[1;33m(\u001b[0m\u001b[0mcasted_key\u001b[0m\u001b[1;33m)\u001b[0m\u001b[1;33m\u001b[0m\u001b[1;33m\u001b[0m\u001b[0m\n\u001b[0;32m   3081\u001b[0m             \u001b[1;32mexcept\u001b[0m \u001b[0mKeyError\u001b[0m \u001b[1;32mas\u001b[0m \u001b[0merr\u001b[0m\u001b[1;33m:\u001b[0m\u001b[1;33m\u001b[0m\u001b[1;33m\u001b[0m\u001b[0m\n\u001b[1;32m-> 3082\u001b[1;33m                 \u001b[1;32mraise\u001b[0m \u001b[0mKeyError\u001b[0m\u001b[1;33m(\u001b[0m\u001b[0mkey\u001b[0m\u001b[1;33m)\u001b[0m \u001b[1;32mfrom\u001b[0m \u001b[0merr\u001b[0m\u001b[1;33m\u001b[0m\u001b[1;33m\u001b[0m\u001b[0m\n\u001b[0m\u001b[0;32m   3083\u001b[0m \u001b[1;33m\u001b[0m\u001b[0m\n\u001b[0;32m   3084\u001b[0m         \u001b[1;32mif\u001b[0m \u001b[0mtolerance\u001b[0m \u001b[1;32mis\u001b[0m \u001b[1;32mnot\u001b[0m \u001b[1;32mNone\u001b[0m\u001b[1;33m:\u001b[0m\u001b[1;33m\u001b[0m\u001b[1;33m\u001b[0m\u001b[0m\n",
      "\u001b[1;31mKeyError\u001b[0m: 'VOTOS_AGRUPACION'"
     ]
    },
    {
     "data": {
      "image/png": "[encoded data removed]",
      "text/plain": [
       "<Figure size 864x504 with 4 Axes>"
      ]
     },
     "metadata": {},
     "output_type": "display_data"
    }
   ],
   "source": [
    "fig, axes = plt.subplots(2, 2, figsize=(12, 7))\n",
    "\n",
    "a = vot1['valor'].values\n",
    "b = vot1['inversion_relativa'].values\n",
    "c = vot1['inversion_abs'].values\n",
    "\n",
    "# plot a\n",
    "sns.histplot(a, color = 'blue', ax=axes[None])\n",
    "\n",
    "# plot b\n",
    "sns.histplot(b, color = 'blue', ax=axes[None])\n",
    "\n",
    "# plot c\n",
    "sns.histplot(c, color = 'blue', ax=axes[None])\n",
    "\n",
    "# plot d\n",
    "sns.boxplot(x=\"VOTOS_AGRUPACION\", y=\"NOMBRE_AGRUPACION\", data=vot1, color = 'green', ax=axes[1,1])"
   ]
  },
  {
   "cell_type": "code",
   "execution_count": 67,
   "id": "483fe3cc",
   "metadata": {},
   "outputs": [
    {
     "data": {
      "text/plain": [
       "<seaborn.axisgrid.FacetGrid at 0x257c006cfd0>"
      ]
     },
     "execution_count": 67,
     "metadata": {},
     "output_type": "execute_result"
    },
    {
     "data": {
      "image/png": "[encoded data removed]",
      "text/plain": [
       "<Figure size 360x360 with 1 Axes>"
      ]
     },
     "metadata": {},
     "output_type": "display_data"
    }
   ],
   "source": [
    "base_limpia \n",
    "\n",
    "sns.set(style=\"darkgrid\")\n",
    "\n",
    "sns.catplot(x=\"NOMBRE_AGRUPACION\",y=\"VOTOS_AGRUPACION\",data=base_limpia)\n",
    "#con la base limpia no me daba error, con vot1 me aparecia error con \"nombre_agrupacion\" sera porque es solo para numeros y no datos categoricos?\n"
   ]
  },
  {
   "cell_type": "code",
   "execution_count": 53,
   "id": "6ea738ed",
   "metadata": {},
   "outputs": [
    {
     "data": {
      "text/plain": [
       "count       14.000000\n",
       "mean      8716.714286\n",
       "std      17158.254759\n",
       "min         14.000000\n",
       "25%        214.000000\n",
       "50%       1474.500000\n",
       "75%       4302.500000\n",
       "max      54568.000000\n",
       "Name: VOTOS_AGRUPACION, dtype: float64"
      ]
     },
     "execution_count": 53,
     "metadata": {},
     "output_type": "execute_result"
    }
   ],
   "source": [
    "vot1.describe() #informacion de datos\n"
   ]
  },
  {
   "cell_type": "code",
   "execution_count": 72,
   "id": "4df93a31",
   "metadata": {},
   "outputs": [
    {
     "ename": "ValueError",
     "evalue": "Could not interpret input 'NOMBRE_REGION'",
     "output_type": "error",
     "traceback": [
      "\u001b[1;31m---------------------------------------------------------------------------\u001b[0m",
      "\u001b[1;31mValueError\u001b[0m                                Traceback (most recent call last)",
      "\u001b[1;32m<ipython-input-72-26b19cf04f85>\u001b[0m in \u001b[0;36m<module>\u001b[1;34m\u001b[0m\n\u001b[0;32m      1\u001b[0m \u001b[0mplt\u001b[0m\u001b[1;33m.\u001b[0m\u001b[0mfigure\u001b[0m\u001b[1;33m(\u001b[0m\u001b[0mfigsize\u001b[0m\u001b[1;33m=\u001b[0m\u001b[1;33m(\u001b[0m\u001b[1;36m25\u001b[0m\u001b[1;33m,\u001b[0m\u001b[1;36m15\u001b[0m\u001b[1;33m)\u001b[0m\u001b[1;33m)\u001b[0m\u001b[1;33m\u001b[0m\u001b[1;33m\u001b[0m\u001b[0m\n\u001b[1;32m----> 2\u001b[1;33m \u001b[0mfig2\u001b[0m\u001b[1;33m=\u001b[0m\u001b[0msns\u001b[0m\u001b[1;33m.\u001b[0m\u001b[0mcatplot\u001b[0m\u001b[1;33m(\u001b[0m\u001b[0mx\u001b[0m\u001b[1;33m=\u001b[0m\u001b[1;34m\"NOMBRE_REGION\"\u001b[0m\u001b[1;33m,\u001b[0m \u001b[0my\u001b[0m\u001b[1;33m=\u001b[0m\u001b[1;34m\"VOTOS_AGRUPACION\"\u001b[0m\u001b[1;33m,\u001b[0m\u001b[0mkind\u001b[0m\u001b[1;33m=\u001b[0m\u001b[1;34m\"bar\"\u001b[0m\u001b[1;33m,\u001b[0m\u001b[0mdata\u001b[0m\u001b[1;33m=\u001b[0m\u001b[0mvot1\u001b[0m\u001b[1;33m,\u001b[0m\u001b[0mcol\u001b[0m\u001b[1;33m=\u001b[0m\u001b[1;34m\"NOMBRE_REGION\"\u001b[0m\u001b[1;33m,\u001b[0m\u001b[0mpalette\u001b[0m\u001b[1;33m=\u001b[0m\u001b[1;34m\"icefire\"\u001b[0m\u001b[1;33m)\u001b[0m\u001b[1;33m\u001b[0m\u001b[1;33m\u001b[0m\u001b[0m\n\u001b[0m\u001b[0;32m      3\u001b[0m \u001b[0mfig2\u001b[0m\u001b[1;33m.\u001b[0m\u001b[0mset_xticklabels\u001b[0m\u001b[1;33m(\u001b[0m\u001b[0mbase_limpia\u001b[0m\u001b[1;33m.\u001b[0m\u001b[0mNOMBRE_REGION\u001b[0m\u001b[1;33m,\u001b[0m \u001b[0mrotation\u001b[0m\u001b[1;33m=\u001b[0m\u001b[1;36m45\u001b[0m\u001b[1;33m,\u001b[0m\u001b[0mha\u001b[0m\u001b[1;33m=\u001b[0m\u001b[1;34m\"right\"\u001b[0m\u001b[1;33m)\u001b[0m\u001b[1;33m\u001b[0m\u001b[1;33m\u001b[0m\u001b[0m\n",
      "\u001b[1;32m~\\anaconda3\\lib\\site-packages\\seaborn\\_decorators.py\u001b[0m in \u001b[0;36minner_f\u001b[1;34m(*args, **kwargs)\u001b[0m\n\u001b[0;32m     44\u001b[0m             )\n\u001b[0;32m     45\u001b[0m         \u001b[0mkwargs\u001b[0m\u001b[1;33m.\u001b[0m\u001b[0mupdate\u001b[0m\u001b[1;33m(\u001b[0m\u001b[1;33m{\u001b[0m\u001b[0mk\u001b[0m\u001b[1;33m:\u001b[0m \u001b[0marg\u001b[0m \u001b[1;32mfor\u001b[0m \u001b[0mk\u001b[0m\u001b[1;33m,\u001b[0m \u001b[0marg\u001b[0m \u001b[1;32min\u001b[0m \u001b[0mzip\u001b[0m\u001b[1;33m(\u001b[0m\u001b[0msig\u001b[0m\u001b[1;33m.\u001b[0m\u001b[0mparameters\u001b[0m\u001b[1;33m,\u001b[0m \u001b[0margs\u001b[0m\u001b[1;33m)\u001b[0m\u001b[1;33m}\u001b[0m\u001b[1;33m)\u001b[0m\u001b[1;33m\u001b[0m\u001b[1;33m\u001b[0m\u001b[0m\n\u001b[1;32m---> 46\u001b[1;33m         \u001b[1;32mreturn\u001b[0m \u001b[0mf\u001b[0m\u001b[1;33m(\u001b[0m\u001b[1;33m**\u001b[0m\u001b[0mkwargs\u001b[0m\u001b[1;33m)\u001b[0m\u001b[1;33m\u001b[0m\u001b[1;33m\u001b[0m\u001b[0m\n\u001b[0m\u001b[0;32m     47\u001b[0m     \u001b[1;32mreturn\u001b[0m \u001b[0minner_f\u001b[0m\u001b[1;33m\u001b[0m\u001b[1;33m\u001b[0m\u001b[0m\n\u001b[0;32m     48\u001b[0m \u001b[1;33m\u001b[0m\u001b[0m\n",
      "\u001b[1;32m~\\anaconda3\\lib\\site-packages\\seaborn\\categorical.py\u001b[0m in \u001b[0;36mcatplot\u001b[1;34m(x, y, hue, data, row, col, col_wrap, estimator, ci, n_boot, units, seed, order, hue_order, row_order, col_order, kind, height, aspect, orient, color, palette, legend, legend_out, sharex, sharey, margin_titles, facet_kws, **kwargs)\u001b[0m\n\u001b[0;32m   3787\u001b[0m     \u001b[0mp\u001b[0m \u001b[1;33m=\u001b[0m \u001b[0m_CategoricalPlotter\u001b[0m\u001b[1;33m(\u001b[0m\u001b[1;33m)\u001b[0m\u001b[1;33m\u001b[0m\u001b[1;33m\u001b[0m\u001b[0m\n\u001b[0;32m   3788\u001b[0m     \u001b[0mp\u001b[0m\u001b[1;33m.\u001b[0m\u001b[0mrequire_numeric\u001b[0m \u001b[1;33m=\u001b[0m \u001b[0mplotter_class\u001b[0m\u001b[1;33m.\u001b[0m\u001b[0mrequire_numeric\u001b[0m\u001b[1;33m\u001b[0m\u001b[1;33m\u001b[0m\u001b[0m\n\u001b[1;32m-> 3789\u001b[1;33m     \u001b[0mp\u001b[0m\u001b[1;33m.\u001b[0m\u001b[0mestablish_variables\u001b[0m\u001b[1;33m(\u001b[0m\u001b[0mx_\u001b[0m\u001b[1;33m,\u001b[0m \u001b[0my_\u001b[0m\u001b[1;33m,\u001b[0m \u001b[0mhue\u001b[0m\u001b[1;33m,\u001b[0m \u001b[0mdata\u001b[0m\u001b[1;33m,\u001b[0m \u001b[0morient\u001b[0m\u001b[1;33m,\u001b[0m \u001b[0morder\u001b[0m\u001b[1;33m,\u001b[0m \u001b[0mhue_order\u001b[0m\u001b[1;33m)\u001b[0m\u001b[1;33m\u001b[0m\u001b[1;33m\u001b[0m\u001b[0m\n\u001b[0m\u001b[0;32m   3790\u001b[0m     if (\n\u001b[0;32m   3791\u001b[0m         \u001b[0morder\u001b[0m \u001b[1;32mis\u001b[0m \u001b[1;32mnot\u001b[0m \u001b[1;32mNone\u001b[0m\u001b[1;33m\u001b[0m\u001b[1;33m\u001b[0m\u001b[0m\n",
      "\u001b[1;32m~\\anaconda3\\lib\\site-packages\\seaborn\\categorical.py\u001b[0m in \u001b[0;36mestablish_variables\u001b[1;34m(self, x, y, hue, data, orient, order, hue_order, units)\u001b[0m\n\u001b[0;32m    151\u001b[0m                 \u001b[1;32mif\u001b[0m \u001b[0misinstance\u001b[0m\u001b[1;33m(\u001b[0m\u001b[0mvar\u001b[0m\u001b[1;33m,\u001b[0m \u001b[0mstr\u001b[0m\u001b[1;33m)\u001b[0m\u001b[1;33m:\u001b[0m\u001b[1;33m\u001b[0m\u001b[1;33m\u001b[0m\u001b[0m\n\u001b[0;32m    152\u001b[0m                     \u001b[0merr\u001b[0m \u001b[1;33m=\u001b[0m \u001b[1;34m\"Could not interpret input '{}'\"\u001b[0m\u001b[1;33m.\u001b[0m\u001b[0mformat\u001b[0m\u001b[1;33m(\u001b[0m\u001b[0mvar\u001b[0m\u001b[1;33m)\u001b[0m\u001b[1;33m\u001b[0m\u001b[1;33m\u001b[0m\u001b[0m\n\u001b[1;32m--> 153\u001b[1;33m                     \u001b[1;32mraise\u001b[0m \u001b[0mValueError\u001b[0m\u001b[1;33m(\u001b[0m\u001b[0merr\u001b[0m\u001b[1;33m)\u001b[0m\u001b[1;33m\u001b[0m\u001b[1;33m\u001b[0m\u001b[0m\n\u001b[0m\u001b[0;32m    154\u001b[0m \u001b[1;33m\u001b[0m\u001b[0m\n\u001b[0;32m    155\u001b[0m             \u001b[1;31m# Figure out the plotting orientation\u001b[0m\u001b[1;33m\u001b[0m\u001b[1;33m\u001b[0m\u001b[1;33m\u001b[0m\u001b[0m\n",
      "\u001b[1;31mValueError\u001b[0m: Could not interpret input 'NOMBRE_REGION'"
     ]
    },
    {
     "data": {
      "text/plain": [
       "<Figure size 1800x1080 with 0 Axes>"
      ]
     },
     "metadata": {},
     "output_type": "display_data"
    }
   ],
   "source": [
    "plt.figure(figsize=(25,15))\n",
    "fig2=sns.catplot(x=\"NOMBRE_AGRUPACION\", y=\"VOTOS_AGRUPACION\",kind=\"bar\",data=vot1,col=\"NOMBRE_REGION\",palette=\"icefire\")\n",
    "fig2.set_xticklabels(vot1.NOMBRE_AGRUPACION, rotation=45,ha=\"right\")"
   ]
  },
  {
   "cell_type": "code",
   "execution_count": null,
   "id": "691d2f76",
   "metadata": {},
   "outputs": [],
   "source": []
  },
  {
   "cell_type": "code",
   "execution_count": null,
   "id": "8022d140",
   "metadata": {},
   "outputs": [],
   "source": []
  }
 ],
 "metadata": {
  "interpreter": {
   "hash": "f9cdabf1c00ea275d2f1f13cd64178184616e8297363ef177075a22a00813341"
  },
  "kernelspec": {
   "display_name": "Python 3",
   "language": "python",
   "name": "python3"
  },
  "language_info": {
   "codemirror_mode": {
    "name": "ipython",
    "version": 3
   },
   "file_extension": ".py",
   "mimetype": "text/x-python",
   "name": "python",
   "nbconvert_exporter": "python",
   "pygments_lexer": "ipython3",
   "version": "3.8.8"
  }
 },
 "nbformat": 4,
 "nbformat_minor": 5
}
